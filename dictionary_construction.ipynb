{
 "cells": [
  {
   "cell_type": "markdown",
   "metadata": {},
   "source": [
    "# 1.) Construction of the Extended Moral Foundations Dicitonary (E-MFD)\n",
    "\n",
    "\n",
    "In this notebook, we show the steps applied to construct the E-MFD and encourage readers to read through the steps for enhanced clarity."
   ]
  },
  {
   "cell_type": "markdown",
   "metadata": {},
   "source": [
    "We begin with importing all packages that are relevant for this notebook"
   ]
  },
  {
   "cell_type": "code",
   "execution_count": 1,
   "metadata": {},
   "outputs": [],
   "source": [
    "import pandas as pd\n",
    "import numpy as np\n",
    "\n",
    "# Plotting\n",
    "from matplotlib import pyplot as plt\n",
    "import seaborn as sns\n",
    "\n",
    "# NLP\n",
    "import spacy, re, fnmatch \n",
    "nlp = spacy.load('en')\n",
    "from nltk.sentiment.vader import SentimentIntensityAnalyzer\n",
    "from string import punctuation\n",
    "from sklearn.feature_extraction.text import CountVectorizer\n",
    "\n",
    "# Stopwords \n",
    "from nltk.corpus import stopwords\n",
    "nltk_stopwords = stopwords.words('english')\n",
    "from sklearn.feature_extraction.stop_words import ENGLISH_STOP_WORDS\n",
    "from spacy.lang.en.stop_words import STOP_WORDS"
   ]
  },
  {
   "cell_type": "markdown",
   "metadata": {},
   "source": [
    "## Load and Preprocess Highlights"
   ]
  },
  {
   "cell_type": "markdown",
   "metadata": {},
   "source": [
    "In the below cell, we load all raw highlights (`hl`) and only select highlights from coders that spent at least 45 minutes using the MoNA Platform. We then make sure that each document has been coded by at least two coders that differed in their assigned foundation. Finally, we perform named entity recognication to obtain a list of all entities that were mentioned in the news articles. "
   ]
  },
  {
   "cell_type": "code",
   "execution_count": 2,
   "metadata": {},
   "outputs": [
    {
     "name": "stdout",
     "output_type": "stream",
     "text": [
      "Starting highlight preprocessing. This will take a few minutes.\n",
      "Total number of highlights before preprocessing: 73001\n",
      "NER completed.\n"
     ]
    }
   ],
   "source": [
    "# Load Highlights\n",
    "hl = pd.read_csv('data/highlights_raw.csv')\n",
    "print(\"Starting highlight preprocessing. This will take a few minutes.\")\n",
    "print('Total number of highlights before preprocessing:', len(hl))\n",
    "hl = hl[hl.focus_duration >= 45*60]\n",
    "\n",
    "# Filter unique coders and assigned foundation per document\n",
    "grouped_doc = hl.groupby(hl.document_id).nunique()\n",
    "grouped_doc = grouped_doc[grouped_doc.assigned_domain >= 2]\n",
    "grouped_doc = grouped_doc[np.logical_and(grouped_doc.coder_id <= 15, grouped_doc.coder_id >= 2)]\n",
    "\n",
    "keep_docs = grouped_doc.index.values\n",
    "hl = hl[hl.document_id.isin(keep_docs)]\n",
    "\n",
    "# Remove entities from highlights\n",
    "entities = []\n",
    "for doc in nlp.pipe(hl['content'].astype('unicode').values, disable=['tagger', 'parser','textcat'],\n",
    "                    batch_size=1000, n_threads=-1):\n",
    "    entities.append(list(zip([ent.text for ent in doc.ents],[ent.label_ for ent in doc.ents])))\n",
    "\n",
    "print('NER completed.')"
   ]
  },
  {
   "cell_type": "markdown",
   "metadata": {},
   "source": [
    "Next, we remove all persons and named entities that were mentioned in the highlights."
   ]
  },
  {
   "cell_type": "code",
   "execution_count": 3,
   "metadata": {},
   "outputs": [
    {
     "name": "stdout",
     "output_type": "stream",
     "text": [
      "Punctuation and white-space removal completed.\n"
     ]
    }
   ],
   "source": [
    "entities = [ent for highlight in entities for ent in highlight]\n",
    "rem_entities = []\n",
    "for ent in entities:\n",
    "    if ent[1] != 'PRODUCT' and len(ent[0]) >= 3:\n",
    "        rem_entities.append(ent)  \n",
    "        \n",
    "rem_entities = [x[0] for x in set(rem_entities)]\n",
    "rem_entities = [x.replace('(','') for x in rem_entities]\n",
    "rem_entities = [x.replace(')','') for x in rem_entities]\n",
    "\n",
    "hl['content'] = hl['content'].str.replace(')','')\n",
    "hl['content'] = hl['content'].str.replace('(','')\n",
    "\n",
    "for ent in rem_entities:\n",
    "    pat = r\"\\b\"+ ent + r\"\\b\"\n",
    "    hl['content'] = hl['content'].str.replace(pat,'') \n",
    "\n",
    "# Remove Punctuations\n",
    "punctuation += '’'\n",
    "punctuation = punctuation.replace('\\'','')\n",
    "punctuation = punctuation.replace('-','')\n",
    "for punct in punctuation:\n",
    "    hl['content'] = hl['content'].str.replace(punct,'')\n",
    "\n",
    "hl['content'] = hl['content'].str.replace(r\"\\s+\",\" \")    \n",
    "print('Punctuation and white-space removal completed.')"
   ]
  },
  {
   "cell_type": "markdown",
   "metadata": {},
   "source": [
    "Now, we perform `Part-of-Speech` tagging on each word that is contained in the highlights."
   ]
  },
  {
   "cell_type": "code",
   "execution_count": 4,
   "metadata": {},
   "outputs": [
    {
     "name": "stdout",
     "output_type": "stream",
     "text": [
      "POS Tagging completed.\n"
     ]
    }
   ],
   "source": [
    "# POS Tagging\n",
    "tokens = []\n",
    "pos = []\n",
    "tups = []\n",
    "\n",
    "for doc in nlp.pipe(hl['content'].astype('unicode').values, disable=['ner','textcat', 'parser'],\n",
    "                    batch_size=1000, n_threads=-1):    \n",
    "    tokens.append([n.text for n in doc])\n",
    "    pos.append([n.tag_ for n in doc])\n",
    "    tups.append(list(zip([n.text for n in doc], [n.tag_ for n in doc])))\n",
    "    \n",
    "print('POS Tagging completed.')"
   ]
  },
  {
   "cell_type": "markdown",
   "metadata": {},
   "source": [
    "We now filter words that do not belong to any of the below identified `POS`. For a full reference of the tagging scheme, please see: https://spacy.io/api/annotation#pos-tagging\n",
    "\n",
    "Thereafter, we conduct a `sentiment analysis` on each highlight, returning the positive, negative, neutral, and composite sentiment score as computed by VADER."
   ]
  },
  {
   "cell_type": "code",
   "execution_count": 5,
   "metadata": {},
   "outputs": [],
   "source": [
    "hl['tups'] = tups\n",
    "\n",
    "# Define POS to keep and special characters to delete\n",
    "keep_pos = ['NN','NNS','JJ','VB','VBD','VBG','VBN','VBP','VBZ','RB']\n",
    "no_chars = [\"…\",\"'ve\",\"'s\",\"'ll\",\"'d\",\"\\\"\",\"'m\",\"'s\",\"'re\",\"–-\",'–-', '‘', '’d', '’ll', '’m', '’re', '’s', '’ve',\n",
    "            '“', ',,',',','(',')','.', '”', '\\n\\n',\"@realDonaldTrump\",\"n't\",'\\xad']\n",
    "\n",
    "hl['tokens'] = hl.tups.apply(lambda y: [x[0] for x in y if np.logical_and(x[0] not in no_chars, x[1] in keep_pos)])\n",
    "\n",
    "# Remove stopwords\n",
    "stopwords = set(list(nltk_stopwords) + list(ENGLISH_STOP_WORDS) + list(STOP_WORDS))\n",
    "hl['tokens'] = hl.tokens.apply(lambda y: [x for x in y if (x not in stopwords)]) \n",
    "\n",
    "# Only keep words with min. three characters\n",
    "hl['tokens'] = hl.tokens.apply(lambda y: [x for x in y if (len(x) >= 3)]) \n",
    "\n",
    "# Lowercase\n",
    "hl['tokens'] = hl.tokens.apply(lambda y: [x.lower() for x in y])\n",
    "\n",
    "# Join for Sentiment Analysis\n",
    "hl['content'] = hl.tokens.apply(lambda x: ','.join(x))\n",
    "hl['content'] = hl.content.str.replace(',',' ')\n",
    "\n",
    "# Sentiment Analysis\n",
    "analyzer = SentimentIntensityAnalyzer()\n",
    "hl['sent'] = hl['content'].apply(lambda x: analyzer.polarity_scores(x))\n",
    "hl['neu'] = hl['sent'].apply(pd.Series)['neu']\n",
    "hl['pos'] = hl['sent'].apply(pd.Series)['pos']\n",
    "hl['neg'] = hl['sent'].apply(pd.Series)['neg']\n",
    "hl['comp'] = hl['sent'].apply(pd.Series)['compound']\n",
    "\n",
    "del hl['tups']\n",
    "del hl['sent']\n",
    "del hl['Unnamed: 0']"
   ]
  },
  {
   "cell_type": "markdown",
   "metadata": {},
   "source": [
    "Finally, we filter highlights that are shorter than three tokens or fall in the 99th percentile of highlight lengths (i.e., we exclude the 1% of longest highlights)."
   ]
  },
  {
   "cell_type": "code",
   "execution_count": 6,
   "metadata": {},
   "outputs": [],
   "source": [
    "# Filter highlights that are longer than the 99 Percentile of highlight length\n",
    "hl['length'] = hl.tokens.apply(lambda x: len(x))\n",
    "hl = hl[np.logical_and(hl.length >= 3, hl.length <= hl.length.quantile(0.99))] "
   ]
  },
  {
   "cell_type": "code",
   "execution_count": 7,
   "metadata": {},
   "outputs": [
    {
     "name": "stdout",
     "output_type": "stream",
     "text": [
      "Total number of highlights in training data: 39756\n",
      "Total number of unique documents in training data: 991\n",
      "Total number of unique coders: 511\n"
     ]
    }
   ],
   "source": [
    "print(\"Total number of highlights in training data:\", len(hl))\n",
    "print('Total number of unique documents in training data:', len(hl.document_id.unique()))\n",
    "print('Total number of unique coders:', len(hl.coder_id.unique()))\n",
    "hl.to_csv('data/highlights_preprocessed.csv', sep=';')"
   ]
  },
  {
   "cell_type": "markdown",
   "metadata": {},
   "source": [
    "## Highlights Descriptives"
   ]
  },
  {
   "cell_type": "markdown",
   "metadata": {},
   "source": [
    "In the following, we provide a few descriptives on the preprocessed `hl` data."
   ]
  },
  {
   "cell_type": "markdown",
   "metadata": {},
   "source": [
    "How many coders coded a particular document with a particular foundation?"
   ]
  },
  {
   "cell_type": "code",
   "execution_count": 8,
   "metadata": {},
   "outputs": [
    {
     "data": {
      "text/plain": [
       "Text(0.5,1,'Frequency Distribution of Coders and Assigned Foundations')"
      ]
     },
     "execution_count": 8,
     "metadata": {},
     "output_type": "execute_result"
    },
    {
     "data": {
      "image/png": "[encoded data removed]",
      "text/plain": [
       "<Figure size 432x288 with 1 Axes>"
      ]
     },
     "metadata": {
      "needs_background": "light"
     },
     "output_type": "display_data"
    }
   ],
   "source": [
    "sns.barplot(x='assigned_domain', y='coder_id', data = hl.groupby('assigned_domain').nunique().T.loc['coder_id'].T.reset_index())\n",
    "plt.ylabel('Frequency of Coders')\n",
    "plt.xlabel('Assigned Foundation')\n",
    "plt.title('Frequency Distribution of Coders and Assigned Foundations')"
   ]
  },
  {
   "cell_type": "markdown",
   "metadata": {},
   "source": [
    "How many foundations have been coded for each document?"
   ]
  },
  {
   "cell_type": "code",
   "execution_count": 9,
   "metadata": {},
   "outputs": [
    {
     "name": "stderr",
     "output_type": "stream",
     "text": [
      "/usr/local/anaconda3/lib/python3.6/site-packages/matplotlib/axes/_axes.py:6571: UserWarning: The 'normed' kwarg is deprecated, and has been replaced by the 'density' kwarg.\n",
      "  warnings.warn(\"The 'normed' kwarg is deprecated, and has been \"\n"
     ]
    },
    {
     "data": {
      "text/plain": [
       "Text(0.5,1,'Frequency Distribution of Coded Foundations per Document')"
      ]
     },
     "execution_count": 9,
     "metadata": {},
     "output_type": "execute_result"
    },
    {
     "data": {
      "image/png": "[encoded data removed]",
      "text/plain": [
       "<Figure size 432x288 with 1 Axes>"
      ]
     },
     "metadata": {
      "needs_background": "light"
     },
     "output_type": "display_data"
    }
   ],
   "source": [
    "sns.distplot(hl.groupby(hl.document_id).nunique().assigned_domain, kde=False, bins=4, color='r')\n",
    "plt.xlim(0,5,1)\n",
    "plt.xlabel('Coded Foundations Per Document')\n",
    "plt.ylabel('Frequency')\n",
    "plt.title('Frequency Distribution of Coded Foundations per Document')"
   ]
  },
  {
   "cell_type": "markdown",
   "metadata": {},
   "source": [
    "How many coders have been assigned per document?"
   ]
  },
  {
   "cell_type": "code",
   "execution_count": 10,
   "metadata": {},
   "outputs": [
    {
     "data": {
      "text/plain": [
       "Text(0.5,1,'Frequency Distribution of Coders per Document')"
      ]
     },
     "execution_count": 10,
     "metadata": {},
     "output_type": "execute_result"
    },
    {
     "data": {
      "image/png": "[encoded data removed]",
      "text/plain": [
       "<Figure size 432x288 with 1 Axes>"
      ]
     },
     "metadata": {
      "needs_background": "light"
     },
     "output_type": "display_data"
    }
   ],
   "source": [
    "sns.distplot(hl.groupby(hl.document_id).nunique().coder_id, kde=False, bins=12, color='r')\n",
    "plt.xlabel('Coders Per Document')\n",
    "plt.ylabel('Frequency')\n",
    "plt.title('Frequency Distribution of Coders per Document')"
   ]
  },
  {
   "cell_type": "markdown",
   "metadata": {},
   "source": [
    "How many highlights have been genereated for each foundation?"
   ]
  },
  {
   "cell_type": "code",
   "execution_count": 11,
   "metadata": {},
   "outputs": [
    {
     "data": {
      "text/plain": [
       "Text(0.5,1,'Frequency Distribution of Produced Highlights per Foundation')"
      ]
     },
     "execution_count": 11,
     "metadata": {},
     "output_type": "execute_result"
    },
    {
     "data": {
      "image/png": "[encoded data removed]",
      "text/plain": [
       "<Figure size 432x288 with 1 Axes>"
      ]
     },
     "metadata": {
      "needs_background": "light"
     },
     "output_type": "display_data"
    }
   ],
   "source": [
    "sns.countplot(hl.assigned_domain,  order=hl.assigned_domain.value_counts().index)\n",
    "plt.ylabel(\"Frequency\")\n",
    "plt.xlabel(\"Foundation\")\n",
    "plt.title('Frequency Distribution of Produced Highlights per Foundation')"
   ]
  },
  {
   "cell_type": "markdown",
   "metadata": {},
   "source": [
    "What is the mean sentiment across highlights?"
   ]
  },
  {
   "cell_type": "code",
   "execution_count": 12,
   "metadata": {},
   "outputs": [
    {
     "data": {
      "text/plain": [
       "Text(0.5,1,'Average Sentiment Across Highlights')"
      ]
     },
     "execution_count": 12,
     "metadata": {},
     "output_type": "execute_result"
    },
    {
     "data": {
      "image/png": "[encoded data removed]",
      "text/plain": [
       "<Figure size 432x288 with 1 Axes>"
      ]
     },
     "metadata": {
      "needs_background": "light"
     },
     "output_type": "display_data"
    }
   ],
   "source": [
    "hl[['pos','neg','neu','comp']].mean().plot(kind='bar')\n",
    "plt.ylabel('Sentiment Score')\n",
    "plt.xlabel('Sentiment Label')\n",
    "plt.title('Average Sentiment Across Highlights')"
   ]
  },
  {
   "cell_type": "markdown",
   "metadata": {},
   "source": [
    "What is the mean sentiment per highlighted foundation?"
   ]
  },
  {
   "cell_type": "code",
   "execution_count": 13,
   "metadata": {},
   "outputs": [
    {
     "data": {
      "image/png": "[encoded data removed]",
      "text/plain": [
       "<Figure size 864x288 with 1 Axes>"
      ]
     },
     "metadata": {
      "needs_background": "light"
     },
     "output_type": "display_data"
    }
   ],
   "source": [
    "fig, ax = plt.subplots(figsize=(12,4))\n",
    "hl[['pos','neg','neu','comp','assigned_domain']].groupby('assigned_domain').mean().plot(kind='bar', ax=ax)\n",
    "plt.ylabel('Sentiment Score')\n",
    "plt.xlabel('Highlighted Foundation')\n",
    "plt.tight_layout()"
   ]
  },
  {
   "cell_type": "markdown",
   "metadata": {},
   "source": [
    "## Construct Vocabulary"
   ]
  },
  {
   "cell_type": "markdown",
   "metadata": {},
   "source": [
    "In the following steps, we construct the `vocabulary`. This vocabulary is a DataFrame that is indexed by each unique word that is found in the processed `hl`."
   ]
  },
  {
   "cell_type": "code",
   "execution_count": 14,
   "metadata": {},
   "outputs": [
    {
     "name": "stdout",
     "output_type": "stream",
     "text": [
      "Total number of words in highlights: 284114\n"
     ]
    }
   ],
   "source": [
    "tokens = [token for highlight in hl.tokens.values for token in highlight]\n",
    "print('Total number of words in highlights:', len(tokens))"
   ]
  },
  {
   "cell_type": "code",
   "execution_count": 15,
   "metadata": {},
   "outputs": [
    {
     "name": "stdout",
     "output_type": "stream",
     "text": [
      "Final vocabulary size after preprocessing: 17324\n"
     ]
    }
   ],
   "source": [
    "vocab = set(tokens)\n",
    "vocab = [x.lower() for x in vocab]\n",
    "vocab = [x for x in vocab if len(x) >= 3]\n",
    "\n",
    "vocab = [x for x in vocab if x not in stopwords]\n",
    "\n",
    "vocab = pd.DataFrame(vocab)\n",
    "vocab = vocab.rename(columns={0:'word'})\n",
    "\n",
    "# Remove words with numbers \n",
    "def hasNumbers(inputString):\n",
    "    return any(char.isdigit() for char in inputString)\n",
    "\n",
    "def hasPunct(inputString):\n",
    "    if any(char in punctuation for char in inputString):\n",
    "        return 'True'\n",
    "    else:\n",
    "        return 'False'\n",
    "\n",
    "vocab['has_number'] = vocab.word.apply(lambda x: hasNumbers(x))\n",
    "vocab['has_punct'] = vocab.word.apply(lambda x: hasPunct(x))\n",
    "\n",
    "vocab = vocab[np.logical_and(vocab['has_number']==False, vocab['has_punct']=='False')]\n",
    "\n",
    "del vocab['has_number']\n",
    "del vocab['has_punct']\n",
    "\n",
    "foundations = ['care','fairness','loyalty','authority','sanctity']\n",
    "\n",
    "for f in foundations:\n",
    "    vocab[str(f)] = 0.0\n",
    "\n",
    "vocab.index = vocab.word\n",
    "vocab['sent'] = 0.0\n",
    "\n",
    "print('Final vocabulary size after preprocessing:', len(vocab))"
   ]
  },
  {
   "cell_type": "code",
   "execution_count": 16,
   "metadata": {},
   "outputs": [
    {
     "data": {
      "text/html": [
       "<div>\n",
       "<style>\n",
       "    .dataframe thead tr:only-child th {\n",
       "        text-align: right;\n",
       "    }\n",
       "\n",
       "    .dataframe thead th {\n",
       "        text-align: left;\n",
       "    }\n",
       "\n",
       "    .dataframe tbody tr th {\n",
       "        vertical-align: top;\n",
       "    }\n",
       "</style>\n",
       "<table border=\"1\" class=\"dataframe\">\n",
       "  <thead>\n",
       "    <tr style=\"text-align: right;\">\n",
       "      <th></th>\n",
       "      <th>word</th>\n",
       "      <th>care</th>\n",
       "      <th>fairness</th>\n",
       "      <th>loyalty</th>\n",
       "      <th>authority</th>\n",
       "      <th>sanctity</th>\n",
       "      <th>sent</th>\n",
       "    </tr>\n",
       "    <tr>\n",
       "      <th>word</th>\n",
       "      <th></th>\n",
       "      <th></th>\n",
       "      <th></th>\n",
       "      <th></th>\n",
       "      <th></th>\n",
       "      <th></th>\n",
       "      <th></th>\n",
       "    </tr>\n",
       "  </thead>\n",
       "  <tbody>\n",
       "    <tr>\n",
       "      <th>obscenity</th>\n",
       "      <td>obscenity</td>\n",
       "      <td>0.0</td>\n",
       "      <td>0.0</td>\n",
       "      <td>0.0</td>\n",
       "      <td>0.0</td>\n",
       "      <td>0.0</td>\n",
       "      <td>0.0</td>\n",
       "    </tr>\n",
       "    <tr>\n",
       "      <th>fate</th>\n",
       "      <td>fate</td>\n",
       "      <td>0.0</td>\n",
       "      <td>0.0</td>\n",
       "      <td>0.0</td>\n",
       "      <td>0.0</td>\n",
       "      <td>0.0</td>\n",
       "      <td>0.0</td>\n",
       "    </tr>\n",
       "    <tr>\n",
       "      <th>mass</th>\n",
       "      <td>mass</td>\n",
       "      <td>0.0</td>\n",
       "      <td>0.0</td>\n",
       "      <td>0.0</td>\n",
       "      <td>0.0</td>\n",
       "      <td>0.0</td>\n",
       "      <td>0.0</td>\n",
       "    </tr>\n",
       "    <tr>\n",
       "      <th>sewer</th>\n",
       "      <td>sewer</td>\n",
       "      <td>0.0</td>\n",
       "      <td>0.0</td>\n",
       "      <td>0.0</td>\n",
       "      <td>0.0</td>\n",
       "      <td>0.0</td>\n",
       "      <td>0.0</td>\n",
       "    </tr>\n",
       "    <tr>\n",
       "      <th>expunge</th>\n",
       "      <td>expunge</td>\n",
       "      <td>0.0</td>\n",
       "      <td>0.0</td>\n",
       "      <td>0.0</td>\n",
       "      <td>0.0</td>\n",
       "      <td>0.0</td>\n",
       "      <td>0.0</td>\n",
       "    </tr>\n",
       "  </tbody>\n",
       "</table>\n",
       "</div>"
      ],
      "text/plain": [
       "                word  care  fairness  loyalty  authority  sanctity  sent\n",
       "word                                                                    \n",
       "obscenity  obscenity   0.0       0.0      0.0        0.0       0.0   0.0\n",
       "fate            fate   0.0       0.0      0.0        0.0       0.0   0.0\n",
       "mass            mass   0.0       0.0      0.0        0.0       0.0   0.0\n",
       "sewer          sewer   0.0       0.0      0.0        0.0       0.0   0.0\n",
       "expunge      expunge   0.0       0.0      0.0        0.0       0.0   0.0"
      ]
     },
     "execution_count": 16,
     "metadata": {},
     "output_type": "execute_result"
    }
   ],
   "source": [
    "vocab.head()"
   ]
  },
  {
   "cell_type": "markdown",
   "metadata": {},
   "source": [
    "### How many times has a word in the vocabulary been seen by (a) ALL coders and (b) by coders with a certain foundation?"
   ]
  },
  {
   "cell_type": "markdown",
   "metadata": {},
   "source": [
    "#### 1) How often does each word appear in each document"
   ]
  },
  {
   "cell_type": "markdown",
   "metadata": {},
   "source": [
    "In the cell below, we read in all the news articles that were seen and coded by the human coders. We then preprocess the document text by removing punctuations and stopwords. In a final step, we compute the frequency with which each word appeared in each document."
   ]
  },
  {
   "cell_type": "code",
   "execution_count": 17,
   "metadata": {},
   "outputs": [
    {
     "name": "stderr",
     "output_type": "stream",
     "text": [
      "/usr/local/anaconda3/lib/python3.6/site-packages/ipykernel_launcher.py:4: SettingWithCopyWarning: \n",
      "A value is trying to be set on a copy of a slice from a DataFrame.\n",
      "Try using .loc[row_indexer,col_indexer] = value instead\n",
      "\n",
      "See the caveats in the documentation: http://pandas.pydata.org/pandas-docs/stable/indexing.html#indexing-view-versus-copy\n",
      "  after removing the cwd from sys.path.\n",
      "/usr/local/anaconda3/lib/python3.6/site-packages/ipykernel_launcher.py:18: SettingWithCopyWarning: \n",
      "A value is trying to be set on a copy of a slice from a DataFrame.\n",
      "Try using .loc[row_indexer,col_indexer] = value instead\n",
      "\n",
      "See the caveats in the documentation: http://pandas.pydata.org/pandas-docs/stable/indexing.html#indexing-view-versus-copy\n"
     ]
    }
   ],
   "source": [
    "# Get the documents\n",
    "hl_docs = pd.read_pickle('data/coded_news.pkl')\n",
    "corpus = hl_docs[hl_docs.index.isin(hl.document_id)]\n",
    "corpus['text'] = corpus['text'].str.lower()\n",
    "\n",
    "def preprocess(text):\n",
    "    raw_text = text\n",
    "    for s in punctuation:\n",
    "        raw_text = raw_text.replace(s,'')\n",
    "    for s in stopwords:\n",
    "        regex = re.compile(r\"\\b{}\\b\".format(s))\n",
    "        raw_text = re.sub(regex, '', raw_text)\n",
    "    raw_text = raw_text.replace('\\'','')\n",
    "    raw_text = raw_text.strip()\n",
    "    raw_text = \" \".join(raw_text.split())\n",
    "    return raw_text\n",
    "\n",
    "corpus['text'] = corpus['text'].apply(lambda x:preprocess(x))\n",
    "\n",
    "# Calculate term frequency\n",
    "vec = CountVectorizer(stop_words=stopwords)\n",
    "X = vec.fit_transform(corpus['text'])\n",
    "word_per_doc = pd.DataFrame(X.toarray(), columns=vec.get_feature_names())\n",
    "word_per_doc.index = corpus.index\n",
    "word_per_doc = word_per_doc.T\n",
    "word_per_doc = word_per_doc.reset_index().rename(columns={'index':'word'})\n",
    "word_per_doc = word_per_doc[word_per_doc.word.isin(vocab.word)]\n",
    "word_per_doc = word_per_doc.set_index('word').T\n",
    "word_per_doc = word_per_doc.fillna(0)"
   ]
  },
  {
   "cell_type": "markdown",
   "metadata": {},
   "source": [
    "The result is a D x W matrix where D = number of unique documents and W = number of unique words. Each cell in that matrix captures how often that word appeared in that document."
   ]
  },
  {
   "cell_type": "code",
   "execution_count": 18,
   "metadata": {},
   "outputs": [
    {
     "data": {
      "text/html": [
       "<div>\n",
       "<style>\n",
       "    .dataframe thead tr:only-child th {\n",
       "        text-align: right;\n",
       "    }\n",
       "\n",
       "    .dataframe thead th {\n",
       "        text-align: left;\n",
       "    }\n",
       "\n",
       "    .dataframe tbody tr th {\n",
       "        vertical-align: top;\n",
       "    }\n",
       "</style>\n",
       "<table border=\"1\" class=\"dataframe\">\n",
       "  <thead>\n",
       "    <tr style=\"text-align: right;\">\n",
       "      <th>word</th>\n",
       "      <th>aback</th>\n",
       "      <th>abandon</th>\n",
       "      <th>abandoned</th>\n",
       "      <th>abandoning</th>\n",
       "      <th>abandonment</th>\n",
       "      <th>abdication</th>\n",
       "      <th>abdomen</th>\n",
       "      <th>abducted</th>\n",
       "      <th>abducting</th>\n",
       "      <th>abducts</th>\n",
       "      <th>...</th>\n",
       "      <th>zinc</th>\n",
       "      <th>zingers</th>\n",
       "      <th>zombies</th>\n",
       "      <th>zone</th>\n",
       "      <th>zoned</th>\n",
       "      <th>zones</th>\n",
       "      <th>zoning</th>\n",
       "      <th>zoo</th>\n",
       "      <th>zoom</th>\n",
       "      <th>zooming</th>\n",
       "    </tr>\n",
       "  </thead>\n",
       "  <tbody>\n",
       "    <tr>\n",
       "      <th>4877</th>\n",
       "      <td>0</td>\n",
       "      <td>0</td>\n",
       "      <td>0</td>\n",
       "      <td>0</td>\n",
       "      <td>0</td>\n",
       "      <td>0</td>\n",
       "      <td>0</td>\n",
       "      <td>0</td>\n",
       "      <td>0</td>\n",
       "      <td>0</td>\n",
       "      <td>...</td>\n",
       "      <td>0</td>\n",
       "      <td>0</td>\n",
       "      <td>0</td>\n",
       "      <td>0</td>\n",
       "      <td>0</td>\n",
       "      <td>0</td>\n",
       "      <td>0</td>\n",
       "      <td>0</td>\n",
       "      <td>0</td>\n",
       "      <td>0</td>\n",
       "    </tr>\n",
       "    <tr>\n",
       "      <th>4879</th>\n",
       "      <td>0</td>\n",
       "      <td>0</td>\n",
       "      <td>0</td>\n",
       "      <td>0</td>\n",
       "      <td>0</td>\n",
       "      <td>0</td>\n",
       "      <td>0</td>\n",
       "      <td>0</td>\n",
       "      <td>0</td>\n",
       "      <td>0</td>\n",
       "      <td>...</td>\n",
       "      <td>0</td>\n",
       "      <td>0</td>\n",
       "      <td>0</td>\n",
       "      <td>0</td>\n",
       "      <td>0</td>\n",
       "      <td>0</td>\n",
       "      <td>0</td>\n",
       "      <td>0</td>\n",
       "      <td>0</td>\n",
       "      <td>0</td>\n",
       "    </tr>\n",
       "    <tr>\n",
       "      <th>4881</th>\n",
       "      <td>0</td>\n",
       "      <td>0</td>\n",
       "      <td>1</td>\n",
       "      <td>0</td>\n",
       "      <td>1</td>\n",
       "      <td>0</td>\n",
       "      <td>0</td>\n",
       "      <td>0</td>\n",
       "      <td>0</td>\n",
       "      <td>0</td>\n",
       "      <td>...</td>\n",
       "      <td>0</td>\n",
       "      <td>0</td>\n",
       "      <td>0</td>\n",
       "      <td>0</td>\n",
       "      <td>0</td>\n",
       "      <td>0</td>\n",
       "      <td>0</td>\n",
       "      <td>0</td>\n",
       "      <td>0</td>\n",
       "      <td>0</td>\n",
       "    </tr>\n",
       "    <tr>\n",
       "      <th>4887</th>\n",
       "      <td>0</td>\n",
       "      <td>0</td>\n",
       "      <td>0</td>\n",
       "      <td>0</td>\n",
       "      <td>0</td>\n",
       "      <td>0</td>\n",
       "      <td>0</td>\n",
       "      <td>0</td>\n",
       "      <td>0</td>\n",
       "      <td>0</td>\n",
       "      <td>...</td>\n",
       "      <td>0</td>\n",
       "      <td>0</td>\n",
       "      <td>0</td>\n",
       "      <td>0</td>\n",
       "      <td>0</td>\n",
       "      <td>0</td>\n",
       "      <td>0</td>\n",
       "      <td>0</td>\n",
       "      <td>0</td>\n",
       "      <td>0</td>\n",
       "    </tr>\n",
       "    <tr>\n",
       "      <th>4890</th>\n",
       "      <td>0</td>\n",
       "      <td>0</td>\n",
       "      <td>0</td>\n",
       "      <td>0</td>\n",
       "      <td>0</td>\n",
       "      <td>0</td>\n",
       "      <td>0</td>\n",
       "      <td>0</td>\n",
       "      <td>0</td>\n",
       "      <td>0</td>\n",
       "      <td>...</td>\n",
       "      <td>0</td>\n",
       "      <td>0</td>\n",
       "      <td>0</td>\n",
       "      <td>0</td>\n",
       "      <td>0</td>\n",
       "      <td>0</td>\n",
       "      <td>0</td>\n",
       "      <td>0</td>\n",
       "      <td>0</td>\n",
       "      <td>0</td>\n",
       "    </tr>\n",
       "  </tbody>\n",
       "</table>\n",
       "<p>5 rows × 17136 columns</p>\n",
       "</div>"
      ],
      "text/plain": [
       "word  aback  abandon  abandoned  abandoning  abandonment  abdication  abdomen  \\\n",
       "4877      0        0          0           0            0           0        0   \n",
       "4879      0        0          0           0            0           0        0   \n",
       "4881      0        0          1           0            1           0        0   \n",
       "4887      0        0          0           0            0           0        0   \n",
       "4890      0        0          0           0            0           0        0   \n",
       "\n",
       "word  abducted  abducting  abducts   ...     zinc  zingers  zombies  zone  \\\n",
       "4877         0          0        0   ...        0        0        0     0   \n",
       "4879         0          0        0   ...        0        0        0     0   \n",
       "4881         0          0        0   ...        0        0        0     0   \n",
       "4887         0          0        0   ...        0        0        0     0   \n",
       "4890         0          0        0   ...        0        0        0     0   \n",
       "\n",
       "word  zoned  zones  zoning  zoo  zoom  zooming  \n",
       "4877      0      0       0    0     0        0  \n",
       "4879      0      0       0    0     0        0  \n",
       "4881      0      0       0    0     0        0  \n",
       "4887      0      0       0    0     0        0  \n",
       "4890      0      0       0    0     0        0  \n",
       "\n",
       "[5 rows x 17136 columns]"
      ]
     },
     "execution_count": 18,
     "metadata": {},
     "output_type": "execute_result"
    }
   ],
   "source": [
    "word_per_doc.head()"
   ]
  },
  {
   "cell_type": "markdown",
   "metadata": {},
   "source": [
    "#### 2) How many coders saw each document?"
   ]
  },
  {
   "cell_type": "markdown",
   "metadata": {},
   "source": [
    "In the following, we determine the total number of coders that have seen each document (see the `total_seen` column on the right.)"
   ]
  },
  {
   "cell_type": "code",
   "execution_count": 19,
   "metadata": {},
   "outputs": [],
   "source": [
    "coders_per_doc = hl.groupby('document_id').nunique()['coder_id']\n",
    "coders_per_doc = coders_per_doc.fillna(0)"
   ]
  },
  {
   "cell_type": "code",
   "execution_count": 20,
   "metadata": {},
   "outputs": [],
   "source": [
    "# Join these and multiply these with the above raw counts to get the total_seen variable \n",
    "total_seen = word_per_doc.join(coders_per_doc.rename('total_seen'))\n",
    "total_seen[[c for c in total_seen.columns if c != 'total_seen']] = total_seen[[c for c in total_seen.columns if c != 'total_seen']].multiply(total_seen['total_seen'], axis=0)"
   ]
  },
  {
   "cell_type": "code",
   "execution_count": 21,
   "metadata": {},
   "outputs": [
    {
     "data": {
      "text/html": [
       "<div>\n",
       "<style>\n",
       "    .dataframe thead tr:only-child th {\n",
       "        text-align: right;\n",
       "    }\n",
       "\n",
       "    .dataframe thead th {\n",
       "        text-align: left;\n",
       "    }\n",
       "\n",
       "    .dataframe tbody tr th {\n",
       "        vertical-align: top;\n",
       "    }\n",
       "</style>\n",
       "<table border=\"1\" class=\"dataframe\">\n",
       "  <thead>\n",
       "    <tr style=\"text-align: right;\">\n",
       "      <th></th>\n",
       "      <th>aback</th>\n",
       "      <th>abandon</th>\n",
       "      <th>abandoned</th>\n",
       "      <th>abandoning</th>\n",
       "      <th>abandonment</th>\n",
       "      <th>abdication</th>\n",
       "      <th>abdomen</th>\n",
       "      <th>abducted</th>\n",
       "      <th>abducting</th>\n",
       "      <th>abducts</th>\n",
       "      <th>...</th>\n",
       "      <th>zingers</th>\n",
       "      <th>zombies</th>\n",
       "      <th>zone</th>\n",
       "      <th>zoned</th>\n",
       "      <th>zones</th>\n",
       "      <th>zoning</th>\n",
       "      <th>zoo</th>\n",
       "      <th>zoom</th>\n",
       "      <th>zooming</th>\n",
       "      <th>total_seen</th>\n",
       "    </tr>\n",
       "  </thead>\n",
       "  <tbody>\n",
       "    <tr>\n",
       "      <th>4877</th>\n",
       "      <td>0</td>\n",
       "      <td>0</td>\n",
       "      <td>0</td>\n",
       "      <td>0</td>\n",
       "      <td>0</td>\n",
       "      <td>0</td>\n",
       "      <td>0</td>\n",
       "      <td>0</td>\n",
       "      <td>0</td>\n",
       "      <td>0</td>\n",
       "      <td>...</td>\n",
       "      <td>0</td>\n",
       "      <td>0</td>\n",
       "      <td>0</td>\n",
       "      <td>0</td>\n",
       "      <td>0</td>\n",
       "      <td>0</td>\n",
       "      <td>0</td>\n",
       "      <td>0</td>\n",
       "      <td>0</td>\n",
       "      <td>8</td>\n",
       "    </tr>\n",
       "    <tr>\n",
       "      <th>4879</th>\n",
       "      <td>0</td>\n",
       "      <td>0</td>\n",
       "      <td>0</td>\n",
       "      <td>0</td>\n",
       "      <td>0</td>\n",
       "      <td>0</td>\n",
       "      <td>0</td>\n",
       "      <td>0</td>\n",
       "      <td>0</td>\n",
       "      <td>0</td>\n",
       "      <td>...</td>\n",
       "      <td>0</td>\n",
       "      <td>0</td>\n",
       "      <td>0</td>\n",
       "      <td>0</td>\n",
       "      <td>0</td>\n",
       "      <td>0</td>\n",
       "      <td>0</td>\n",
       "      <td>0</td>\n",
       "      <td>0</td>\n",
       "      <td>6</td>\n",
       "    </tr>\n",
       "    <tr>\n",
       "      <th>4881</th>\n",
       "      <td>0</td>\n",
       "      <td>0</td>\n",
       "      <td>9</td>\n",
       "      <td>0</td>\n",
       "      <td>9</td>\n",
       "      <td>0</td>\n",
       "      <td>0</td>\n",
       "      <td>0</td>\n",
       "      <td>0</td>\n",
       "      <td>0</td>\n",
       "      <td>...</td>\n",
       "      <td>0</td>\n",
       "      <td>0</td>\n",
       "      <td>0</td>\n",
       "      <td>0</td>\n",
       "      <td>0</td>\n",
       "      <td>0</td>\n",
       "      <td>0</td>\n",
       "      <td>0</td>\n",
       "      <td>0</td>\n",
       "      <td>9</td>\n",
       "    </tr>\n",
       "    <tr>\n",
       "      <th>4887</th>\n",
       "      <td>0</td>\n",
       "      <td>0</td>\n",
       "      <td>0</td>\n",
       "      <td>0</td>\n",
       "      <td>0</td>\n",
       "      <td>0</td>\n",
       "      <td>0</td>\n",
       "      <td>0</td>\n",
       "      <td>0</td>\n",
       "      <td>0</td>\n",
       "      <td>...</td>\n",
       "      <td>0</td>\n",
       "      <td>0</td>\n",
       "      <td>0</td>\n",
       "      <td>0</td>\n",
       "      <td>0</td>\n",
       "      <td>0</td>\n",
       "      <td>0</td>\n",
       "      <td>0</td>\n",
       "      <td>0</td>\n",
       "      <td>8</td>\n",
       "    </tr>\n",
       "    <tr>\n",
       "      <th>4890</th>\n",
       "      <td>0</td>\n",
       "      <td>0</td>\n",
       "      <td>0</td>\n",
       "      <td>0</td>\n",
       "      <td>0</td>\n",
       "      <td>0</td>\n",
       "      <td>0</td>\n",
       "      <td>0</td>\n",
       "      <td>0</td>\n",
       "      <td>0</td>\n",
       "      <td>...</td>\n",
       "      <td>0</td>\n",
       "      <td>0</td>\n",
       "      <td>0</td>\n",
       "      <td>0</td>\n",
       "      <td>0</td>\n",
       "      <td>0</td>\n",
       "      <td>0</td>\n",
       "      <td>0</td>\n",
       "      <td>0</td>\n",
       "      <td>3</td>\n",
       "    </tr>\n",
       "  </tbody>\n",
       "</table>\n",
       "<p>5 rows × 17137 columns</p>\n",
       "</div>"
      ],
      "text/plain": [
       "      aback  abandon  abandoned  abandoning  abandonment  abdication  abdomen  \\\n",
       "4877      0        0          0           0            0           0        0   \n",
       "4879      0        0          0           0            0           0        0   \n",
       "4881      0        0          9           0            9           0        0   \n",
       "4887      0        0          0           0            0           0        0   \n",
       "4890      0        0          0           0            0           0        0   \n",
       "\n",
       "      abducted  abducting  abducts     ...      zingers  zombies  zone  zoned  \\\n",
       "4877         0          0        0     ...            0        0     0      0   \n",
       "4879         0          0        0     ...            0        0     0      0   \n",
       "4881         0          0        0     ...            0        0     0      0   \n",
       "4887         0          0        0     ...            0        0     0      0   \n",
       "4890         0          0        0     ...            0        0     0      0   \n",
       "\n",
       "      zones  zoning  zoo  zoom  zooming  total_seen  \n",
       "4877      0       0    0     0        0           8  \n",
       "4879      0       0    0     0        0           6  \n",
       "4881      0       0    0     0        0           9  \n",
       "4887      0       0    0     0        0           8  \n",
       "4890      0       0    0     0        0           3  \n",
       "\n",
       "[5 rows x 17137 columns]"
      ]
     },
     "execution_count": 21,
     "metadata": {},
     "output_type": "execute_result"
    }
   ],
   "source": [
    "total_seen.head()"
   ]
  },
  {
   "cell_type": "code",
   "execution_count": 22,
   "metadata": {},
   "outputs": [],
   "source": [
    "# Now, get the column sum to obtain total number of times this word was seen by coders across documents and add that variable to the vocabulary\n",
    "vocab = vocab.join(total_seen[[c for c in total_seen.columns if c != 'total_seen']].sum().rename('total_seen'))"
   ]
  },
  {
   "cell_type": "markdown",
   "metadata": {},
   "source": [
    "#### 3) How often was each word seen by coders with a given foundation?"
   ]
  },
  {
   "cell_type": "markdown",
   "metadata": {},
   "source": [
    "Next up, we determine how often each word has been seen by a coder with a certain assigned foundation."
   ]
  },
  {
   "cell_type": "code",
   "execution_count": 23,
   "metadata": {},
   "outputs": [],
   "source": [
    "# Every unique coder is assigned a foundation per document \n",
    "# Question: for each document, get mapping of coder_id and assigned foundation \n",
    "\n",
    "# Make dataframe that is indexed by each document id\n",
    "# Loop over each document and get the coders and their assigned foundation \n",
    "seen_by_foundation = pd.DataFrame(index=corpus.index, columns=['seen_care', 'seen_fairness','seen_loyalty','seen_authority','seen_sanctity'])"
   ]
  },
  {
   "cell_type": "code",
   "execution_count": 24,
   "metadata": {},
   "outputs": [
    {
     "data": {
      "text/html": [
       "<div>\n",
       "<style>\n",
       "    .dataframe thead tr:only-child th {\n",
       "        text-align: right;\n",
       "    }\n",
       "\n",
       "    .dataframe thead th {\n",
       "        text-align: left;\n",
       "    }\n",
       "\n",
       "    .dataframe tbody tr th {\n",
       "        vertical-align: top;\n",
       "    }\n",
       "</style>\n",
       "<table border=\"1\" class=\"dataframe\">\n",
       "  <thead>\n",
       "    <tr style=\"text-align: right;\">\n",
       "      <th></th>\n",
       "      <th>seen_care</th>\n",
       "      <th>seen_fairness</th>\n",
       "      <th>seen_loyalty</th>\n",
       "      <th>seen_authority</th>\n",
       "      <th>seen_sanctity</th>\n",
       "    </tr>\n",
       "  </thead>\n",
       "  <tbody>\n",
       "    <tr>\n",
       "      <th>4877</th>\n",
       "      <td>NaN</td>\n",
       "      <td>NaN</td>\n",
       "      <td>NaN</td>\n",
       "      <td>NaN</td>\n",
       "      <td>NaN</td>\n",
       "    </tr>\n",
       "    <tr>\n",
       "      <th>4879</th>\n",
       "      <td>NaN</td>\n",
       "      <td>NaN</td>\n",
       "      <td>NaN</td>\n",
       "      <td>NaN</td>\n",
       "      <td>NaN</td>\n",
       "    </tr>\n",
       "    <tr>\n",
       "      <th>4881</th>\n",
       "      <td>NaN</td>\n",
       "      <td>NaN</td>\n",
       "      <td>NaN</td>\n",
       "      <td>NaN</td>\n",
       "      <td>NaN</td>\n",
       "    </tr>\n",
       "    <tr>\n",
       "      <th>4887</th>\n",
       "      <td>NaN</td>\n",
       "      <td>NaN</td>\n",
       "      <td>NaN</td>\n",
       "      <td>NaN</td>\n",
       "      <td>NaN</td>\n",
       "    </tr>\n",
       "    <tr>\n",
       "      <th>4890</th>\n",
       "      <td>NaN</td>\n",
       "      <td>NaN</td>\n",
       "      <td>NaN</td>\n",
       "      <td>NaN</td>\n",
       "      <td>NaN</td>\n",
       "    </tr>\n",
       "  </tbody>\n",
       "</table>\n",
       "</div>"
      ],
      "text/plain": [
       "     seen_care seen_fairness seen_loyalty seen_authority seen_sanctity\n",
       "4877       NaN           NaN          NaN            NaN           NaN\n",
       "4879       NaN           NaN          NaN            NaN           NaN\n",
       "4881       NaN           NaN          NaN            NaN           NaN\n",
       "4887       NaN           NaN          NaN            NaN           NaN\n",
       "4890       NaN           NaN          NaN            NaN           NaN"
      ]
     },
     "execution_count": 24,
     "metadata": {},
     "output_type": "execute_result"
    }
   ],
   "source": [
    "seen_by_foundation.head()"
   ]
  },
  {
   "cell_type": "code",
   "execution_count": 25,
   "metadata": {},
   "outputs": [],
   "source": [
    "# In a first step, loop over the unique documents\n",
    "doc_ids = seen_by_foundation.index.unique()\n",
    "for doc_id in doc_ids:\n",
    "    # Select all the hls that correspond to that doc_id\n",
    "    document = hl[hl['document_id'] == doc_id]\n",
    "    # Obtain the unique coder_ids per document and their assigned foundations\n",
    "    coders_foundation = document.groupby('assigned_domain').nunique()['coder_id']\n",
    "    # Join these counts with the seen_by_foundation dataframe\n",
    "    try:\n",
    "        seen_by_foundation.at[doc_id, 'seen_care'] = coders_foundation.care\n",
    "    except:\n",
    "        pass\n",
    "    try:\n",
    "        seen_by_foundation.at[doc_id, 'seen_fairness'] = coders_foundation.fairness\n",
    "    except:\n",
    "        pass\n",
    "    try:\n",
    "        seen_by_foundation.at[doc_id, 'seen_loyalty'] = coders_foundation.loyalty\n",
    "    except:\n",
    "        pass\n",
    "    try:\n",
    "        seen_by_foundation.at[doc_id, 'seen_authority'] = coders_foundation.authority\n",
    "    except:\n",
    "        pass\n",
    "    try:\n",
    "        seen_by_foundation.at[doc_id, 'seen_sanctity'] = coders_foundation.sanctity\n",
    "    except:\n",
    "        pass"
   ]
  },
  {
   "cell_type": "code",
   "execution_count": 26,
   "metadata": {},
   "outputs": [],
   "source": [
    "seen_by_foundation = seen_by_foundation.fillna(0)"
   ]
  },
  {
   "cell_type": "code",
   "execution_count": 27,
   "metadata": {},
   "outputs": [
    {
     "data": {
      "text/html": [
       "<div>\n",
       "<style>\n",
       "    .dataframe thead tr:only-child th {\n",
       "        text-align: right;\n",
       "    }\n",
       "\n",
       "    .dataframe thead th {\n",
       "        text-align: left;\n",
       "    }\n",
       "\n",
       "    .dataframe tbody tr th {\n",
       "        vertical-align: top;\n",
       "    }\n",
       "</style>\n",
       "<table border=\"1\" class=\"dataframe\">\n",
       "  <thead>\n",
       "    <tr style=\"text-align: right;\">\n",
       "      <th></th>\n",
       "      <th>seen_care</th>\n",
       "      <th>seen_fairness</th>\n",
       "      <th>seen_loyalty</th>\n",
       "      <th>seen_authority</th>\n",
       "      <th>seen_sanctity</th>\n",
       "    </tr>\n",
       "  </thead>\n",
       "  <tbody>\n",
       "    <tr>\n",
       "      <th>4877</th>\n",
       "      <td>0</td>\n",
       "      <td>2</td>\n",
       "      <td>1</td>\n",
       "      <td>3</td>\n",
       "      <td>2</td>\n",
       "    </tr>\n",
       "    <tr>\n",
       "      <th>4879</th>\n",
       "      <td>1</td>\n",
       "      <td>1</td>\n",
       "      <td>2</td>\n",
       "      <td>2</td>\n",
       "      <td>0</td>\n",
       "    </tr>\n",
       "    <tr>\n",
       "      <th>4881</th>\n",
       "      <td>2</td>\n",
       "      <td>3</td>\n",
       "      <td>1</td>\n",
       "      <td>0</td>\n",
       "      <td>3</td>\n",
       "    </tr>\n",
       "    <tr>\n",
       "      <th>4887</th>\n",
       "      <td>2</td>\n",
       "      <td>2</td>\n",
       "      <td>2</td>\n",
       "      <td>1</td>\n",
       "      <td>1</td>\n",
       "    </tr>\n",
       "    <tr>\n",
       "      <th>4890</th>\n",
       "      <td>1</td>\n",
       "      <td>0</td>\n",
       "      <td>0</td>\n",
       "      <td>0</td>\n",
       "      <td>2</td>\n",
       "    </tr>\n",
       "  </tbody>\n",
       "</table>\n",
       "</div>"
      ],
      "text/plain": [
       "      seen_care  seen_fairness  seen_loyalty  seen_authority  seen_sanctity\n",
       "4877          0              2             1               3              2\n",
       "4879          1              1             2               2              0\n",
       "4881          2              3             1               0              3\n",
       "4887          2              2             2               1              1\n",
       "4890          1              0             0               0              2"
      ]
     },
     "execution_count": 27,
     "metadata": {},
     "output_type": "execute_result"
    }
   ],
   "source": [
    "seen_by_foundation.head()"
   ]
  },
  {
   "cell_type": "markdown",
   "metadata": {},
   "source": [
    "So, document 4877 was coded by 2 fairness coders, 1 loyalty, 3 authority, and 2 sanctity coders"
   ]
  },
  {
   "cell_type": "code",
   "execution_count": 28,
   "metadata": {},
   "outputs": [],
   "source": [
    "# Join the coders per foundation with the word counts per document\n",
    "seen_by_foundation = seen_by_foundation.join(word_per_doc)"
   ]
  },
  {
   "cell_type": "code",
   "execution_count": 29,
   "metadata": {},
   "outputs": [
    {
     "data": {
      "text/html": [
       "<div>\n",
       "<style>\n",
       "    .dataframe thead tr:only-child th {\n",
       "        text-align: right;\n",
       "    }\n",
       "\n",
       "    .dataframe thead th {\n",
       "        text-align: left;\n",
       "    }\n",
       "\n",
       "    .dataframe tbody tr th {\n",
       "        vertical-align: top;\n",
       "    }\n",
       "</style>\n",
       "<table border=\"1\" class=\"dataframe\">\n",
       "  <thead>\n",
       "    <tr style=\"text-align: right;\">\n",
       "      <th></th>\n",
       "      <th>seen_care</th>\n",
       "      <th>seen_fairness</th>\n",
       "      <th>seen_loyalty</th>\n",
       "      <th>seen_authority</th>\n",
       "      <th>seen_sanctity</th>\n",
       "      <th>aback</th>\n",
       "      <th>abandon</th>\n",
       "      <th>abandoned</th>\n",
       "      <th>abandoning</th>\n",
       "      <th>abandonment</th>\n",
       "      <th>...</th>\n",
       "      <th>zinc</th>\n",
       "      <th>zingers</th>\n",
       "      <th>zombies</th>\n",
       "      <th>zone</th>\n",
       "      <th>zoned</th>\n",
       "      <th>zones</th>\n",
       "      <th>zoning</th>\n",
       "      <th>zoo</th>\n",
       "      <th>zoom</th>\n",
       "      <th>zooming</th>\n",
       "    </tr>\n",
       "  </thead>\n",
       "  <tbody>\n",
       "    <tr>\n",
       "      <th>4877</th>\n",
       "      <td>0</td>\n",
       "      <td>2</td>\n",
       "      <td>1</td>\n",
       "      <td>3</td>\n",
       "      <td>2</td>\n",
       "      <td>0</td>\n",
       "      <td>0</td>\n",
       "      <td>0</td>\n",
       "      <td>0</td>\n",
       "      <td>0</td>\n",
       "      <td>...</td>\n",
       "      <td>0</td>\n",
       "      <td>0</td>\n",
       "      <td>0</td>\n",
       "      <td>0</td>\n",
       "      <td>0</td>\n",
       "      <td>0</td>\n",
       "      <td>0</td>\n",
       "      <td>0</td>\n",
       "      <td>0</td>\n",
       "      <td>0</td>\n",
       "    </tr>\n",
       "    <tr>\n",
       "      <th>4879</th>\n",
       "      <td>1</td>\n",
       "      <td>1</td>\n",
       "      <td>2</td>\n",
       "      <td>2</td>\n",
       "      <td>0</td>\n",
       "      <td>0</td>\n",
       "      <td>0</td>\n",
       "      <td>0</td>\n",
       "      <td>0</td>\n",
       "      <td>0</td>\n",
       "      <td>...</td>\n",
       "      <td>0</td>\n",
       "      <td>0</td>\n",
       "      <td>0</td>\n",
       "      <td>0</td>\n",
       "      <td>0</td>\n",
       "      <td>0</td>\n",
       "      <td>0</td>\n",
       "      <td>0</td>\n",
       "      <td>0</td>\n",
       "      <td>0</td>\n",
       "    </tr>\n",
       "    <tr>\n",
       "      <th>4881</th>\n",
       "      <td>2</td>\n",
       "      <td>3</td>\n",
       "      <td>1</td>\n",
       "      <td>0</td>\n",
       "      <td>3</td>\n",
       "      <td>0</td>\n",
       "      <td>0</td>\n",
       "      <td>1</td>\n",
       "      <td>0</td>\n",
       "      <td>1</td>\n",
       "      <td>...</td>\n",
       "      <td>0</td>\n",
       "      <td>0</td>\n",
       "      <td>0</td>\n",
       "      <td>0</td>\n",
       "      <td>0</td>\n",
       "      <td>0</td>\n",
       "      <td>0</td>\n",
       "      <td>0</td>\n",
       "      <td>0</td>\n",
       "      <td>0</td>\n",
       "    </tr>\n",
       "    <tr>\n",
       "      <th>4887</th>\n",
       "      <td>2</td>\n",
       "      <td>2</td>\n",
       "      <td>2</td>\n",
       "      <td>1</td>\n",
       "      <td>1</td>\n",
       "      <td>0</td>\n",
       "      <td>0</td>\n",
       "      <td>0</td>\n",
       "      <td>0</td>\n",
       "      <td>0</td>\n",
       "      <td>...</td>\n",
       "      <td>0</td>\n",
       "      <td>0</td>\n",
       "      <td>0</td>\n",
       "      <td>0</td>\n",
       "      <td>0</td>\n",
       "      <td>0</td>\n",
       "      <td>0</td>\n",
       "      <td>0</td>\n",
       "      <td>0</td>\n",
       "      <td>0</td>\n",
       "    </tr>\n",
       "    <tr>\n",
       "      <th>4890</th>\n",
       "      <td>1</td>\n",
       "      <td>0</td>\n",
       "      <td>0</td>\n",
       "      <td>0</td>\n",
       "      <td>2</td>\n",
       "      <td>0</td>\n",
       "      <td>0</td>\n",
       "      <td>0</td>\n",
       "      <td>0</td>\n",
       "      <td>0</td>\n",
       "      <td>...</td>\n",
       "      <td>0</td>\n",
       "      <td>0</td>\n",
       "      <td>0</td>\n",
       "      <td>0</td>\n",
       "      <td>0</td>\n",
       "      <td>0</td>\n",
       "      <td>0</td>\n",
       "      <td>0</td>\n",
       "      <td>0</td>\n",
       "      <td>0</td>\n",
       "    </tr>\n",
       "  </tbody>\n",
       "</table>\n",
       "<p>5 rows × 17141 columns</p>\n",
       "</div>"
      ],
      "text/plain": [
       "      seen_care  seen_fairness  seen_loyalty  seen_authority  seen_sanctity  \\\n",
       "4877          0              2             1               3              2   \n",
       "4879          1              1             2               2              0   \n",
       "4881          2              3             1               0              3   \n",
       "4887          2              2             2               1              1   \n",
       "4890          1              0             0               0              2   \n",
       "\n",
       "      aback  abandon  abandoned  abandoning  abandonment   ...     zinc  \\\n",
       "4877      0        0          0           0            0   ...        0   \n",
       "4879      0        0          0           0            0   ...        0   \n",
       "4881      0        0          1           0            1   ...        0   \n",
       "4887      0        0          0           0            0   ...        0   \n",
       "4890      0        0          0           0            0   ...        0   \n",
       "\n",
       "      zingers  zombies  zone  zoned  zones  zoning  zoo  zoom  zooming  \n",
       "4877        0        0     0      0      0       0    0     0        0  \n",
       "4879        0        0     0      0      0       0    0     0        0  \n",
       "4881        0        0     0      0      0       0    0     0        0  \n",
       "4887        0        0     0      0      0       0    0     0        0  \n",
       "4890        0        0     0      0      0       0    0     0        0  \n",
       "\n",
       "[5 rows x 17141 columns]"
      ]
     },
     "execution_count": 29,
     "metadata": {},
     "output_type": "execute_result"
    }
   ],
   "source": [
    "seen_by_foundation.head()"
   ]
  },
  {
   "cell_type": "code",
   "execution_count": 30,
   "metadata": {},
   "outputs": [],
   "source": [
    "seen_cols = [c for c in seen_by_foundation.columns if c.startswith('seen_')]"
   ]
  },
  {
   "cell_type": "code",
   "execution_count": 31,
   "metadata": {},
   "outputs": [],
   "source": [
    "# Multiply each word count by the total sum of foundation-coders that saw this word\n",
    "for seen_f in seen_cols:\n",
    "    word_seen_vec = pd.DataFrame(seen_by_foundation[[seen_f]+[c for c in seen_by_foundation.columns if not c.startswith('seen_')]][[c for c in seen_by_foundation.columns if not c.startswith('seen_')]].apply(lambda x: x * seen_by_foundation[seen_f]).sum().rename(seen_f))\n",
    "    vocab = vocab.join(word_seen_vec)"
   ]
  },
  {
   "cell_type": "code",
   "execution_count": 32,
   "metadata": {},
   "outputs": [
    {
     "data": {
      "text/html": [
       "<div>\n",
       "<style>\n",
       "    .dataframe thead tr:only-child th {\n",
       "        text-align: right;\n",
       "    }\n",
       "\n",
       "    .dataframe thead th {\n",
       "        text-align: left;\n",
       "    }\n",
       "\n",
       "    .dataframe tbody tr th {\n",
       "        vertical-align: top;\n",
       "    }\n",
       "</style>\n",
       "<table border=\"1\" class=\"dataframe\">\n",
       "  <thead>\n",
       "    <tr style=\"text-align: right;\">\n",
       "      <th></th>\n",
       "      <th>word</th>\n",
       "      <th>care</th>\n",
       "      <th>fairness</th>\n",
       "      <th>loyalty</th>\n",
       "      <th>authority</th>\n",
       "      <th>sanctity</th>\n",
       "      <th>sent</th>\n",
       "      <th>total_seen</th>\n",
       "      <th>seen_care</th>\n",
       "      <th>seen_fairness</th>\n",
       "      <th>seen_loyalty</th>\n",
       "      <th>seen_authority</th>\n",
       "      <th>seen_sanctity</th>\n",
       "    </tr>\n",
       "    <tr>\n",
       "      <th>word</th>\n",
       "      <th></th>\n",
       "      <th></th>\n",
       "      <th></th>\n",
       "      <th></th>\n",
       "      <th></th>\n",
       "      <th></th>\n",
       "      <th></th>\n",
       "      <th></th>\n",
       "      <th></th>\n",
       "      <th></th>\n",
       "      <th></th>\n",
       "      <th></th>\n",
       "      <th></th>\n",
       "    </tr>\n",
       "  </thead>\n",
       "  <tbody>\n",
       "    <tr>\n",
       "      <th>obscenity</th>\n",
       "      <td>obscenity</td>\n",
       "      <td>0.0</td>\n",
       "      <td>0.0</td>\n",
       "      <td>0.0</td>\n",
       "      <td>0.0</td>\n",
       "      <td>0.0</td>\n",
       "      <td>0.0</td>\n",
       "      <td>9.0</td>\n",
       "      <td>1.0</td>\n",
       "      <td>1.0</td>\n",
       "      <td>2.0</td>\n",
       "      <td>1.0</td>\n",
       "      <td>4.0</td>\n",
       "    </tr>\n",
       "    <tr>\n",
       "      <th>fate</th>\n",
       "      <td>fate</td>\n",
       "      <td>0.0</td>\n",
       "      <td>0.0</td>\n",
       "      <td>0.0</td>\n",
       "      <td>0.0</td>\n",
       "      <td>0.0</td>\n",
       "      <td>0.0</td>\n",
       "      <td>121.0</td>\n",
       "      <td>24.0</td>\n",
       "      <td>30.0</td>\n",
       "      <td>22.0</td>\n",
       "      <td>24.0</td>\n",
       "      <td>22.0</td>\n",
       "    </tr>\n",
       "    <tr>\n",
       "      <th>mass</th>\n",
       "      <td>mass</td>\n",
       "      <td>0.0</td>\n",
       "      <td>0.0</td>\n",
       "      <td>0.0</td>\n",
       "      <td>0.0</td>\n",
       "      <td>0.0</td>\n",
       "      <td>0.0</td>\n",
       "      <td>661.0</td>\n",
       "      <td>131.0</td>\n",
       "      <td>139.0</td>\n",
       "      <td>129.0</td>\n",
       "      <td>151.0</td>\n",
       "      <td>111.0</td>\n",
       "    </tr>\n",
       "    <tr>\n",
       "      <th>sewer</th>\n",
       "      <td>sewer</td>\n",
       "      <td>0.0</td>\n",
       "      <td>0.0</td>\n",
       "      <td>0.0</td>\n",
       "      <td>0.0</td>\n",
       "      <td>0.0</td>\n",
       "      <td>0.0</td>\n",
       "      <td>17.0</td>\n",
       "      <td>5.0</td>\n",
       "      <td>1.0</td>\n",
       "      <td>4.0</td>\n",
       "      <td>4.0</td>\n",
       "      <td>3.0</td>\n",
       "    </tr>\n",
       "    <tr>\n",
       "      <th>expunge</th>\n",
       "      <td>expunge</td>\n",
       "      <td>0.0</td>\n",
       "      <td>0.0</td>\n",
       "      <td>0.0</td>\n",
       "      <td>0.0</td>\n",
       "      <td>0.0</td>\n",
       "      <td>0.0</td>\n",
       "      <td>13.0</td>\n",
       "      <td>1.0</td>\n",
       "      <td>4.0</td>\n",
       "      <td>3.0</td>\n",
       "      <td>3.0</td>\n",
       "      <td>2.0</td>\n",
       "    </tr>\n",
       "  </tbody>\n",
       "</table>\n",
       "</div>"
      ],
      "text/plain": [
       "                word  care  fairness  loyalty  authority  sanctity  sent  \\\n",
       "word                                                                       \n",
       "obscenity  obscenity   0.0       0.0      0.0        0.0       0.0   0.0   \n",
       "fate            fate   0.0       0.0      0.0        0.0       0.0   0.0   \n",
       "mass            mass   0.0       0.0      0.0        0.0       0.0   0.0   \n",
       "sewer          sewer   0.0       0.0      0.0        0.0       0.0   0.0   \n",
       "expunge      expunge   0.0       0.0      0.0        0.0       0.0   0.0   \n",
       "\n",
       "           total_seen  seen_care  seen_fairness  seen_loyalty  seen_authority  \\\n",
       "word                                                                            \n",
       "obscenity         9.0        1.0            1.0           2.0             1.0   \n",
       "fate            121.0       24.0           30.0          22.0            24.0   \n",
       "mass            661.0      131.0          139.0         129.0           151.0   \n",
       "sewer            17.0        5.0            1.0           4.0             4.0   \n",
       "expunge          13.0        1.0            4.0           3.0             3.0   \n",
       "\n",
       "           seen_sanctity  \n",
       "word                      \n",
       "obscenity            4.0  \n",
       "fate                22.0  \n",
       "mass               111.0  \n",
       "sewer                3.0  \n",
       "expunge              2.0  "
      ]
     },
     "execution_count": 32,
     "metadata": {},
     "output_type": "execute_result"
    }
   ],
   "source": [
    "vocab.head()"
   ]
  },
  {
   "cell_type": "markdown",
   "metadata": {},
   "source": [
    "As can be seen from the above vocabulary, we now know that the word obscenity was seen a total of 9 times across all coders. Respectively, convoy has been seen by 1 care-coder, 1 fairness-coder, and so on."
   ]
  },
  {
   "cell_type": "code",
   "execution_count": 33,
   "metadata": {},
   "outputs": [],
   "source": [
    "vocab = vocab.dropna(subset=['total_seen'])\n",
    "vocab = vocab[vocab.total_seen > 0]"
   ]
  },
  {
   "cell_type": "code",
   "execution_count": 34,
   "metadata": {},
   "outputs": [],
   "source": [
    "del vocab['sent']"
   ]
  },
  {
   "cell_type": "code",
   "execution_count": 35,
   "metadata": {},
   "outputs": [],
   "source": [
    "vocab['pos_sent'] = 0.0\n",
    "vocab['neg_sent'] = 0.0\n",
    "vocab['comp_sent'] = 0.0"
   ]
  },
  {
   "cell_type": "markdown",
   "metadata": {},
   "source": [
    "### 4) Score Vocabulary"
   ]
  },
  {
   "cell_type": "markdown",
   "metadata": {},
   "source": [
    "As a first step in scoring the vocabulary, we iterate over all highlights. Once a word is found in the vocabulary, we first obtain the foundation of the highlight where this word was mentioned. Then, in the vocabulary, we go to the column that reflects this foundation and increment a `1`. By doing so, we create a vocabulary that reflects how often a certain word appeared in highlights with a certain foundation."
   ]
  },
  {
   "cell_type": "code",
   "execution_count": 36,
   "metadata": {},
   "outputs": [],
   "source": [
    "# Iterate over each word in each highlight and increment foundation counts\n",
    "# Transform vocab into dictionary for faster hash functionality\n",
    "words = {k:0.0 for k in vocab.index} \n",
    "\n",
    "for i,row in hl.iterrows():\n",
    "\n",
    "    highlight = row.tokens\n",
    "    found = row.assigned_domain \n",
    "    comp = row.comp\n",
    "    pos = row.pos\n",
    "    neg = row.neg\n",
    "    \n",
    "    for word in highlight:\n",
    "        if word in words.keys():\n",
    "            vocab.at[str(word),found] += 1\n",
    "            vocab.at[str(word),'pos_sent'] += pos\n",
    "            vocab.at[str(word),'neg_sent'] += neg\n",
    "            vocab.at[str(word),'comp_sent'] += comp\n",
    "\n",
    "vocab['sum_hl'] = vocab[foundations].sum(axis=1)\n",
    "vocab = vocab.fillna(0)"
   ]
  },
  {
   "cell_type": "code",
   "execution_count": 37,
   "metadata": {},
   "outputs": [],
   "source": [
    "vocab = vocab[vocab.sum_hl > 0]"
   ]
  },
  {
   "cell_type": "code",
   "execution_count": 38,
   "metadata": {},
   "outputs": [],
   "source": [
    "foundations = ['care','fairness','loyalty','authority','sanctity']"
   ]
  },
  {
   "cell_type": "markdown",
   "metadata": {},
   "source": [
    "### 5) Divide highlight counts by seen_by Columns"
   ]
  },
  {
   "cell_type": "markdown",
   "metadata": {},
   "source": [
    "In the next step, we divide the total frequency a word has been highlighted with a certain foundation by the number of times this word has been seen by coders who were assigned that foundation. Doing so yields us a probabality that a word was highlighted by a coder. As an example, if the word `kill` has .8 in the Care_norm column, then this means that there is a 80% probability that `kill` was highlighted by a coder assigned the Care foundation."
   ]
  },
  {
   "cell_type": "code",
   "execution_count": 39,
   "metadata": {},
   "outputs": [],
   "source": [
    "for i,row in vocab.iterrows():\n",
    "    if row.seen_care != 0:\n",
    "        vocab.at[i, 'care_norm'] = row.care / row.seen_care\n",
    "    if row.seen_fairness != 0:\n",
    "        vocab.at[i, 'fairness_norm'] = row.fairness / row.seen_fairness\n",
    "    if row.seen_authority != 0:\n",
    "        vocab.at[i, 'authority_norm'] = row.authority / row.seen_authority\n",
    "    if row.seen_loyalty != 0:\n",
    "        vocab.at[i, 'loyalty_norm'] = row.loyalty / row.seen_loyalty\n",
    "    if row.seen_sanctity != 0:\n",
    "        vocab.at[i, 'sanctity_norm'] = row.sanctity / row.seen_sanctity\n",
    "    if row.sum_hl != 0 and row.total_seen != 0:\n",
    "        vocab.at[i, 'moral'] = row.sum_hl / row.total_seen"
   ]
  },
  {
   "cell_type": "code",
   "execution_count": 40,
   "metadata": {},
   "outputs": [],
   "source": [
    "vocab = vocab.fillna(0)"
   ]
  },
  {
   "cell_type": "code",
   "execution_count": 41,
   "metadata": {},
   "outputs": [],
   "source": [
    "# Define aggregated columns\n",
    "weights_f = [c for c in vocab.columns if c.endswith('_norm')]\n",
    "senti_cols = [c for c in vocab.columns if c.endswith('sent')]"
   ]
  },
  {
   "cell_type": "code",
   "execution_count": 42,
   "metadata": {},
   "outputs": [],
   "source": [
    "# Average sentiment scores by dividing aggregate sentiment scores with the number of highlights that word appeared in \n",
    "vocab[senti_cols] = vocab[senti_cols].divide(vocab['sum_hl'], axis=0)"
   ]
  },
  {
   "cell_type": "code",
   "execution_count": 43,
   "metadata": {},
   "outputs": [],
   "source": [
    "# Remove words whose probabilities are above 1 for any given foundation (caused by minor preprocessing glitches)\n",
    "vocab = vocab[(vocab['care_norm'] <= 1) & (vocab['fairness_norm'] <= 1) & (vocab['authority_norm'] <= 1) & (vocab['loyalty_norm'] <= 1) & (vocab['sanctity_norm'] <= 1)] "
   ]
  },
  {
   "cell_type": "code",
   "execution_count": 44,
   "metadata": {},
   "outputs": [],
   "source": [
    "# Ensure each word has been seen at least 10 times by any foundation coder\n",
    "vocab = vocab[(vocab['seen_care'] > 10) & (vocab['seen_fairness'] > 10) & (vocab['seen_loyalty'] > 10) & (vocab['seen_authority'] > 10) & (vocab['seen_sanctity'] > 10)] "
   ]
  },
  {
   "cell_type": "code",
   "execution_count": 45,
   "metadata": {},
   "outputs": [],
   "source": [
    "# Ensure each word has been highlighted at least 5 times with any foundation\n",
    "vocab = vocab.iloc[pd.np.where(vocab[['care', 'fairness', 'loyalty','authority','sanctity']].ge(5).any(1, skipna=True))]"
   ]
  },
  {
   "cell_type": "code",
   "execution_count": 47,
   "metadata": {},
   "outputs": [],
   "source": [
    "# Filter out words whose variance across foundation probabilities is smaller than the 10th quartile.\n",
    "vocab['var'] = vocab[weights_f].var(axis=1)\n",
    "vocab = vocab[vocab['var'] > vocab['var'].quantile(0.1)]"
   ]
  },
  {
   "cell_type": "code",
   "execution_count": 49,
   "metadata": {},
   "outputs": [
    {
     "name": "stderr",
     "output_type": "stream",
     "text": [
      "/usr/local/anaconda3/lib/python3.6/site-packages/ipykernel_launcher.py:2: SettingWithCopyWarning: \n",
      "A value is trying to be set on a copy of a slice from a DataFrame.\n",
      "Try using .loc[row_indexer,col_indexer] = value instead\n",
      "\n",
      "See the caveats in the documentation: http://pandas.pydata.org/pandas-docs/stable/indexing.html#indexing-view-versus-copy\n",
      "  \n",
      "/usr/local/anaconda3/lib/python3.6/site-packages/ipykernel_launcher.py:3: SettingWithCopyWarning: \n",
      "A value is trying to be set on a copy of a slice from a DataFrame.\n",
      "Try using .loc[row_indexer,col_indexer] = value instead\n",
      "\n",
      "See the caveats in the documentation: http://pandas.pydata.org/pandas-docs/stable/indexing.html#indexing-view-versus-copy\n",
      "  This is separate from the ipykernel package so we can avoid doing imports until\n"
     ]
    }
   ],
   "source": [
    "# Score Sentiment of each unique word with VADER\n",
    "vocab['ind_vader'] = vocab.word.apply(lambda x: analyzer.polarity_scores(x)) \n",
    "vocab['ind_comp'] = vocab['ind_vader'].apply(pd.Series)['compound']"
   ]
  },
  {
   "cell_type": "markdown",
   "metadata": {},
   "source": [
    "Add most likely POS tag for each word:"
   ]
  },
  {
   "cell_type": "code",
   "execution_count": 50,
   "metadata": {},
   "outputs": [],
   "source": [
    "import nltk \n",
    "from nltk.corpus import brown"
   ]
  },
  {
   "cell_type": "code",
   "execution_count": 51,
   "metadata": {},
   "outputs": [],
   "source": [
    "fd = nltk.FreqDist(brown.words())\n",
    "cfd = nltk.ConditionalFreqDist(brown.tagged_words())\n",
    "most_freq_words = fd.most_common()\n",
    "likely_tags = dict((word, cfd[word].max()) for (word, _) in most_freq_words)\n",
    "baseline_tagger = nltk.UnigramTagger(model=likely_tags)"
   ]
  },
  {
   "cell_type": "code",
   "execution_count": 52,
   "metadata": {},
   "outputs": [
    {
     "name": "stderr",
     "output_type": "stream",
     "text": [
      "/usr/local/anaconda3/lib/python3.6/site-packages/ipykernel_launcher.py:1: SettingWithCopyWarning: \n",
      "A value is trying to be set on a copy of a slice from a DataFrame.\n",
      "Try using .loc[row_indexer,col_indexer] = value instead\n",
      "\n",
      "See the caveats in the documentation: http://pandas.pydata.org/pandas-docs/stable/indexing.html#indexing-view-versus-copy\n",
      "  \"\"\"Entry point for launching an IPython kernel.\n",
      "/usr/local/anaconda3/lib/python3.6/site-packages/ipykernel_launcher.py:2: SettingWithCopyWarning: \n",
      "A value is trying to be set on a copy of a slice from a DataFrame.\n",
      "Try using .loc[row_indexer,col_indexer] = value instead\n",
      "\n",
      "See the caveats in the documentation: http://pandas.pydata.org/pandas-docs/stable/indexing.html#indexing-view-versus-copy\n",
      "  \n",
      "/usr/local/anaconda3/lib/python3.6/site-packages/ipykernel_launcher.py:8: SettingWithCopyWarning: \n",
      "A value is trying to be set on a copy of a slice from a DataFrame.\n",
      "Try using .loc[row_indexer,col_indexer] = value instead\n",
      "\n",
      "See the caveats in the documentation: http://pandas.pydata.org/pandas-docs/stable/indexing.html#indexing-view-versus-copy\n",
      "  \n"
     ]
    }
   ],
   "source": [
    "vocab['tag'] = vocab['word'].apply(lambda x: baseline_tagger.tag([x]))\n",
    "vocab['tag'] = vocab['tag'].apply(lambda y: [x[1] for x in y])\n",
    "\n",
    "for i,row in vocab.iterrows():\n",
    "    if row.tag[0] == None:\n",
    "        vocab.at[i, 'tag'] = 'None'\n",
    "\n",
    "vocab['tag'] = vocab['tag'].apply(lambda y: y[0])\n",
    "\n",
    "for i,row in vocab.iterrows():\n",
    "    if row.tag == 'NN' or row.tag == 'NNS':\n",
    "        vocab.at[i, 'tag'] = 'n'\n",
    "    if row.tag == 'VBN' or row.tag == 'VBZ' or row.tag == 'VBD' or row.tag == 'VB' or row.tag == 'VBG':\n",
    "        vocab.at[i, 'tag'] = 'v'\n",
    "    if row.tag == 'JJ':\n",
    "        vocab.at[i, 'tag'] = 'a'\n",
    "    if row.tag == 'RB':\n",
    "        vocab.at[i, 'tag'] = 'r'\n",
    "    if row.tag == 'N':\n",
    "        vocab.at[i, 'tag'] = 'n'\n",
    "        \n",
    "pos_tags = ['n','v','a','r']\n",
    "vocab = vocab[vocab.tag.isin(pos_tags)]"
   ]
  },
  {
   "cell_type": "markdown",
   "metadata": {},
   "source": [
    "Delete words with neutral sentiment and create dictionary for context-indpendent use cases such as Affect Misattribution Procedures or Lexical Decision Tasks."
   ]
  },
  {
   "cell_type": "code",
   "execution_count": 53,
   "metadata": {},
   "outputs": [],
   "source": [
    "amp = vocab[vocab['ind_comp'] != 0]"
   ]
  },
  {
   "cell_type": "code",
   "execution_count": 54,
   "metadata": {},
   "outputs": [
    {
     "name": "stdout",
     "output_type": "stream",
     "text": [
      "Size of E-MFD with neutral words removed: 729\n"
     ]
    }
   ],
   "source": [
    "print('Size of E-MFD with neutral words removed:', len(amp))"
   ]
  },
  {
   "cell_type": "code",
   "execution_count": 55,
   "metadata": {},
   "outputs": [],
   "source": [
    "amp.to_pickle('dictionaries/emfd_amp.pkl')"
   ]
  },
  {
   "cell_type": "code",
   "execution_count": 56,
   "metadata": {},
   "outputs": [],
   "source": [
    "vocab.to_pickle('dictionaries/emfd_scoring.pkl')"
   ]
  }
 ],
 "metadata": {
  "kernelspec": {
   "display_name": "Python 3",
   "language": "python",
   "name": "python3"
  },
  "language_info": {
   "codemirror_mode": {
    "name": "ipython",
    "version": 3
   },
   "file_extension": ".py",
   "mimetype": "text/x-python",
   "name": "python",
   "nbconvert_exporter": "python",
   "pygments_lexer": "ipython3",
   "version": "3.6.7"
  }
 },
 "nbformat": 4,
 "nbformat_minor": 2
}
