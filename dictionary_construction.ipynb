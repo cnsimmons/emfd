{
 "cells": [
  {
   "cell_type": "markdown",
   "metadata": {},
   "source": [
    "# Construction of the Extended Moral Foundations Dicitonary (e-MFD)\n",
    "\n",
    "\n",
    "In this notebook, we show the steps applied to construct the e-MFD and encourage readers to read through the steps for enhanced clarity."
   ]
  },
  {
   "cell_type": "markdown",
   "metadata": {},
   "source": [
    "We begin with importing all packages that are relevant for this notebook."
   ]
  },
  {
   "cell_type": "markdown",
   "metadata": {},
   "source": [
    "***"
   ]
  },
  {
   "cell_type": "code",
   "execution_count": 1,
   "metadata": {},
   "outputs": [],
   "source": [
    "import pandas as pd\n",
    "pd.set_option('display.max_columns', 50)\n",
    "\n",
    "import numpy as np\n",
    "\n",
    "# Plotting\n",
    "from matplotlib import pyplot as plt\n",
    "import seaborn as sns\n",
    "sns.set_style('whitegrid')\n",
    "\n",
    "# NLP\n",
    "import spacy, re, fnmatch \n",
    "nlp = spacy.load('en')\n",
    "from nltk.sentiment.vader import SentimentIntensityAnalyzer\n",
    "from string import punctuation\n",
    "from sklearn.feature_extraction.text import CountVectorizer\n",
    "\n",
    "# Stopwords \n",
    "from nltk.corpus import stopwords\n",
    "nltk_stopwords = stopwords.words('english')\n",
    "from sklearn.feature_extraction.stop_words import ENGLISH_STOP_WORDS\n",
    "from spacy.lang.en.stop_words import STOP_WORDS\n",
    "\n",
    "from multiprocessing import Pool"
   ]
  },
  {
   "cell_type": "markdown",
   "metadata": {},
   "source": [
    "***"
   ]
  },
  {
   "cell_type": "markdown",
   "metadata": {},
   "source": [
    "## Load and Preprocess Highlights"
   ]
  },
  {
   "cell_type": "markdown",
   "metadata": {},
   "source": [
    "In the below cell, we load all raw highlights (`hl`) and only select highlights from coders that spent at least 45 minutes using the MoNA Platform. "
   ]
  },
  {
   "cell_type": "code",
   "execution_count": 2,
   "metadata": {},
   "outputs": [],
   "source": [
    "# Load Highlights\n",
    "hl = pd.read_csv('data/highlights_raw.csv', index_col=0)\n",
    "hl = hl[hl.focus_duration >= 45*60]\n",
    "hl = hl[hl['coder_id']!= 549] #Excluded this person as their number of highlights exceeded the average number of highlights-per-coder by 2 standard deviations"
   ]
  },
  {
   "cell_type": "markdown",
   "metadata": {},
   "source": [
    "In the following cells, we define all functions that are used to preprocess the raw highlight data."
   ]
  },
  {
   "cell_type": "code",
   "execution_count": 3,
   "metadata": {},
   "outputs": [],
   "source": [
    "def filter_hl(hl):\n",
    "    \n",
    "    '''Ensures that each document has been coded by at least two coders that differed in their assigned foundation'''\n",
    "    \n",
    "    grouped_doc = hl.groupby(hl.document_id).nunique()\n",
    "    grouped_doc = grouped_doc[grouped_doc.assigned_domain >= 2]\n",
    "    grouped_doc = grouped_doc[np.logical_and(grouped_doc.coder_id <= 15, grouped_doc.coder_id >= 2)] \n",
    "    \n",
    "    keep_docs = grouped_doc.index.values\n",
    "    hl = hl[hl.document_id.isin(keep_docs)]\n",
    "    \n",
    "    return hl"
   ]
  },
  {
   "cell_type": "code",
   "execution_count": 4,
   "metadata": {},
   "outputs": [],
   "source": [
    "def remove_entities(hl):\n",
    "    \n",
    "    '''Removes any entity contained in highlights'''\n",
    "    \n",
    "    entities = []\n",
    "    for doc in nlp.pipe(hl['content'].astype('unicode').values, disable=['tagger', 'parser','textcat'],\n",
    "                        batch_size=500, n_threads=-1):\n",
    "        entities.append(list(zip([ent.text for ent in doc.ents],[ent.label_ for ent in doc.ents])))\n",
    "        \n",
    "    entities = [ent for highlight in entities for ent in highlight]\n",
    "    rem_entities = []\n",
    "    for ent in entities:\n",
    "        if ent[1] != 'PRODUCT' and len(ent[0]) >= 3:\n",
    "            rem_entities.append(ent)  \n",
    "\n",
    "    rem_entities = [x[0] for x in set(rem_entities)]\n",
    "    rem_entities = [x.replace('(','') for x in rem_entities]\n",
    "    rem_entities = [x.replace(')','') for x in rem_entities]\n",
    "    \n",
    "    hl['content'] = hl['content'].str.replace(')','')\n",
    "    hl['content'] = hl['content'].str.replace('(','')\n",
    "\n",
    "    for ent in rem_entities:\n",
    "        pat = r\"\\b\"+ ent + r\"\\b\"\n",
    "        hl['content'] = hl['content'].str.replace(pat,'') \n",
    "        \n",
    "    return hl"
   ]
  },
  {
   "cell_type": "code",
   "execution_count": 5,
   "metadata": {},
   "outputs": [],
   "source": [
    "def remove_punctuation(hl):\n",
    "    \n",
    "    '''Removes punctuations and extra whitespace contained in highlights'''\n",
    "    \n",
    "    from string import punctuation\n",
    "    punctuation += '’'\n",
    "    punctuation = punctuation.replace('\\'','')\n",
    "    punctuation = punctuation.replace('-','')\n",
    "    for punct in punctuation:\n",
    "        hl['content'] = hl['content'].str.replace(punct,'')\n",
    "\n",
    "    hl['content'] = hl['content'].str.replace(r\"\\s+\",\" \")    \n",
    "    \n",
    "    return hl"
   ]
  },
  {
   "cell_type": "code",
   "execution_count": 6,
   "metadata": {},
   "outputs": [],
   "source": [
    "def pos_tag_sentiment(hl):\n",
    "    \n",
    "    '''Performs part of speech tagging.\n",
    "    Only certain POS are kept in the data (see keep_pos). \n",
    "    For a full tagging scheme, see https://spacy.io/api/annotation#pos-tagging \n",
    "    '''\n",
    "    \n",
    "    tokens = []\n",
    "    pos = []\n",
    "    tups = []\n",
    "\n",
    "    for doc in nlp.pipe(hl['content'].astype('unicode').values, disable=['ner','textcat', 'parser'],\n",
    "                        batch_size=500, n_threads=-1):    \n",
    "        tokens.append([n.text for n in doc])\n",
    "        pos.append([n.tag_ for n in doc])\n",
    "        tups.append(list(zip([n.text for n in doc], [n.tag_ for n in doc])))\n",
    "        \n",
    "    hl['tups'] = tups\n",
    "\n",
    "    # Define POS to keep and special characters to delete\n",
    "    keep_pos = ['NN','NNS','JJ','VB','VBD','VBG','VBN','VBP','VBZ','RB']\n",
    "    no_chars = [\"…\",\"'ve\",\"'s\",\"'ll\",\"'d\",\"\\\"\",\"'m\",\"'s\",\"'re\",\"–-\",'–-', '‘', '’d', '’ll', '’m', '’re', '’s', '’ve',\n",
    "                '“', ',,',',','(',')','.', '”', '\\n\\n',\"@realDonaldTrump\",\"n't\",'\\xad']\n",
    "\n",
    "    hl['tokens'] = hl.tups.apply(lambda y: [x[0] for x in y if np.logical_and(x[0] not in no_chars, x[1] in keep_pos)])\n",
    "\n",
    "    # Remove stopwords\n",
    "    stopwords = set(list(nltk_stopwords) + list(ENGLISH_STOP_WORDS) + list(STOP_WORDS))\n",
    "    hl['tokens'] = hl.tokens.apply(lambda y: [x for x in y if (x not in stopwords)]) \n",
    "\n",
    "    # Only keep words with min. three characters\n",
    "    hl['tokens'] = hl.tokens.apply(lambda y: [x for x in y if (len(x) >= 3)]) \n",
    "\n",
    "    # Lowercase\n",
    "    hl['tokens'] = hl.tokens.apply(lambda y: [x.lower() for x in y])\n",
    "\n",
    "    hl['content'] = hl.tokens.apply(lambda x: ','.join(x))\n",
    "    hl['content'] = hl.content.str.replace(',',' ')\n",
    "    \n",
    "    del hl['tups']\n",
    "    \n",
    "    #Sentiment analysis\n",
    "    analyzer = SentimentIntensityAnalyzer()\n",
    "    hl['vader'] = hl['content'].apply(lambda x: analyzer.polarity_scores(x)) \n",
    "    hl['comp'] = hl['vader'].apply(pd.Series)['compound']\n",
    "    hl['pos'] = hl['vader'].apply(pd.Series)['pos']\n",
    "    hl['neg'] = hl['vader'].apply(pd.Series)['neg']\n",
    "    hl['neu'] = hl['vader'].apply(pd.Series)['neu']\n",
    "    hl['sent_foundation'] = ''\n",
    "    \n",
    "    for i,row in hl.iterrows():\n",
    "        if row.comp < 0.0:\n",
    "            hl.at[i, 'sent_foundation'] = row.assigned_domain + '.vice'\n",
    "        elif row.comp > 0.0:\n",
    "            hl.at[i, 'sent_foundation'] = row.assigned_domain + '.virtue'\n",
    "        elif row.comp == 0.0:\n",
    "            hl.at[i, 'sent_foundation'] = row.assigned_domain + '.context'\n",
    "            \n",
    "    del hl['vader']\n",
    "    \n",
    "    return hl\n",
    "\n",
    "def parallelize_dataframe(df, func):\n",
    "    \n",
    "    '''Simple function to multiprocess functions on dataframe.\n",
    "    Adjust the Pool value to match your machine CPU capability'''\n",
    "    \n",
    "    df_split = np.array_split(df, 12)\n",
    "    pool = Pool(12)\n",
    "    df = pd.concat(pool.map(func, df_split))\n",
    "    pool.close()\n",
    "    pool.join()\n",
    "    \n",
    "    return df"
   ]
  },
  {
   "cell_type": "code",
   "execution_count": 7,
   "metadata": {},
   "outputs": [
    {
     "name": "stdout",
     "output_type": "stream",
     "text": [
      "Starting highlight preprocessing. This will take a few minutes.\n",
      "Total number of highlights in data before preprocessing: 63958\n",
      "Number of highlights after filtering bad highlights and documents: 47639\n",
      "Removed entities from highlights.\n",
      "Removed punctuations from highlights.\n",
      "POS tagging completed.\n",
      "Highlight preprocessing completed.\n",
      "Total number of highlights in training data: 35994\n",
      "Total number of unique documents in data: 991\n",
      "Total number of unique coders: 510\n"
     ]
    }
   ],
   "source": [
    "# Perform preprocessing by calling all functions \n",
    "print(\"Starting highlight preprocessing. This will take a few minutes.\")\n",
    "print('Total number of highlights in data before preprocessing:', len(hl))\n",
    "filtered_hl = parallelize_dataframe(hl, filter_hl)\n",
    "print(\"Number of highlights after filtering bad highlights and documents:\", len(filtered_hl))\n",
    "removed_entities = parallelize_dataframe(filtered_hl, remove_entities)\n",
    "print(\"Removed entities from highlights.\")\n",
    "removed_punctuation = parallelize_dataframe(removed_entities, remove_punctuation)\n",
    "print(\"Removed punctuations from highlights.\")\n",
    "hl = parallelize_dataframe(removed_punctuation, pos_tag_sentiment)\n",
    "print(\"POS tagging completed.\")\n",
    "\n",
    "# Filter highlights that are longer than the 90th percentile of highlight length to minimize noise\n",
    "hl['length'] = hl.tokens.apply(lambda x: len(x))\n",
    "hl = hl[np.logical_and(hl.length >= 3, hl.length <= hl.length.quantile(0.90))] \n",
    "print('Highlight preprocessing completed.')\n",
    "print(\"Total number of highlights in training data:\", len(hl))\n",
    "print('Total number of unique documents in data:', len(hl.document_id.unique()))\n",
    "print('Total number of unique coders:', len(hl.coder_id.unique()))\n",
    "hl.to_csv('data/highlights_preprocessed.csv', sep=';')"
   ]
  },
  {
   "cell_type": "markdown",
   "metadata": {},
   "source": [
    "***"
   ]
  },
  {
   "cell_type": "markdown",
   "metadata": {},
   "source": [
    "## Highlights Descriptives"
   ]
  },
  {
   "cell_type": "markdown",
   "metadata": {},
   "source": [
    "In the following, we provide a few descriptives on the preprocessed `hl` data."
   ]
  },
  {
   "cell_type": "markdown",
   "metadata": {},
   "source": [
    "**How many coders coded a particular document with a particular foundation?**"
   ]
  },
  {
   "cell_type": "code",
   "execution_count": 8,
   "metadata": {},
   "outputs": [
    {
     "data": {
      "text/plain": [
       "Text(0.5, 1.0, 'Figure 1. Frequency Distribution of Coders and Assigned Foundations')"
      ]
     },
     "execution_count": 8,
     "metadata": {},
     "output_type": "execute_result"
    },
    {
     "data": {
      "image/png": "[encoded data removed]",
      "text/plain": [
       "<Figure size 432x288 with 1 Axes>"
      ]
     },
     "metadata": {
      "needs_background": "light"
     },
     "output_type": "display_data"
    }
   ],
   "source": [
    "g=sns.barplot(x='assigned_domain', y='coder_id', data = hl.groupby('assigned_domain')['coder_id'].nunique().reset_index(), palette='husl', alpha=0.85)\n",
    "\n",
    "for index, row in hl.groupby('assigned_domain')['coder_id'].nunique().reset_index().iterrows():\n",
    "     g.text(x=index, y=row['coder_id']+2, s=row['coder_id'], color='black', ha=\"center\")\n",
    "\n",
    "plt.ylabel('Frequency of Coders')\n",
    "labels = [item.get_text().capitalize() for item in g.get_xticklabels()]\n",
    "g.set_xticklabels(labels)\n",
    "plt.xlabel('Assigned Foundation')\n",
    "plt.title('Figure 1. Frequency Distribution of Coders and Assigned Foundations')"
   ]
  },
  {
   "cell_type": "markdown",
   "metadata": {},
   "source": [
    "**How many highlights have been genereated for each foundation?**"
   ]
  },
  {
   "cell_type": "code",
   "execution_count": 9,
   "metadata": {},
   "outputs": [
    {
     "data": {
      "text/plain": [
       "Text(0.5, 1.0, 'Figure 2. Frequency Distribution of Produced Annotations per Foundation')"
      ]
     },
     "execution_count": 9,
     "metadata": {},
     "output_type": "execute_result"
    },
    {
     "data": {
      "image/png": "[encoded data removed]",
      "text/plain": [
       "<Figure size 432x288 with 1 Axes>"
      ]
     },
     "metadata": {
      "needs_background": "light"
     },
     "output_type": "display_data"
    }
   ],
   "source": [
    "g=sns.countplot(hl.assigned_domain,  order=hl.assigned_domain.value_counts().index, palette='husl', alpha=0.85)\n",
    "\n",
    "for index, row in pd.DataFrame(hl.assigned_domain.value_counts()).reset_index().iterrows():\n",
    "     g.text(x=index, y=row['assigned_domain']+2, s=row['assigned_domain'], color='black', ha=\"center\")\n",
    "\n",
    "labels = [item.get_text().capitalize() for item in g.get_xticklabels()]\n",
    "g.set_xticklabels(labels)\n",
    "plt.ylabel(\"Frequency\")\n",
    "plt.xlabel(\"Foundation\")\n",
    "plt.title('Figure 2. Frequency Distribution of Produced Annotations per Foundation')"
   ]
  },
  {
   "cell_type": "markdown",
   "metadata": {},
   "source": [
    "**Distribution of Highlight Length?**"
   ]
  },
  {
   "cell_type": "code",
   "execution_count": 10,
   "metadata": {},
   "outputs": [
    {
     "data": {
      "text/plain": [
       "Text(0.5, 1.0, 'Figure 3. Frequency Distribution of Annotation Length')"
      ]
     },
     "execution_count": 10,
     "metadata": {},
     "output_type": "execute_result"
    },
    {
     "data": {
      "image/png": "[encoded data removed]",
      "text/plain": [
       "<Figure size 432x288 with 1 Axes>"
      ]
     },
     "metadata": {
      "needs_background": "light"
     },
     "output_type": "display_data"
    }
   ],
   "source": [
    "sns.distplot(hl['length'], color='r', bins=11, kde=False)\n",
    "plt.xlabel('Annotation Length')\n",
    "plt.ylabel('Frequency')\n",
    "plt.title('Figure 3. Frequency Distribution of Annotation Length')"
   ]
  },
  {
   "cell_type": "code",
   "execution_count": 11,
   "metadata": {},
   "outputs": [
    {
     "data": {
      "text/plain": [
       "mean    6.141801\n",
       "std     2.722377\n",
       "Name: length, dtype: float64"
      ]
     },
     "execution_count": 11,
     "metadata": {},
     "output_type": "execute_result"
    }
   ],
   "source": [
    "hl['length'].describe()[['mean','std']]"
   ]
  },
  {
   "cell_type": "markdown",
   "metadata": {},
   "source": [
    "**Length of highlights per coder?**"
   ]
  },
  {
   "cell_type": "code",
   "execution_count": 12,
   "metadata": {},
   "outputs": [
    {
     "data": {
      "text/plain": [
       "Text(0.5, 1.0, 'Figure 4. Average Annotation Lenght per Coder')"
      ]
     },
     "execution_count": 12,
     "metadata": {},
     "output_type": "execute_result"
    },
    {
     "data": {
      "image/png": "[encoded data removed]",
      "text/plain": [
       "<Figure size 432x288 with 1 Axes>"
      ]
     },
     "metadata": {
      "needs_background": "light"
     },
     "output_type": "display_data"
    }
   ],
   "source": [
    "sns.distplot(hl.groupby(hl.coder_id)['length'].mean(), kde=True, color='r')\n",
    "# plt.xlim(0,5,1)\n",
    "plt.xlabel('Annotation Length')\n",
    "plt.ylabel('Density')\n",
    "plt.title('Figure 4. Average Annotation Lenght per Coder')"
   ]
  },
  {
   "cell_type": "markdown",
   "metadata": {},
   "source": [
    "**How many coders have been assigned per document?**"
   ]
  },
  {
   "cell_type": "code",
   "execution_count": 13,
   "metadata": {},
   "outputs": [
    {
     "data": {
      "text/plain": [
       "Text(0.5, 1.0, 'Figure 5. Frequency Distribution of Coders per Document')"
      ]
     },
     "execution_count": 13,
     "metadata": {},
     "output_type": "execute_result"
    },
    {
     "data": {
      "image/png": "[encoded data removed]",
      "text/plain": [
       "<Figure size 432x288 with 1 Axes>"
      ]
     },
     "metadata": {
      "needs_background": "light"
     },
     "output_type": "display_data"
    }
   ],
   "source": [
    "sns.distplot(hl.groupby(hl.document_id)['coder_id'].nunique(), kde=False, bins=12, color='r')\n",
    "plt.xlabel('Coders Per Document')\n",
    "plt.ylabel('Frequency')\n",
    "plt.title('Figure 5. Frequency Distribution of Coders per Document')"
   ]
  },
  {
   "cell_type": "code",
   "execution_count": 14,
   "metadata": {},
   "outputs": [
    {
     "data": {
      "text/plain": [
       "mean    6.593340\n",
       "std     2.002805\n",
       "Name: coder_id, dtype: float64"
      ]
     },
     "execution_count": 14,
     "metadata": {},
     "output_type": "execute_result"
    }
   ],
   "source": [
    "hl.groupby(hl.document_id)['coder_id'].nunique().describe()[['mean','std']]"
   ]
  },
  {
   "cell_type": "markdown",
   "metadata": {},
   "source": [
    "**How many foundations have been coded for each document?**"
   ]
  },
  {
   "cell_type": "code",
   "execution_count": 15,
   "metadata": {},
   "outputs": [
    {
     "data": {
      "text/plain": [
       "Text(0.5, 1.0, 'Figure 6. Frequency Distribution of Annotated Foundations per \\n Document')"
      ]
     },
     "execution_count": 15,
     "metadata": {},
     "output_type": "execute_result"
    },
    {
     "data": {
      "image/png": "[encoded data removed]",
      "text/plain": [
       "<Figure size 432x288 with 1 Axes>"
      ]
     },
     "metadata": {
      "needs_background": "light"
     },
     "output_type": "display_data"
    }
   ],
   "source": [
    "sns.distplot(hl.groupby(hl.document_id)['assigned_domain'].nunique(), kde=False, bins=4, color='r')\n",
    "plt.xlim(0,5,1)\n",
    "plt.xlabel('Annotated Foundations Per Document')\n",
    "plt.ylabel('Frequency')\n",
    "plt.title('Figure 6. Frequency Distribution of Annotated Foundations per \\n Document')"
   ]
  },
  {
   "cell_type": "code",
   "execution_count": 16,
   "metadata": {},
   "outputs": [
    {
     "data": {
      "text/plain": [
       "mean    3.742684\n",
       "std     0.899711\n",
       "Name: assigned_domain, dtype: float64"
      ]
     },
     "execution_count": 16,
     "metadata": {},
     "output_type": "execute_result"
    }
   ],
   "source": [
    "hl.groupby(hl.document_id)['assigned_domain'].nunique().describe()[['mean','std']]"
   ]
  },
  {
   "cell_type": "code",
   "execution_count": 17,
   "metadata": {},
   "outputs": [
    {
     "data": {
      "text/plain": [
       "Text(0.5, 1.0, 'Figure 6. Distribution of Composite Sentiment')"
      ]
     },
     "execution_count": 17,
     "metadata": {},
     "output_type": "execute_result"
    },
    {
     "data": {
      "image/png": "[encoded data removed]",
      "text/plain": [
       "<Figure size 432x288 with 1 Axes>"
      ]
     },
     "metadata": {
      "needs_background": "light"
     },
     "output_type": "display_data"
    }
   ],
   "source": [
    "sns.distplot(hl['comp'], kde=True, color='r')\n",
    "plt.xlabel('Annotated Foundations Per Document')\n",
    "plt.ylabel('Frequency')\n",
    "plt.title('Figure 6. Distribution of Composite Sentiment')"
   ]
  },
  {
   "cell_type": "markdown",
   "metadata": {},
   "source": [
    "**Sentiment per Foundation**"
   ]
  },
  {
   "cell_type": "code",
   "execution_count": 18,
   "metadata": {},
   "outputs": [
    {
     "data": {
      "text/plain": [
       "Text(0.5, 1.0, 'Figure 7. Frequency Distribution of Coders and Assigned Foundations')"
      ]
     },
     "execution_count": 18,
     "metadata": {},
     "output_type": "execute_result"
    },
    {
     "data": {
      "image/png": "[encoded data removed]",
      "text/plain": [
       "<Figure size 432x288 with 1 Axes>"
      ]
     },
     "metadata": {
      "needs_background": "light"
     },
     "output_type": "display_data"
    }
   ],
   "source": [
    "g=hl.groupby('assigned_domain')[['comp','pos','neg','neu']].mean().plot(kind='bar', colormap='Set2')\n",
    "plt.ylabel('Mean Sentiment Score')\n",
    "labels = [item.get_text().capitalize() for item in g.get_xticklabels()]\n",
    "g.set_xticklabels(labels)\n",
    "plt.xlabel('Assigned Foundation')\n",
    "plt.title('Figure 7. Frequency Distribution of Coders and Assigned Foundations')"
   ]
  },
  {
   "cell_type": "markdown",
   "metadata": {},
   "source": [
    "**How many highlights when considering sentiment?**"
   ]
  },
  {
   "cell_type": "code",
   "execution_count": 19,
   "metadata": {},
   "outputs": [
    {
     "data": {
      "text/plain": [
       "(array([ 0,  1,  2,  3,  4,  5,  6,  7,  8,  9, 10, 11, 12, 13, 14]),\n",
       " <a list of 15 Text xticklabel objects>)"
      ]
     },
     "execution_count": 19,
     "metadata": {},
     "output_type": "execute_result"
    },
    {
     "data": {
      "image/png": "[encoded data removed]",
      "text/plain": [
       "<Figure size 432x288 with 1 Axes>"
      ]
     },
     "metadata": {
      "needs_background": "light"
     },
     "output_type": "display_data"
    }
   ],
   "source": [
    "sns.countplot(hl.sent_foundation,  order=hl.sent_foundation.value_counts().index, palette='husl')\n",
    "plt.ylabel(\"Frequency\")\n",
    "plt.xlabel(\"Foundation\")\n",
    "plt.title('Figure 8. Frequency Distribution of Produced Highlights per Foundation')\n",
    "plt.xticks(rotation=40)"
   ]
  },
  {
   "cell_type": "markdown",
   "metadata": {},
   "source": [
    "***"
   ]
  },
  {
   "cell_type": "markdown",
   "metadata": {},
   "source": [
    "## Construct Vocabulary"
   ]
  },
  {
   "cell_type": "markdown",
   "metadata": {},
   "source": [
    "In the following steps, we construct the `vocabulary`. This vocabulary is a DataFrame that is indexed by each unique word that is found in the processed `hl`."
   ]
  },
  {
   "cell_type": "code",
   "execution_count": 20,
   "metadata": {},
   "outputs": [
    {
     "name": "stdout",
     "output_type": "stream",
     "text": [
      "Total number of words in highlights: 221068\n"
     ]
    }
   ],
   "source": [
    "tokens = [token for highlight in hl.tokens.values for token in highlight]\n",
    "print('Total number of words in highlights:', len(tokens))"
   ]
  },
  {
   "cell_type": "code",
   "execution_count": 21,
   "metadata": {},
   "outputs": [
    {
     "name": "stdout",
     "output_type": "stream",
     "text": [
      "Final vocabulary size after preprocessing: 15962\n"
     ]
    }
   ],
   "source": [
    "vocab = set(tokens)\n",
    "vocab = [x.lower() for x in vocab]\n",
    "vocab = [x for x in vocab if len(x) >= 3]\n",
    "\n",
    "stopwords = set(list(nltk_stopwords) + list(ENGLISH_STOP_WORDS) + list(STOP_WORDS))\n",
    "vocab = [x for x in vocab if x not in stopwords]\n",
    "\n",
    "vocab = pd.DataFrame(vocab)\n",
    "vocab = vocab.rename(columns={0:'word'})\n",
    "\n",
    "# Remove words with numbers \n",
    "def hasNumbers(inputString):\n",
    "    return any(char.isdigit() for char in inputString)\n",
    "\n",
    "def hasPunct(inputString):\n",
    "    if any(char in punctuation for char in inputString):\n",
    "        return 'True'\n",
    "    else:\n",
    "        return 'False'\n",
    "\n",
    "vocab['has_number'] = vocab.word.apply(lambda x: hasNumbers(x))\n",
    "vocab['has_punct'] = vocab.word.apply(lambda x: hasPunct(x))\n",
    "\n",
    "vocab = vocab[np.logical_and(vocab['has_number']==False, vocab['has_punct']=='False')]\n",
    "\n",
    "del vocab['has_number']\n",
    "del vocab['has_punct']\n",
    "\n",
    "base_founds = ['care','fairness','loyalty','authority','sanctity']\n",
    "    \n",
    "for f in base_founds:\n",
    "    vocab[str(f)+'_hlcts'] = 0.0\n",
    "\n",
    "vocab.index = vocab.word\n",
    "\n",
    "print('Final vocabulary size after preprocessing:', len(vocab))"
   ]
  },
  {
   "cell_type": "code",
   "execution_count": 22,
   "metadata": {},
   "outputs": [
    {
     "data": {
      "text/html": [
       "<div>\n",
       "<style scoped>\n",
       "    .dataframe tbody tr th:only-of-type {\n",
       "        vertical-align: middle;\n",
       "    }\n",
       "\n",
       "    .dataframe tbody tr th {\n",
       "        vertical-align: top;\n",
       "    }\n",
       "\n",
       "    .dataframe thead th {\n",
       "        text-align: right;\n",
       "    }\n",
       "</style>\n",
       "<table border=\"1\" class=\"dataframe\">\n",
       "  <thead>\n",
       "    <tr style=\"text-align: right;\">\n",
       "      <th></th>\n",
       "      <th>word</th>\n",
       "      <th>care_hlcts</th>\n",
       "      <th>fairness_hlcts</th>\n",
       "      <th>loyalty_hlcts</th>\n",
       "      <th>authority_hlcts</th>\n",
       "      <th>sanctity_hlcts</th>\n",
       "    </tr>\n",
       "    <tr>\n",
       "      <th>word</th>\n",
       "      <th></th>\n",
       "      <th></th>\n",
       "      <th></th>\n",
       "      <th></th>\n",
       "      <th></th>\n",
       "      <th></th>\n",
       "    </tr>\n",
       "  </thead>\n",
       "  <tbody>\n",
       "    <tr>\n",
       "      <th>piece</th>\n",
       "      <td>piece</td>\n",
       "      <td>0.0</td>\n",
       "      <td>0.0</td>\n",
       "      <td>0.0</td>\n",
       "      <td>0.0</td>\n",
       "      <td>0.0</td>\n",
       "    </tr>\n",
       "    <tr>\n",
       "      <th>characteristically</th>\n",
       "      <td>characteristically</td>\n",
       "      <td>0.0</td>\n",
       "      <td>0.0</td>\n",
       "      <td>0.0</td>\n",
       "      <td>0.0</td>\n",
       "      <td>0.0</td>\n",
       "    </tr>\n",
       "    <tr>\n",
       "      <th>skull</th>\n",
       "      <td>skull</td>\n",
       "      <td>0.0</td>\n",
       "      <td>0.0</td>\n",
       "      <td>0.0</td>\n",
       "      <td>0.0</td>\n",
       "      <td>0.0</td>\n",
       "    </tr>\n",
       "    <tr>\n",
       "      <th>rejects</th>\n",
       "      <td>rejects</td>\n",
       "      <td>0.0</td>\n",
       "      <td>0.0</td>\n",
       "      <td>0.0</td>\n",
       "      <td>0.0</td>\n",
       "      <td>0.0</td>\n",
       "    </tr>\n",
       "    <tr>\n",
       "      <th>generations</th>\n",
       "      <td>generations</td>\n",
       "      <td>0.0</td>\n",
       "      <td>0.0</td>\n",
       "      <td>0.0</td>\n",
       "      <td>0.0</td>\n",
       "      <td>0.0</td>\n",
       "    </tr>\n",
       "  </tbody>\n",
       "</table>\n",
       "</div>"
      ],
      "text/plain": [
       "                                  word  care_hlcts  fairness_hlcts  \\\n",
       "word                                                                 \n",
       "piece                            piece         0.0             0.0   \n",
       "characteristically  characteristically         0.0             0.0   \n",
       "skull                            skull         0.0             0.0   \n",
       "rejects                        rejects         0.0             0.0   \n",
       "generations                generations         0.0             0.0   \n",
       "\n",
       "                    loyalty_hlcts  authority_hlcts  sanctity_hlcts  \n",
       "word                                                                \n",
       "piece                         0.0              0.0             0.0  \n",
       "characteristically            0.0              0.0             0.0  \n",
       "skull                         0.0              0.0             0.0  \n",
       "rejects                       0.0              0.0             0.0  \n",
       "generations                   0.0              0.0             0.0  "
      ]
     },
     "execution_count": 22,
     "metadata": {},
     "output_type": "execute_result"
    }
   ],
   "source": [
    "vocab.head()"
   ]
  },
  {
   "cell_type": "markdown",
   "metadata": {},
   "source": [
    "### How many times has a word in the vocabulary been seen by (a) ALL coders and (b) by coders with a certain foundation?"
   ]
  },
  {
   "cell_type": "markdown",
   "metadata": {},
   "source": [
    "#### 1) How often does each word appear in each document"
   ]
  },
  {
   "cell_type": "markdown",
   "metadata": {},
   "source": [
    "In the cell below, we read in all the news articles that were seen and coded by the human coders. We then preprocess the document text by removing punctuations and stopwords. In a final step, we compute the frequency with which each word appeared in each document."
   ]
  },
  {
   "cell_type": "code",
   "execution_count": 23,
   "metadata": {},
   "outputs": [
    {
     "name": "stderr",
     "output_type": "stream",
     "text": [
      "/usr/local/anaconda3/lib/python3.6/site-packages/ipykernel_launcher.py:4: SettingWithCopyWarning: \n",
      "A value is trying to be set on a copy of a slice from a DataFrame.\n",
      "Try using .loc[row_indexer,col_indexer] = value instead\n",
      "\n",
      "See the caveats in the documentation: http://pandas.pydata.org/pandas-docs/stable/indexing.html#indexing-view-versus-copy\n",
      "  after removing the cwd from sys.path.\n",
      "/usr/local/anaconda3/lib/python3.6/site-packages/ipykernel_launcher.py:18: SettingWithCopyWarning: \n",
      "A value is trying to be set on a copy of a slice from a DataFrame.\n",
      "Try using .loc[row_indexer,col_indexer] = value instead\n",
      "\n",
      "See the caveats in the documentation: http://pandas.pydata.org/pandas-docs/stable/indexing.html#indexing-view-versus-copy\n"
     ]
    }
   ],
   "source": [
    "# Get the documents\n",
    "hl_docs = pd.read_pickle('data/coded_news.pkl')\n",
    "corpus = hl_docs[hl_docs.index.isin(hl.document_id)]\n",
    "corpus['text'] = corpus['text'].str.lower()\n",
    "\n",
    "def preprocess(text):\n",
    "    raw_text = text\n",
    "    for s in punctuation:\n",
    "        raw_text = raw_text.replace(s,'')\n",
    "    for s in stopwords:\n",
    "        regex = re.compile(r\"\\b{}\\b\".format(s))\n",
    "        raw_text = re.sub(regex, '', raw_text)\n",
    "    raw_text = raw_text.replace('\\'','')\n",
    "    raw_text = raw_text.strip()\n",
    "    raw_text = \" \".join(raw_text.split())\n",
    "    return raw_text\n",
    "\n",
    "corpus['text'] = corpus['text'].apply(lambda x:preprocess(x))\n",
    "\n",
    "# Calculate term frequency\n",
    "vec = CountVectorizer(stop_words=stopwords)\n",
    "X = vec.fit_transform(corpus['text'])\n",
    "word_per_doc = pd.DataFrame(X.toarray(), columns=vec.get_feature_names())\n",
    "word_per_doc.index = corpus.index\n",
    "word_per_doc = word_per_doc.T\n",
    "word_per_doc = word_per_doc.reset_index().rename(columns={'index':'word'})\n",
    "word_per_doc = word_per_doc[word_per_doc.word.isin(vocab.word)]\n",
    "word_per_doc = word_per_doc.set_index('word').T\n",
    "word_per_doc = word_per_doc.fillna(0)"
   ]
  },
  {
   "cell_type": "markdown",
   "metadata": {},
   "source": [
    "The result is a D x W matrix where D = number of unique documents and W = number of unique words. Each cell in that matrix captures how often that word appeared in that document."
   ]
  },
  {
   "cell_type": "code",
   "execution_count": 24,
   "metadata": {},
   "outputs": [
    {
     "data": {
      "text/html": [
       "<div>\n",
       "<style scoped>\n",
       "    .dataframe tbody tr th:only-of-type {\n",
       "        vertical-align: middle;\n",
       "    }\n",
       "\n",
       "    .dataframe tbody tr th {\n",
       "        vertical-align: top;\n",
       "    }\n",
       "\n",
       "    .dataframe thead th {\n",
       "        text-align: right;\n",
       "    }\n",
       "</style>\n",
       "<table border=\"1\" class=\"dataframe\">\n",
       "  <thead>\n",
       "    <tr style=\"text-align: right;\">\n",
       "      <th>word</th>\n",
       "      <th>aback</th>\n",
       "      <th>abandon</th>\n",
       "      <th>abandoned</th>\n",
       "      <th>abandoning</th>\n",
       "      <th>abandonment</th>\n",
       "      <th>abdication</th>\n",
       "      <th>abdomen</th>\n",
       "      <th>abducted</th>\n",
       "      <th>abducting</th>\n",
       "      <th>abducts</th>\n",
       "      <th>abeed</th>\n",
       "      <th>abetted</th>\n",
       "      <th>abetting</th>\n",
       "      <th>abhorrent</th>\n",
       "      <th>abhorrently</th>\n",
       "      <th>abide</th>\n",
       "      <th>abided</th>\n",
       "      <th>abiding</th>\n",
       "      <th>ability</th>\n",
       "      <th>abjure</th>\n",
       "      <th>able</th>\n",
       "      <th>abnormal</th>\n",
       "      <th>abnormalities</th>\n",
       "      <th>aboard</th>\n",
       "      <th>abolish</th>\n",
       "      <th>...</th>\n",
       "      <th>yields</th>\n",
       "      <th>yogurt</th>\n",
       "      <th>yoke</th>\n",
       "      <th>young</th>\n",
       "      <th>youngsters</th>\n",
       "      <th>youth</th>\n",
       "      <th>youthful</th>\n",
       "      <th>youths</th>\n",
       "      <th>yuan</th>\n",
       "      <th>zany</th>\n",
       "      <th>zeal</th>\n",
       "      <th>zealots</th>\n",
       "      <th>zealous</th>\n",
       "      <th>zealously</th>\n",
       "      <th>zenith</th>\n",
       "      <th>zeroed</th>\n",
       "      <th>zinc</th>\n",
       "      <th>zingers</th>\n",
       "      <th>zombies</th>\n",
       "      <th>zone</th>\n",
       "      <th>zoned</th>\n",
       "      <th>zones</th>\n",
       "      <th>zoning</th>\n",
       "      <th>zoo</th>\n",
       "      <th>zooming</th>\n",
       "    </tr>\n",
       "  </thead>\n",
       "  <tbody>\n",
       "    <tr>\n",
       "      <th>4877</th>\n",
       "      <td>0</td>\n",
       "      <td>0</td>\n",
       "      <td>0</td>\n",
       "      <td>0</td>\n",
       "      <td>0</td>\n",
       "      <td>0</td>\n",
       "      <td>0</td>\n",
       "      <td>0</td>\n",
       "      <td>0</td>\n",
       "      <td>0</td>\n",
       "      <td>0</td>\n",
       "      <td>0</td>\n",
       "      <td>0</td>\n",
       "      <td>0</td>\n",
       "      <td>0</td>\n",
       "      <td>0</td>\n",
       "      <td>0</td>\n",
       "      <td>0</td>\n",
       "      <td>0</td>\n",
       "      <td>0</td>\n",
       "      <td>0</td>\n",
       "      <td>0</td>\n",
       "      <td>0</td>\n",
       "      <td>0</td>\n",
       "      <td>0</td>\n",
       "      <td>...</td>\n",
       "      <td>0</td>\n",
       "      <td>0</td>\n",
       "      <td>0</td>\n",
       "      <td>0</td>\n",
       "      <td>0</td>\n",
       "      <td>2</td>\n",
       "      <td>0</td>\n",
       "      <td>0</td>\n",
       "      <td>0</td>\n",
       "      <td>0</td>\n",
       "      <td>0</td>\n",
       "      <td>0</td>\n",
       "      <td>0</td>\n",
       "      <td>0</td>\n",
       "      <td>0</td>\n",
       "      <td>0</td>\n",
       "      <td>0</td>\n",
       "      <td>0</td>\n",
       "      <td>0</td>\n",
       "      <td>0</td>\n",
       "      <td>0</td>\n",
       "      <td>0</td>\n",
       "      <td>0</td>\n",
       "      <td>0</td>\n",
       "      <td>0</td>\n",
       "    </tr>\n",
       "    <tr>\n",
       "      <th>4879</th>\n",
       "      <td>0</td>\n",
       "      <td>0</td>\n",
       "      <td>0</td>\n",
       "      <td>0</td>\n",
       "      <td>0</td>\n",
       "      <td>0</td>\n",
       "      <td>0</td>\n",
       "      <td>0</td>\n",
       "      <td>0</td>\n",
       "      <td>0</td>\n",
       "      <td>0</td>\n",
       "      <td>0</td>\n",
       "      <td>0</td>\n",
       "      <td>0</td>\n",
       "      <td>0</td>\n",
       "      <td>0</td>\n",
       "      <td>0</td>\n",
       "      <td>0</td>\n",
       "      <td>0</td>\n",
       "      <td>0</td>\n",
       "      <td>0</td>\n",
       "      <td>0</td>\n",
       "      <td>0</td>\n",
       "      <td>0</td>\n",
       "      <td>0</td>\n",
       "      <td>...</td>\n",
       "      <td>0</td>\n",
       "      <td>0</td>\n",
       "      <td>0</td>\n",
       "      <td>0</td>\n",
       "      <td>0</td>\n",
       "      <td>0</td>\n",
       "      <td>0</td>\n",
       "      <td>0</td>\n",
       "      <td>0</td>\n",
       "      <td>0</td>\n",
       "      <td>0</td>\n",
       "      <td>0</td>\n",
       "      <td>0</td>\n",
       "      <td>0</td>\n",
       "      <td>0</td>\n",
       "      <td>0</td>\n",
       "      <td>0</td>\n",
       "      <td>0</td>\n",
       "      <td>0</td>\n",
       "      <td>0</td>\n",
       "      <td>0</td>\n",
       "      <td>0</td>\n",
       "      <td>0</td>\n",
       "      <td>0</td>\n",
       "      <td>0</td>\n",
       "    </tr>\n",
       "    <tr>\n",
       "      <th>4881</th>\n",
       "      <td>0</td>\n",
       "      <td>0</td>\n",
       "      <td>1</td>\n",
       "      <td>0</td>\n",
       "      <td>1</td>\n",
       "      <td>0</td>\n",
       "      <td>0</td>\n",
       "      <td>0</td>\n",
       "      <td>0</td>\n",
       "      <td>0</td>\n",
       "      <td>0</td>\n",
       "      <td>0</td>\n",
       "      <td>0</td>\n",
       "      <td>0</td>\n",
       "      <td>0</td>\n",
       "      <td>0</td>\n",
       "      <td>0</td>\n",
       "      <td>0</td>\n",
       "      <td>0</td>\n",
       "      <td>0</td>\n",
       "      <td>1</td>\n",
       "      <td>0</td>\n",
       "      <td>0</td>\n",
       "      <td>0</td>\n",
       "      <td>0</td>\n",
       "      <td>...</td>\n",
       "      <td>0</td>\n",
       "      <td>0</td>\n",
       "      <td>0</td>\n",
       "      <td>0</td>\n",
       "      <td>0</td>\n",
       "      <td>0</td>\n",
       "      <td>0</td>\n",
       "      <td>0</td>\n",
       "      <td>0</td>\n",
       "      <td>0</td>\n",
       "      <td>0</td>\n",
       "      <td>0</td>\n",
       "      <td>0</td>\n",
       "      <td>0</td>\n",
       "      <td>0</td>\n",
       "      <td>0</td>\n",
       "      <td>0</td>\n",
       "      <td>0</td>\n",
       "      <td>0</td>\n",
       "      <td>0</td>\n",
       "      <td>0</td>\n",
       "      <td>0</td>\n",
       "      <td>0</td>\n",
       "      <td>0</td>\n",
       "      <td>0</td>\n",
       "    </tr>\n",
       "    <tr>\n",
       "      <th>4887</th>\n",
       "      <td>0</td>\n",
       "      <td>0</td>\n",
       "      <td>0</td>\n",
       "      <td>0</td>\n",
       "      <td>0</td>\n",
       "      <td>0</td>\n",
       "      <td>0</td>\n",
       "      <td>0</td>\n",
       "      <td>0</td>\n",
       "      <td>0</td>\n",
       "      <td>0</td>\n",
       "      <td>0</td>\n",
       "      <td>0</td>\n",
       "      <td>0</td>\n",
       "      <td>0</td>\n",
       "      <td>0</td>\n",
       "      <td>0</td>\n",
       "      <td>0</td>\n",
       "      <td>0</td>\n",
       "      <td>0</td>\n",
       "      <td>0</td>\n",
       "      <td>0</td>\n",
       "      <td>0</td>\n",
       "      <td>0</td>\n",
       "      <td>0</td>\n",
       "      <td>...</td>\n",
       "      <td>0</td>\n",
       "      <td>0</td>\n",
       "      <td>0</td>\n",
       "      <td>0</td>\n",
       "      <td>0</td>\n",
       "      <td>0</td>\n",
       "      <td>0</td>\n",
       "      <td>0</td>\n",
       "      <td>0</td>\n",
       "      <td>0</td>\n",
       "      <td>0</td>\n",
       "      <td>0</td>\n",
       "      <td>0</td>\n",
       "      <td>0</td>\n",
       "      <td>0</td>\n",
       "      <td>0</td>\n",
       "      <td>0</td>\n",
       "      <td>0</td>\n",
       "      <td>0</td>\n",
       "      <td>0</td>\n",
       "      <td>0</td>\n",
       "      <td>0</td>\n",
       "      <td>0</td>\n",
       "      <td>0</td>\n",
       "      <td>0</td>\n",
       "    </tr>\n",
       "    <tr>\n",
       "      <th>4890</th>\n",
       "      <td>0</td>\n",
       "      <td>0</td>\n",
       "      <td>0</td>\n",
       "      <td>0</td>\n",
       "      <td>0</td>\n",
       "      <td>0</td>\n",
       "      <td>0</td>\n",
       "      <td>0</td>\n",
       "      <td>0</td>\n",
       "      <td>0</td>\n",
       "      <td>0</td>\n",
       "      <td>0</td>\n",
       "      <td>0</td>\n",
       "      <td>0</td>\n",
       "      <td>0</td>\n",
       "      <td>0</td>\n",
       "      <td>0</td>\n",
       "      <td>0</td>\n",
       "      <td>0</td>\n",
       "      <td>0</td>\n",
       "      <td>0</td>\n",
       "      <td>0</td>\n",
       "      <td>0</td>\n",
       "      <td>0</td>\n",
       "      <td>0</td>\n",
       "      <td>...</td>\n",
       "      <td>0</td>\n",
       "      <td>0</td>\n",
       "      <td>0</td>\n",
       "      <td>0</td>\n",
       "      <td>0</td>\n",
       "      <td>0</td>\n",
       "      <td>0</td>\n",
       "      <td>0</td>\n",
       "      <td>0</td>\n",
       "      <td>0</td>\n",
       "      <td>0</td>\n",
       "      <td>0</td>\n",
       "      <td>0</td>\n",
       "      <td>0</td>\n",
       "      <td>0</td>\n",
       "      <td>0</td>\n",
       "      <td>0</td>\n",
       "      <td>0</td>\n",
       "      <td>0</td>\n",
       "      <td>0</td>\n",
       "      <td>0</td>\n",
       "      <td>0</td>\n",
       "      <td>0</td>\n",
       "      <td>0</td>\n",
       "      <td>0</td>\n",
       "    </tr>\n",
       "  </tbody>\n",
       "</table>\n",
       "<p>5 rows × 15816 columns</p>\n",
       "</div>"
      ],
      "text/plain": [
       "word  aback  abandon  abandoned  abandoning  abandonment  abdication  abdomen  \\\n",
       "4877      0        0          0           0            0           0        0   \n",
       "4879      0        0          0           0            0           0        0   \n",
       "4881      0        0          1           0            1           0        0   \n",
       "4887      0        0          0           0            0           0        0   \n",
       "4890      0        0          0           0            0           0        0   \n",
       "\n",
       "word  abducted  abducting  abducts  abeed  abetted  abetting  abhorrent  \\\n",
       "4877         0          0        0      0        0         0          0   \n",
       "4879         0          0        0      0        0         0          0   \n",
       "4881         0          0        0      0        0         0          0   \n",
       "4887         0          0        0      0        0         0          0   \n",
       "4890         0          0        0      0        0         0          0   \n",
       "\n",
       "word  abhorrently  abide  abided  abiding  ability  abjure  able  abnormal  \\\n",
       "4877            0      0       0        0        0       0     0         0   \n",
       "4879            0      0       0        0        0       0     0         0   \n",
       "4881            0      0       0        0        0       0     1         0   \n",
       "4887            0      0       0        0        0       0     0         0   \n",
       "4890            0      0       0        0        0       0     0         0   \n",
       "\n",
       "word  abnormalities  aboard  abolish  ...  yields  yogurt  yoke  young  \\\n",
       "4877              0       0        0  ...       0       0     0      0   \n",
       "4879              0       0        0  ...       0       0     0      0   \n",
       "4881              0       0        0  ...       0       0     0      0   \n",
       "4887              0       0        0  ...       0       0     0      0   \n",
       "4890              0       0        0  ...       0       0     0      0   \n",
       "\n",
       "word  youngsters  youth  youthful  youths  yuan  zany  zeal  zealots  zealous  \\\n",
       "4877           0      2         0       0     0     0     0        0        0   \n",
       "4879           0      0         0       0     0     0     0        0        0   \n",
       "4881           0      0         0       0     0     0     0        0        0   \n",
       "4887           0      0         0       0     0     0     0        0        0   \n",
       "4890           0      0         0       0     0     0     0        0        0   \n",
       "\n",
       "word  zealously  zenith  zeroed  zinc  zingers  zombies  zone  zoned  zones  \\\n",
       "4877          0       0       0     0        0        0     0      0      0   \n",
       "4879          0       0       0     0        0        0     0      0      0   \n",
       "4881          0       0       0     0        0        0     0      0      0   \n",
       "4887          0       0       0     0        0        0     0      0      0   \n",
       "4890          0       0       0     0        0        0     0      0      0   \n",
       "\n",
       "word  zoning  zoo  zooming  \n",
       "4877       0    0        0  \n",
       "4879       0    0        0  \n",
       "4881       0    0        0  \n",
       "4887       0    0        0  \n",
       "4890       0    0        0  \n",
       "\n",
       "[5 rows x 15816 columns]"
      ]
     },
     "execution_count": 24,
     "metadata": {},
     "output_type": "execute_result"
    }
   ],
   "source": [
    "word_per_doc.head()"
   ]
  },
  {
   "cell_type": "markdown",
   "metadata": {},
   "source": [
    "#### 2) How many coders saw each document?"
   ]
  },
  {
   "cell_type": "markdown",
   "metadata": {},
   "source": [
    "In the following, we determine the total number of coders that have seen each document (see the `total_seen` column on the right in the below table)."
   ]
  },
  {
   "cell_type": "code",
   "execution_count": 25,
   "metadata": {},
   "outputs": [],
   "source": [
    "coders_per_doc = hl.groupby('document_id')['coder_id'].nunique()\n",
    "coders_per_doc = coders_per_doc.fillna(0)"
   ]
  },
  {
   "cell_type": "code",
   "execution_count": 26,
   "metadata": {},
   "outputs": [],
   "source": [
    "# Join these and multiply these with the above raw counts to get the total_seen variable \n",
    "total_seen = word_per_doc.join(coders_per_doc.rename('total_seen'))\n",
    "total_seen[[c for c in total_seen.columns if c != 'total_seen']] = total_seen[[c for c in total_seen.columns if c != 'total_seen']].multiply(total_seen['total_seen'], axis=0)"
   ]
  },
  {
   "cell_type": "code",
   "execution_count": 27,
   "metadata": {},
   "outputs": [
    {
     "data": {
      "text/html": [
       "<div>\n",
       "<style scoped>\n",
       "    .dataframe tbody tr th:only-of-type {\n",
       "        vertical-align: middle;\n",
       "    }\n",
       "\n",
       "    .dataframe tbody tr th {\n",
       "        vertical-align: top;\n",
       "    }\n",
       "\n",
       "    .dataframe thead th {\n",
       "        text-align: right;\n",
       "    }\n",
       "</style>\n",
       "<table border=\"1\" class=\"dataframe\">\n",
       "  <thead>\n",
       "    <tr style=\"text-align: right;\">\n",
       "      <th></th>\n",
       "      <th>aback</th>\n",
       "      <th>abandon</th>\n",
       "      <th>abandoned</th>\n",
       "      <th>abandoning</th>\n",
       "      <th>abandonment</th>\n",
       "      <th>abdication</th>\n",
       "      <th>abdomen</th>\n",
       "      <th>abducted</th>\n",
       "      <th>abducting</th>\n",
       "      <th>abducts</th>\n",
       "      <th>abeed</th>\n",
       "      <th>abetted</th>\n",
       "      <th>abetting</th>\n",
       "      <th>abhorrent</th>\n",
       "      <th>abhorrently</th>\n",
       "      <th>abide</th>\n",
       "      <th>abided</th>\n",
       "      <th>abiding</th>\n",
       "      <th>ability</th>\n",
       "      <th>abjure</th>\n",
       "      <th>able</th>\n",
       "      <th>abnormal</th>\n",
       "      <th>abnormalities</th>\n",
       "      <th>aboard</th>\n",
       "      <th>abolish</th>\n",
       "      <th>...</th>\n",
       "      <th>yogurt</th>\n",
       "      <th>yoke</th>\n",
       "      <th>young</th>\n",
       "      <th>youngsters</th>\n",
       "      <th>youth</th>\n",
       "      <th>youthful</th>\n",
       "      <th>youths</th>\n",
       "      <th>yuan</th>\n",
       "      <th>zany</th>\n",
       "      <th>zeal</th>\n",
       "      <th>zealots</th>\n",
       "      <th>zealous</th>\n",
       "      <th>zealously</th>\n",
       "      <th>zenith</th>\n",
       "      <th>zeroed</th>\n",
       "      <th>zinc</th>\n",
       "      <th>zingers</th>\n",
       "      <th>zombies</th>\n",
       "      <th>zone</th>\n",
       "      <th>zoned</th>\n",
       "      <th>zones</th>\n",
       "      <th>zoning</th>\n",
       "      <th>zoo</th>\n",
       "      <th>zooming</th>\n",
       "      <th>total_seen</th>\n",
       "    </tr>\n",
       "  </thead>\n",
       "  <tbody>\n",
       "    <tr>\n",
       "      <th>4877</th>\n",
       "      <td>0</td>\n",
       "      <td>0</td>\n",
       "      <td>0</td>\n",
       "      <td>0</td>\n",
       "      <td>0</td>\n",
       "      <td>0</td>\n",
       "      <td>0</td>\n",
       "      <td>0</td>\n",
       "      <td>0</td>\n",
       "      <td>0</td>\n",
       "      <td>0</td>\n",
       "      <td>0</td>\n",
       "      <td>0</td>\n",
       "      <td>0</td>\n",
       "      <td>0</td>\n",
       "      <td>0</td>\n",
       "      <td>0</td>\n",
       "      <td>0</td>\n",
       "      <td>0</td>\n",
       "      <td>0</td>\n",
       "      <td>0</td>\n",
       "      <td>0</td>\n",
       "      <td>0</td>\n",
       "      <td>0</td>\n",
       "      <td>0</td>\n",
       "      <td>...</td>\n",
       "      <td>0</td>\n",
       "      <td>0</td>\n",
       "      <td>0</td>\n",
       "      <td>0</td>\n",
       "      <td>14</td>\n",
       "      <td>0</td>\n",
       "      <td>0</td>\n",
       "      <td>0</td>\n",
       "      <td>0</td>\n",
       "      <td>0</td>\n",
       "      <td>0</td>\n",
       "      <td>0</td>\n",
       "      <td>0</td>\n",
       "      <td>0</td>\n",
       "      <td>0</td>\n",
       "      <td>0</td>\n",
       "      <td>0</td>\n",
       "      <td>0</td>\n",
       "      <td>0</td>\n",
       "      <td>0</td>\n",
       "      <td>0</td>\n",
       "      <td>0</td>\n",
       "      <td>0</td>\n",
       "      <td>0</td>\n",
       "      <td>7</td>\n",
       "    </tr>\n",
       "    <tr>\n",
       "      <th>4879</th>\n",
       "      <td>0</td>\n",
       "      <td>0</td>\n",
       "      <td>0</td>\n",
       "      <td>0</td>\n",
       "      <td>0</td>\n",
       "      <td>0</td>\n",
       "      <td>0</td>\n",
       "      <td>0</td>\n",
       "      <td>0</td>\n",
       "      <td>0</td>\n",
       "      <td>0</td>\n",
       "      <td>0</td>\n",
       "      <td>0</td>\n",
       "      <td>0</td>\n",
       "      <td>0</td>\n",
       "      <td>0</td>\n",
       "      <td>0</td>\n",
       "      <td>0</td>\n",
       "      <td>0</td>\n",
       "      <td>0</td>\n",
       "      <td>0</td>\n",
       "      <td>0</td>\n",
       "      <td>0</td>\n",
       "      <td>0</td>\n",
       "      <td>0</td>\n",
       "      <td>...</td>\n",
       "      <td>0</td>\n",
       "      <td>0</td>\n",
       "      <td>0</td>\n",
       "      <td>0</td>\n",
       "      <td>0</td>\n",
       "      <td>0</td>\n",
       "      <td>0</td>\n",
       "      <td>0</td>\n",
       "      <td>0</td>\n",
       "      <td>0</td>\n",
       "      <td>0</td>\n",
       "      <td>0</td>\n",
       "      <td>0</td>\n",
       "      <td>0</td>\n",
       "      <td>0</td>\n",
       "      <td>0</td>\n",
       "      <td>0</td>\n",
       "      <td>0</td>\n",
       "      <td>0</td>\n",
       "      <td>0</td>\n",
       "      <td>0</td>\n",
       "      <td>0</td>\n",
       "      <td>0</td>\n",
       "      <td>0</td>\n",
       "      <td>6</td>\n",
       "    </tr>\n",
       "    <tr>\n",
       "      <th>4881</th>\n",
       "      <td>0</td>\n",
       "      <td>0</td>\n",
       "      <td>9</td>\n",
       "      <td>0</td>\n",
       "      <td>9</td>\n",
       "      <td>0</td>\n",
       "      <td>0</td>\n",
       "      <td>0</td>\n",
       "      <td>0</td>\n",
       "      <td>0</td>\n",
       "      <td>0</td>\n",
       "      <td>0</td>\n",
       "      <td>0</td>\n",
       "      <td>0</td>\n",
       "      <td>0</td>\n",
       "      <td>0</td>\n",
       "      <td>0</td>\n",
       "      <td>0</td>\n",
       "      <td>0</td>\n",
       "      <td>0</td>\n",
       "      <td>9</td>\n",
       "      <td>0</td>\n",
       "      <td>0</td>\n",
       "      <td>0</td>\n",
       "      <td>0</td>\n",
       "      <td>...</td>\n",
       "      <td>0</td>\n",
       "      <td>0</td>\n",
       "      <td>0</td>\n",
       "      <td>0</td>\n",
       "      <td>0</td>\n",
       "      <td>0</td>\n",
       "      <td>0</td>\n",
       "      <td>0</td>\n",
       "      <td>0</td>\n",
       "      <td>0</td>\n",
       "      <td>0</td>\n",
       "      <td>0</td>\n",
       "      <td>0</td>\n",
       "      <td>0</td>\n",
       "      <td>0</td>\n",
       "      <td>0</td>\n",
       "      <td>0</td>\n",
       "      <td>0</td>\n",
       "      <td>0</td>\n",
       "      <td>0</td>\n",
       "      <td>0</td>\n",
       "      <td>0</td>\n",
       "      <td>0</td>\n",
       "      <td>0</td>\n",
       "      <td>9</td>\n",
       "    </tr>\n",
       "    <tr>\n",
       "      <th>4887</th>\n",
       "      <td>0</td>\n",
       "      <td>0</td>\n",
       "      <td>0</td>\n",
       "      <td>0</td>\n",
       "      <td>0</td>\n",
       "      <td>0</td>\n",
       "      <td>0</td>\n",
       "      <td>0</td>\n",
       "      <td>0</td>\n",
       "      <td>0</td>\n",
       "      <td>0</td>\n",
       "      <td>0</td>\n",
       "      <td>0</td>\n",
       "      <td>0</td>\n",
       "      <td>0</td>\n",
       "      <td>0</td>\n",
       "      <td>0</td>\n",
       "      <td>0</td>\n",
       "      <td>0</td>\n",
       "      <td>0</td>\n",
       "      <td>0</td>\n",
       "      <td>0</td>\n",
       "      <td>0</td>\n",
       "      <td>0</td>\n",
       "      <td>0</td>\n",
       "      <td>...</td>\n",
       "      <td>0</td>\n",
       "      <td>0</td>\n",
       "      <td>0</td>\n",
       "      <td>0</td>\n",
       "      <td>0</td>\n",
       "      <td>0</td>\n",
       "      <td>0</td>\n",
       "      <td>0</td>\n",
       "      <td>0</td>\n",
       "      <td>0</td>\n",
       "      <td>0</td>\n",
       "      <td>0</td>\n",
       "      <td>0</td>\n",
       "      <td>0</td>\n",
       "      <td>0</td>\n",
       "      <td>0</td>\n",
       "      <td>0</td>\n",
       "      <td>0</td>\n",
       "      <td>0</td>\n",
       "      <td>0</td>\n",
       "      <td>0</td>\n",
       "      <td>0</td>\n",
       "      <td>0</td>\n",
       "      <td>0</td>\n",
       "      <td>8</td>\n",
       "    </tr>\n",
       "    <tr>\n",
       "      <th>4890</th>\n",
       "      <td>0</td>\n",
       "      <td>0</td>\n",
       "      <td>0</td>\n",
       "      <td>0</td>\n",
       "      <td>0</td>\n",
       "      <td>0</td>\n",
       "      <td>0</td>\n",
       "      <td>0</td>\n",
       "      <td>0</td>\n",
       "      <td>0</td>\n",
       "      <td>0</td>\n",
       "      <td>0</td>\n",
       "      <td>0</td>\n",
       "      <td>0</td>\n",
       "      <td>0</td>\n",
       "      <td>0</td>\n",
       "      <td>0</td>\n",
       "      <td>0</td>\n",
       "      <td>0</td>\n",
       "      <td>0</td>\n",
       "      <td>0</td>\n",
       "      <td>0</td>\n",
       "      <td>0</td>\n",
       "      <td>0</td>\n",
       "      <td>0</td>\n",
       "      <td>...</td>\n",
       "      <td>0</td>\n",
       "      <td>0</td>\n",
       "      <td>0</td>\n",
       "      <td>0</td>\n",
       "      <td>0</td>\n",
       "      <td>0</td>\n",
       "      <td>0</td>\n",
       "      <td>0</td>\n",
       "      <td>0</td>\n",
       "      <td>0</td>\n",
       "      <td>0</td>\n",
       "      <td>0</td>\n",
       "      <td>0</td>\n",
       "      <td>0</td>\n",
       "      <td>0</td>\n",
       "      <td>0</td>\n",
       "      <td>0</td>\n",
       "      <td>0</td>\n",
       "      <td>0</td>\n",
       "      <td>0</td>\n",
       "      <td>0</td>\n",
       "      <td>0</td>\n",
       "      <td>0</td>\n",
       "      <td>0</td>\n",
       "      <td>3</td>\n",
       "    </tr>\n",
       "  </tbody>\n",
       "</table>\n",
       "<p>5 rows × 15817 columns</p>\n",
       "</div>"
      ],
      "text/plain": [
       "      aback  abandon  abandoned  abandoning  abandonment  abdication  abdomen  \\\n",
       "4877      0        0          0           0            0           0        0   \n",
       "4879      0        0          0           0            0           0        0   \n",
       "4881      0        0          9           0            9           0        0   \n",
       "4887      0        0          0           0            0           0        0   \n",
       "4890      0        0          0           0            0           0        0   \n",
       "\n",
       "      abducted  abducting  abducts  abeed  abetted  abetting  abhorrent  \\\n",
       "4877         0          0        0      0        0         0          0   \n",
       "4879         0          0        0      0        0         0          0   \n",
       "4881         0          0        0      0        0         0          0   \n",
       "4887         0          0        0      0        0         0          0   \n",
       "4890         0          0        0      0        0         0          0   \n",
       "\n",
       "      abhorrently  abide  abided  abiding  ability  abjure  able  abnormal  \\\n",
       "4877            0      0       0        0        0       0     0         0   \n",
       "4879            0      0       0        0        0       0     0         0   \n",
       "4881            0      0       0        0        0       0     9         0   \n",
       "4887            0      0       0        0        0       0     0         0   \n",
       "4890            0      0       0        0        0       0     0         0   \n",
       "\n",
       "      abnormalities  aboard  abolish  ...  yogurt  yoke  young  youngsters  \\\n",
       "4877              0       0        0  ...       0     0      0           0   \n",
       "4879              0       0        0  ...       0     0      0           0   \n",
       "4881              0       0        0  ...       0     0      0           0   \n",
       "4887              0       0        0  ...       0     0      0           0   \n",
       "4890              0       0        0  ...       0     0      0           0   \n",
       "\n",
       "      youth  youthful  youths  yuan  zany  zeal  zealots  zealous  zealously  \\\n",
       "4877     14         0       0     0     0     0        0        0          0   \n",
       "4879      0         0       0     0     0     0        0        0          0   \n",
       "4881      0         0       0     0     0     0        0        0          0   \n",
       "4887      0         0       0     0     0     0        0        0          0   \n",
       "4890      0         0       0     0     0     0        0        0          0   \n",
       "\n",
       "      zenith  zeroed  zinc  zingers  zombies  zone  zoned  zones  zoning  zoo  \\\n",
       "4877       0       0     0        0        0     0      0      0       0    0   \n",
       "4879       0       0     0        0        0     0      0      0       0    0   \n",
       "4881       0       0     0        0        0     0      0      0       0    0   \n",
       "4887       0       0     0        0        0     0      0      0       0    0   \n",
       "4890       0       0     0        0        0     0      0      0       0    0   \n",
       "\n",
       "      zooming  total_seen  \n",
       "4877        0           7  \n",
       "4879        0           6  \n",
       "4881        0           9  \n",
       "4887        0           8  \n",
       "4890        0           3  \n",
       "\n",
       "[5 rows x 15817 columns]"
      ]
     },
     "execution_count": 27,
     "metadata": {},
     "output_type": "execute_result"
    }
   ],
   "source": [
    "total_seen.head()"
   ]
  },
  {
   "cell_type": "code",
   "execution_count": 28,
   "metadata": {},
   "outputs": [],
   "source": [
    "# Now, get the column sum to obtain total number of times this word was seen by coders across documents and add that variable to the vocabulary\n",
    "vocab = vocab.join(total_seen[[c for c in total_seen.columns if c != 'total_seen']].sum().rename('total_seen'))"
   ]
  },
  {
   "cell_type": "markdown",
   "metadata": {},
   "source": [
    "#### 3) How often was each word seen by coders with a given foundation?"
   ]
  },
  {
   "cell_type": "markdown",
   "metadata": {},
   "source": [
    "Next up, we determine how often each word has been seen by a coder with a certain assigned foundation."
   ]
  },
  {
   "cell_type": "code",
   "execution_count": 29,
   "metadata": {},
   "outputs": [],
   "source": [
    "# Every unique coder is assigned a foundation per document \n",
    "# Question: for each document, get mapping of coder_id and assigned foundation \n",
    "\n",
    "# Make dataframe that is indexed by each document id\n",
    "# Loop over each document and get the coders and their assigned foundation \n",
    "seen_by_foundation = pd.DataFrame(index=corpus.index, columns=['seen_care', 'seen_fairness','seen_loyalty','seen_authority','seen_sanctity'])"
   ]
  },
  {
   "cell_type": "code",
   "execution_count": 30,
   "metadata": {},
   "outputs": [
    {
     "data": {
      "text/html": [
       "<div>\n",
       "<style scoped>\n",
       "    .dataframe tbody tr th:only-of-type {\n",
       "        vertical-align: middle;\n",
       "    }\n",
       "\n",
       "    .dataframe tbody tr th {\n",
       "        vertical-align: top;\n",
       "    }\n",
       "\n",
       "    .dataframe thead th {\n",
       "        text-align: right;\n",
       "    }\n",
       "</style>\n",
       "<table border=\"1\" class=\"dataframe\">\n",
       "  <thead>\n",
       "    <tr style=\"text-align: right;\">\n",
       "      <th></th>\n",
       "      <th>seen_care</th>\n",
       "      <th>seen_fairness</th>\n",
       "      <th>seen_loyalty</th>\n",
       "      <th>seen_authority</th>\n",
       "      <th>seen_sanctity</th>\n",
       "    </tr>\n",
       "  </thead>\n",
       "  <tbody>\n",
       "    <tr>\n",
       "      <th>4877</th>\n",
       "      <td>NaN</td>\n",
       "      <td>NaN</td>\n",
       "      <td>NaN</td>\n",
       "      <td>NaN</td>\n",
       "      <td>NaN</td>\n",
       "    </tr>\n",
       "    <tr>\n",
       "      <th>4879</th>\n",
       "      <td>NaN</td>\n",
       "      <td>NaN</td>\n",
       "      <td>NaN</td>\n",
       "      <td>NaN</td>\n",
       "      <td>NaN</td>\n",
       "    </tr>\n",
       "    <tr>\n",
       "      <th>4881</th>\n",
       "      <td>NaN</td>\n",
       "      <td>NaN</td>\n",
       "      <td>NaN</td>\n",
       "      <td>NaN</td>\n",
       "      <td>NaN</td>\n",
       "    </tr>\n",
       "    <tr>\n",
       "      <th>4887</th>\n",
       "      <td>NaN</td>\n",
       "      <td>NaN</td>\n",
       "      <td>NaN</td>\n",
       "      <td>NaN</td>\n",
       "      <td>NaN</td>\n",
       "    </tr>\n",
       "    <tr>\n",
       "      <th>4890</th>\n",
       "      <td>NaN</td>\n",
       "      <td>NaN</td>\n",
       "      <td>NaN</td>\n",
       "      <td>NaN</td>\n",
       "      <td>NaN</td>\n",
       "    </tr>\n",
       "  </tbody>\n",
       "</table>\n",
       "</div>"
      ],
      "text/plain": [
       "     seen_care seen_fairness seen_loyalty seen_authority seen_sanctity\n",
       "4877       NaN           NaN          NaN            NaN           NaN\n",
       "4879       NaN           NaN          NaN            NaN           NaN\n",
       "4881       NaN           NaN          NaN            NaN           NaN\n",
       "4887       NaN           NaN          NaN            NaN           NaN\n",
       "4890       NaN           NaN          NaN            NaN           NaN"
      ]
     },
     "execution_count": 30,
     "metadata": {},
     "output_type": "execute_result"
    }
   ],
   "source": [
    "seen_by_foundation.head()"
   ]
  },
  {
   "cell_type": "code",
   "execution_count": 31,
   "metadata": {},
   "outputs": [],
   "source": [
    "# In a first step, loop over the unique documents\n",
    "doc_ids = seen_by_foundation.index.unique()\n",
    "for doc_id in doc_ids:\n",
    "    # Select all the hls that correspond to that doc_id\n",
    "    document = hl[hl['document_id'] == doc_id]\n",
    "    # Obtain the unique coder_ids per document and their assigned foundations\n",
    "    coders_foundation = document.groupby('assigned_domain')['coder_id'].nunique()\n",
    "    # Join these counts with the seen_by_foundation dataframe\n",
    "    try:\n",
    "        seen_by_foundation.at[doc_id, 'seen_care'] = coders_foundation.care\n",
    "    except:\n",
    "        pass\n",
    "    try:\n",
    "        seen_by_foundation.at[doc_id, 'seen_fairness'] = coders_foundation.fairness\n",
    "    except:\n",
    "        pass\n",
    "    try:\n",
    "        seen_by_foundation.at[doc_id, 'seen_loyalty'] = coders_foundation.loyalty\n",
    "    except:\n",
    "        pass\n",
    "    try:\n",
    "        seen_by_foundation.at[doc_id, 'seen_authority'] = coders_foundation.authority\n",
    "    except:\n",
    "        pass\n",
    "    try:\n",
    "        seen_by_foundation.at[doc_id, 'seen_sanctity'] = coders_foundation.sanctity\n",
    "    except:\n",
    "        pass"
   ]
  },
  {
   "cell_type": "code",
   "execution_count": 32,
   "metadata": {},
   "outputs": [],
   "source": [
    "seen_by_foundation = seen_by_foundation.fillna(0)"
   ]
  },
  {
   "cell_type": "code",
   "execution_count": 33,
   "metadata": {},
   "outputs": [
    {
     "data": {
      "text/html": [
       "<div>\n",
       "<style scoped>\n",
       "    .dataframe tbody tr th:only-of-type {\n",
       "        vertical-align: middle;\n",
       "    }\n",
       "\n",
       "    .dataframe tbody tr th {\n",
       "        vertical-align: top;\n",
       "    }\n",
       "\n",
       "    .dataframe thead th {\n",
       "        text-align: right;\n",
       "    }\n",
       "</style>\n",
       "<table border=\"1\" class=\"dataframe\">\n",
       "  <thead>\n",
       "    <tr style=\"text-align: right;\">\n",
       "      <th></th>\n",
       "      <th>seen_care</th>\n",
       "      <th>seen_fairness</th>\n",
       "      <th>seen_loyalty</th>\n",
       "      <th>seen_authority</th>\n",
       "      <th>seen_sanctity</th>\n",
       "    </tr>\n",
       "  </thead>\n",
       "  <tbody>\n",
       "    <tr>\n",
       "      <th>4877</th>\n",
       "      <td>0</td>\n",
       "      <td>2</td>\n",
       "      <td>1</td>\n",
       "      <td>2</td>\n",
       "      <td>2</td>\n",
       "    </tr>\n",
       "    <tr>\n",
       "      <th>4879</th>\n",
       "      <td>1</td>\n",
       "      <td>1</td>\n",
       "      <td>2</td>\n",
       "      <td>2</td>\n",
       "      <td>0</td>\n",
       "    </tr>\n",
       "    <tr>\n",
       "      <th>4881</th>\n",
       "      <td>2</td>\n",
       "      <td>3</td>\n",
       "      <td>1</td>\n",
       "      <td>0</td>\n",
       "      <td>3</td>\n",
       "    </tr>\n",
       "    <tr>\n",
       "      <th>4887</th>\n",
       "      <td>2</td>\n",
       "      <td>2</td>\n",
       "      <td>2</td>\n",
       "      <td>1</td>\n",
       "      <td>1</td>\n",
       "    </tr>\n",
       "    <tr>\n",
       "      <th>4890</th>\n",
       "      <td>1</td>\n",
       "      <td>0</td>\n",
       "      <td>0</td>\n",
       "      <td>0</td>\n",
       "      <td>2</td>\n",
       "    </tr>\n",
       "  </tbody>\n",
       "</table>\n",
       "</div>"
      ],
      "text/plain": [
       "      seen_care  seen_fairness  seen_loyalty  seen_authority  seen_sanctity\n",
       "4877          0              2             1               2              2\n",
       "4879          1              1             2               2              0\n",
       "4881          2              3             1               0              3\n",
       "4887          2              2             2               1              1\n",
       "4890          1              0             0               0              2"
      ]
     },
     "execution_count": 33,
     "metadata": {},
     "output_type": "execute_result"
    }
   ],
   "source": [
    "seen_by_foundation.head()"
   ]
  },
  {
   "cell_type": "markdown",
   "metadata": {},
   "source": [
    "So, document 4877 was coded by 2 fairness coders, 1 loyalty, 2 authority, and 2 sanctity coders."
   ]
  },
  {
   "cell_type": "code",
   "execution_count": 34,
   "metadata": {},
   "outputs": [],
   "source": [
    "# Join the coders per foundation with the word counts per document\n",
    "seen_by_foundation = seen_by_foundation.join(word_per_doc)"
   ]
  },
  {
   "cell_type": "code",
   "execution_count": 35,
   "metadata": {},
   "outputs": [
    {
     "data": {
      "text/html": [
       "<div>\n",
       "<style scoped>\n",
       "    .dataframe tbody tr th:only-of-type {\n",
       "        vertical-align: middle;\n",
       "    }\n",
       "\n",
       "    .dataframe tbody tr th {\n",
       "        vertical-align: top;\n",
       "    }\n",
       "\n",
       "    .dataframe thead th {\n",
       "        text-align: right;\n",
       "    }\n",
       "</style>\n",
       "<table border=\"1\" class=\"dataframe\">\n",
       "  <thead>\n",
       "    <tr style=\"text-align: right;\">\n",
       "      <th></th>\n",
       "      <th>seen_care</th>\n",
       "      <th>seen_fairness</th>\n",
       "      <th>seen_loyalty</th>\n",
       "      <th>seen_authority</th>\n",
       "      <th>seen_sanctity</th>\n",
       "      <th>aback</th>\n",
       "      <th>abandon</th>\n",
       "      <th>abandoned</th>\n",
       "      <th>abandoning</th>\n",
       "      <th>abandonment</th>\n",
       "      <th>abdication</th>\n",
       "      <th>abdomen</th>\n",
       "      <th>abducted</th>\n",
       "      <th>abducting</th>\n",
       "      <th>abducts</th>\n",
       "      <th>abeed</th>\n",
       "      <th>abetted</th>\n",
       "      <th>abetting</th>\n",
       "      <th>abhorrent</th>\n",
       "      <th>abhorrently</th>\n",
       "      <th>abide</th>\n",
       "      <th>abided</th>\n",
       "      <th>abiding</th>\n",
       "      <th>ability</th>\n",
       "      <th>abjure</th>\n",
       "      <th>...</th>\n",
       "      <th>yields</th>\n",
       "      <th>yogurt</th>\n",
       "      <th>yoke</th>\n",
       "      <th>young</th>\n",
       "      <th>youngsters</th>\n",
       "      <th>youth</th>\n",
       "      <th>youthful</th>\n",
       "      <th>youths</th>\n",
       "      <th>yuan</th>\n",
       "      <th>zany</th>\n",
       "      <th>zeal</th>\n",
       "      <th>zealots</th>\n",
       "      <th>zealous</th>\n",
       "      <th>zealously</th>\n",
       "      <th>zenith</th>\n",
       "      <th>zeroed</th>\n",
       "      <th>zinc</th>\n",
       "      <th>zingers</th>\n",
       "      <th>zombies</th>\n",
       "      <th>zone</th>\n",
       "      <th>zoned</th>\n",
       "      <th>zones</th>\n",
       "      <th>zoning</th>\n",
       "      <th>zoo</th>\n",
       "      <th>zooming</th>\n",
       "    </tr>\n",
       "  </thead>\n",
       "  <tbody>\n",
       "    <tr>\n",
       "      <th>4877</th>\n",
       "      <td>0</td>\n",
       "      <td>2</td>\n",
       "      <td>1</td>\n",
       "      <td>2</td>\n",
       "      <td>2</td>\n",
       "      <td>0</td>\n",
       "      <td>0</td>\n",
       "      <td>0</td>\n",
       "      <td>0</td>\n",
       "      <td>0</td>\n",
       "      <td>0</td>\n",
       "      <td>0</td>\n",
       "      <td>0</td>\n",
       "      <td>0</td>\n",
       "      <td>0</td>\n",
       "      <td>0</td>\n",
       "      <td>0</td>\n",
       "      <td>0</td>\n",
       "      <td>0</td>\n",
       "      <td>0</td>\n",
       "      <td>0</td>\n",
       "      <td>0</td>\n",
       "      <td>0</td>\n",
       "      <td>0</td>\n",
       "      <td>0</td>\n",
       "      <td>...</td>\n",
       "      <td>0</td>\n",
       "      <td>0</td>\n",
       "      <td>0</td>\n",
       "      <td>0</td>\n",
       "      <td>0</td>\n",
       "      <td>2</td>\n",
       "      <td>0</td>\n",
       "      <td>0</td>\n",
       "      <td>0</td>\n",
       "      <td>0</td>\n",
       "      <td>0</td>\n",
       "      <td>0</td>\n",
       "      <td>0</td>\n",
       "      <td>0</td>\n",
       "      <td>0</td>\n",
       "      <td>0</td>\n",
       "      <td>0</td>\n",
       "      <td>0</td>\n",
       "      <td>0</td>\n",
       "      <td>0</td>\n",
       "      <td>0</td>\n",
       "      <td>0</td>\n",
       "      <td>0</td>\n",
       "      <td>0</td>\n",
       "      <td>0</td>\n",
       "    </tr>\n",
       "    <tr>\n",
       "      <th>4879</th>\n",
       "      <td>1</td>\n",
       "      <td>1</td>\n",
       "      <td>2</td>\n",
       "      <td>2</td>\n",
       "      <td>0</td>\n",
       "      <td>0</td>\n",
       "      <td>0</td>\n",
       "      <td>0</td>\n",
       "      <td>0</td>\n",
       "      <td>0</td>\n",
       "      <td>0</td>\n",
       "      <td>0</td>\n",
       "      <td>0</td>\n",
       "      <td>0</td>\n",
       "      <td>0</td>\n",
       "      <td>0</td>\n",
       "      <td>0</td>\n",
       "      <td>0</td>\n",
       "      <td>0</td>\n",
       "      <td>0</td>\n",
       "      <td>0</td>\n",
       "      <td>0</td>\n",
       "      <td>0</td>\n",
       "      <td>0</td>\n",
       "      <td>0</td>\n",
       "      <td>...</td>\n",
       "      <td>0</td>\n",
       "      <td>0</td>\n",
       "      <td>0</td>\n",
       "      <td>0</td>\n",
       "      <td>0</td>\n",
       "      <td>0</td>\n",
       "      <td>0</td>\n",
       "      <td>0</td>\n",
       "      <td>0</td>\n",
       "      <td>0</td>\n",
       "      <td>0</td>\n",
       "      <td>0</td>\n",
       "      <td>0</td>\n",
       "      <td>0</td>\n",
       "      <td>0</td>\n",
       "      <td>0</td>\n",
       "      <td>0</td>\n",
       "      <td>0</td>\n",
       "      <td>0</td>\n",
       "      <td>0</td>\n",
       "      <td>0</td>\n",
       "      <td>0</td>\n",
       "      <td>0</td>\n",
       "      <td>0</td>\n",
       "      <td>0</td>\n",
       "    </tr>\n",
       "    <tr>\n",
       "      <th>4881</th>\n",
       "      <td>2</td>\n",
       "      <td>3</td>\n",
       "      <td>1</td>\n",
       "      <td>0</td>\n",
       "      <td>3</td>\n",
       "      <td>0</td>\n",
       "      <td>0</td>\n",
       "      <td>1</td>\n",
       "      <td>0</td>\n",
       "      <td>1</td>\n",
       "      <td>0</td>\n",
       "      <td>0</td>\n",
       "      <td>0</td>\n",
       "      <td>0</td>\n",
       "      <td>0</td>\n",
       "      <td>0</td>\n",
       "      <td>0</td>\n",
       "      <td>0</td>\n",
       "      <td>0</td>\n",
       "      <td>0</td>\n",
       "      <td>0</td>\n",
       "      <td>0</td>\n",
       "      <td>0</td>\n",
       "      <td>0</td>\n",
       "      <td>0</td>\n",
       "      <td>...</td>\n",
       "      <td>0</td>\n",
       "      <td>0</td>\n",
       "      <td>0</td>\n",
       "      <td>0</td>\n",
       "      <td>0</td>\n",
       "      <td>0</td>\n",
       "      <td>0</td>\n",
       "      <td>0</td>\n",
       "      <td>0</td>\n",
       "      <td>0</td>\n",
       "      <td>0</td>\n",
       "      <td>0</td>\n",
       "      <td>0</td>\n",
       "      <td>0</td>\n",
       "      <td>0</td>\n",
       "      <td>0</td>\n",
       "      <td>0</td>\n",
       "      <td>0</td>\n",
       "      <td>0</td>\n",
       "      <td>0</td>\n",
       "      <td>0</td>\n",
       "      <td>0</td>\n",
       "      <td>0</td>\n",
       "      <td>0</td>\n",
       "      <td>0</td>\n",
       "    </tr>\n",
       "    <tr>\n",
       "      <th>4887</th>\n",
       "      <td>2</td>\n",
       "      <td>2</td>\n",
       "      <td>2</td>\n",
       "      <td>1</td>\n",
       "      <td>1</td>\n",
       "      <td>0</td>\n",
       "      <td>0</td>\n",
       "      <td>0</td>\n",
       "      <td>0</td>\n",
       "      <td>0</td>\n",
       "      <td>0</td>\n",
       "      <td>0</td>\n",
       "      <td>0</td>\n",
       "      <td>0</td>\n",
       "      <td>0</td>\n",
       "      <td>0</td>\n",
       "      <td>0</td>\n",
       "      <td>0</td>\n",
       "      <td>0</td>\n",
       "      <td>0</td>\n",
       "      <td>0</td>\n",
       "      <td>0</td>\n",
       "      <td>0</td>\n",
       "      <td>0</td>\n",
       "      <td>0</td>\n",
       "      <td>...</td>\n",
       "      <td>0</td>\n",
       "      <td>0</td>\n",
       "      <td>0</td>\n",
       "      <td>0</td>\n",
       "      <td>0</td>\n",
       "      <td>0</td>\n",
       "      <td>0</td>\n",
       "      <td>0</td>\n",
       "      <td>0</td>\n",
       "      <td>0</td>\n",
       "      <td>0</td>\n",
       "      <td>0</td>\n",
       "      <td>0</td>\n",
       "      <td>0</td>\n",
       "      <td>0</td>\n",
       "      <td>0</td>\n",
       "      <td>0</td>\n",
       "      <td>0</td>\n",
       "      <td>0</td>\n",
       "      <td>0</td>\n",
       "      <td>0</td>\n",
       "      <td>0</td>\n",
       "      <td>0</td>\n",
       "      <td>0</td>\n",
       "      <td>0</td>\n",
       "    </tr>\n",
       "    <tr>\n",
       "      <th>4890</th>\n",
       "      <td>1</td>\n",
       "      <td>0</td>\n",
       "      <td>0</td>\n",
       "      <td>0</td>\n",
       "      <td>2</td>\n",
       "      <td>0</td>\n",
       "      <td>0</td>\n",
       "      <td>0</td>\n",
       "      <td>0</td>\n",
       "      <td>0</td>\n",
       "      <td>0</td>\n",
       "      <td>0</td>\n",
       "      <td>0</td>\n",
       "      <td>0</td>\n",
       "      <td>0</td>\n",
       "      <td>0</td>\n",
       "      <td>0</td>\n",
       "      <td>0</td>\n",
       "      <td>0</td>\n",
       "      <td>0</td>\n",
       "      <td>0</td>\n",
       "      <td>0</td>\n",
       "      <td>0</td>\n",
       "      <td>0</td>\n",
       "      <td>0</td>\n",
       "      <td>...</td>\n",
       "      <td>0</td>\n",
       "      <td>0</td>\n",
       "      <td>0</td>\n",
       "      <td>0</td>\n",
       "      <td>0</td>\n",
       "      <td>0</td>\n",
       "      <td>0</td>\n",
       "      <td>0</td>\n",
       "      <td>0</td>\n",
       "      <td>0</td>\n",
       "      <td>0</td>\n",
       "      <td>0</td>\n",
       "      <td>0</td>\n",
       "      <td>0</td>\n",
       "      <td>0</td>\n",
       "      <td>0</td>\n",
       "      <td>0</td>\n",
       "      <td>0</td>\n",
       "      <td>0</td>\n",
       "      <td>0</td>\n",
       "      <td>0</td>\n",
       "      <td>0</td>\n",
       "      <td>0</td>\n",
       "      <td>0</td>\n",
       "      <td>0</td>\n",
       "    </tr>\n",
       "  </tbody>\n",
       "</table>\n",
       "<p>5 rows × 15821 columns</p>\n",
       "</div>"
      ],
      "text/plain": [
       "      seen_care  seen_fairness  seen_loyalty  seen_authority  seen_sanctity  \\\n",
       "4877          0              2             1               2              2   \n",
       "4879          1              1             2               2              0   \n",
       "4881          2              3             1               0              3   \n",
       "4887          2              2             2               1              1   \n",
       "4890          1              0             0               0              2   \n",
       "\n",
       "      aback  abandon  abandoned  abandoning  abandonment  abdication  abdomen  \\\n",
       "4877      0        0          0           0            0           0        0   \n",
       "4879      0        0          0           0            0           0        0   \n",
       "4881      0        0          1           0            1           0        0   \n",
       "4887      0        0          0           0            0           0        0   \n",
       "4890      0        0          0           0            0           0        0   \n",
       "\n",
       "      abducted  abducting  abducts  abeed  abetted  abetting  abhorrent  \\\n",
       "4877         0          0        0      0        0         0          0   \n",
       "4879         0          0        0      0        0         0          0   \n",
       "4881         0          0        0      0        0         0          0   \n",
       "4887         0          0        0      0        0         0          0   \n",
       "4890         0          0        0      0        0         0          0   \n",
       "\n",
       "      abhorrently  abide  abided  abiding  ability  abjure  ...  yields  \\\n",
       "4877            0      0       0        0        0       0  ...       0   \n",
       "4879            0      0       0        0        0       0  ...       0   \n",
       "4881            0      0       0        0        0       0  ...       0   \n",
       "4887            0      0       0        0        0       0  ...       0   \n",
       "4890            0      0       0        0        0       0  ...       0   \n",
       "\n",
       "      yogurt  yoke  young  youngsters  youth  youthful  youths  yuan  zany  \\\n",
       "4877       0     0      0           0      2         0       0     0     0   \n",
       "4879       0     0      0           0      0         0       0     0     0   \n",
       "4881       0     0      0           0      0         0       0     0     0   \n",
       "4887       0     0      0           0      0         0       0     0     0   \n",
       "4890       0     0      0           0      0         0       0     0     0   \n",
       "\n",
       "      zeal  zealots  zealous  zealously  zenith  zeroed  zinc  zingers  \\\n",
       "4877     0        0        0          0       0       0     0        0   \n",
       "4879     0        0        0          0       0       0     0        0   \n",
       "4881     0        0        0          0       0       0     0        0   \n",
       "4887     0        0        0          0       0       0     0        0   \n",
       "4890     0        0        0          0       0       0     0        0   \n",
       "\n",
       "      zombies  zone  zoned  zones  zoning  zoo  zooming  \n",
       "4877        0     0      0      0       0    0        0  \n",
       "4879        0     0      0      0       0    0        0  \n",
       "4881        0     0      0      0       0    0        0  \n",
       "4887        0     0      0      0       0    0        0  \n",
       "4890        0     0      0      0       0    0        0  \n",
       "\n",
       "[5 rows x 15821 columns]"
      ]
     },
     "execution_count": 35,
     "metadata": {},
     "output_type": "execute_result"
    }
   ],
   "source": [
    "seen_by_foundation.head()"
   ]
  },
  {
   "cell_type": "code",
   "execution_count": 36,
   "metadata": {},
   "outputs": [],
   "source": [
    "seen_cols = [c for c in seen_by_foundation.columns if c.startswith('seen_')]"
   ]
  },
  {
   "cell_type": "code",
   "execution_count": 37,
   "metadata": {},
   "outputs": [],
   "source": [
    "# Multiply each word count by the total sum of foundation-coders that saw this word\n",
    "for seen_f in seen_cols:\n",
    "    word_seen_vec = pd.DataFrame(seen_by_foundation[[seen_f]+[c for c in seen_by_foundation.columns if not c.startswith('seen_')]][[c for c in seen_by_foundation.columns if not c.startswith('seen_')]].apply(lambda x: x * seen_by_foundation[seen_f]).sum().rename(seen_f))\n",
    "    vocab = vocab.join(word_seen_vec)"
   ]
  },
  {
   "cell_type": "code",
   "execution_count": 38,
   "metadata": {},
   "outputs": [
    {
     "data": {
      "text/html": [
       "<div>\n",
       "<style scoped>\n",
       "    .dataframe tbody tr th:only-of-type {\n",
       "        vertical-align: middle;\n",
       "    }\n",
       "\n",
       "    .dataframe tbody tr th {\n",
       "        vertical-align: top;\n",
       "    }\n",
       "\n",
       "    .dataframe thead th {\n",
       "        text-align: right;\n",
       "    }\n",
       "</style>\n",
       "<table border=\"1\" class=\"dataframe\">\n",
       "  <thead>\n",
       "    <tr style=\"text-align: right;\">\n",
       "      <th></th>\n",
       "      <th>word</th>\n",
       "      <th>care_hlcts</th>\n",
       "      <th>fairness_hlcts</th>\n",
       "      <th>loyalty_hlcts</th>\n",
       "      <th>authority_hlcts</th>\n",
       "      <th>sanctity_hlcts</th>\n",
       "      <th>total_seen</th>\n",
       "      <th>seen_care</th>\n",
       "      <th>seen_fairness</th>\n",
       "      <th>seen_loyalty</th>\n",
       "      <th>seen_authority</th>\n",
       "      <th>seen_sanctity</th>\n",
       "    </tr>\n",
       "    <tr>\n",
       "      <th>word</th>\n",
       "      <th></th>\n",
       "      <th></th>\n",
       "      <th></th>\n",
       "      <th></th>\n",
       "      <th></th>\n",
       "      <th></th>\n",
       "      <th></th>\n",
       "      <th></th>\n",
       "      <th></th>\n",
       "      <th></th>\n",
       "      <th></th>\n",
       "      <th></th>\n",
       "    </tr>\n",
       "  </thead>\n",
       "  <tbody>\n",
       "    <tr>\n",
       "      <th>piece</th>\n",
       "      <td>piece</td>\n",
       "      <td>0.0</td>\n",
       "      <td>0.0</td>\n",
       "      <td>0.0</td>\n",
       "      <td>0.0</td>\n",
       "      <td>0.0</td>\n",
       "      <td>397.0</td>\n",
       "      <td>77.0</td>\n",
       "      <td>86.0</td>\n",
       "      <td>90.0</td>\n",
       "      <td>72.0</td>\n",
       "      <td>72.0</td>\n",
       "    </tr>\n",
       "    <tr>\n",
       "      <th>characteristically</th>\n",
       "      <td>characteristically</td>\n",
       "      <td>0.0</td>\n",
       "      <td>0.0</td>\n",
       "      <td>0.0</td>\n",
       "      <td>0.0</td>\n",
       "      <td>0.0</td>\n",
       "      <td>6.0</td>\n",
       "      <td>0.0</td>\n",
       "      <td>3.0</td>\n",
       "      <td>2.0</td>\n",
       "      <td>0.0</td>\n",
       "      <td>1.0</td>\n",
       "    </tr>\n",
       "    <tr>\n",
       "      <th>skull</th>\n",
       "      <td>skull</td>\n",
       "      <td>0.0</td>\n",
       "      <td>0.0</td>\n",
       "      <td>0.0</td>\n",
       "      <td>0.0</td>\n",
       "      <td>0.0</td>\n",
       "      <td>21.0</td>\n",
       "      <td>6.0</td>\n",
       "      <td>6.0</td>\n",
       "      <td>2.0</td>\n",
       "      <td>4.0</td>\n",
       "      <td>3.0</td>\n",
       "    </tr>\n",
       "    <tr>\n",
       "      <th>rejects</th>\n",
       "      <td>rejects</td>\n",
       "      <td>0.0</td>\n",
       "      <td>0.0</td>\n",
       "      <td>0.0</td>\n",
       "      <td>0.0</td>\n",
       "      <td>0.0</td>\n",
       "      <td>42.0</td>\n",
       "      <td>13.0</td>\n",
       "      <td>9.0</td>\n",
       "      <td>10.0</td>\n",
       "      <td>5.0</td>\n",
       "      <td>5.0</td>\n",
       "    </tr>\n",
       "    <tr>\n",
       "      <th>generations</th>\n",
       "      <td>generations</td>\n",
       "      <td>0.0</td>\n",
       "      <td>0.0</td>\n",
       "      <td>0.0</td>\n",
       "      <td>0.0</td>\n",
       "      <td>0.0</td>\n",
       "      <td>209.0</td>\n",
       "      <td>52.0</td>\n",
       "      <td>35.0</td>\n",
       "      <td>56.0</td>\n",
       "      <td>45.0</td>\n",
       "      <td>21.0</td>\n",
       "    </tr>\n",
       "  </tbody>\n",
       "</table>\n",
       "</div>"
      ],
      "text/plain": [
       "                                  word  care_hlcts  fairness_hlcts  \\\n",
       "word                                                                 \n",
       "piece                            piece         0.0             0.0   \n",
       "characteristically  characteristically         0.0             0.0   \n",
       "skull                            skull         0.0             0.0   \n",
       "rejects                        rejects         0.0             0.0   \n",
       "generations                generations         0.0             0.0   \n",
       "\n",
       "                    loyalty_hlcts  authority_hlcts  sanctity_hlcts  \\\n",
       "word                                                                 \n",
       "piece                         0.0              0.0             0.0   \n",
       "characteristically            0.0              0.0             0.0   \n",
       "skull                         0.0              0.0             0.0   \n",
       "rejects                       0.0              0.0             0.0   \n",
       "generations                   0.0              0.0             0.0   \n",
       "\n",
       "                    total_seen  seen_care  seen_fairness  seen_loyalty  \\\n",
       "word                                                                     \n",
       "piece                    397.0       77.0           86.0          90.0   \n",
       "characteristically         6.0        0.0            3.0           2.0   \n",
       "skull                     21.0        6.0            6.0           2.0   \n",
       "rejects                   42.0       13.0            9.0          10.0   \n",
       "generations              209.0       52.0           35.0          56.0   \n",
       "\n",
       "                    seen_authority  seen_sanctity  \n",
       "word                                               \n",
       "piece                         72.0           72.0  \n",
       "characteristically             0.0            1.0  \n",
       "skull                          4.0            3.0  \n",
       "rejects                        5.0            5.0  \n",
       "generations                   45.0           21.0  "
      ]
     },
     "execution_count": 38,
     "metadata": {},
     "output_type": "execute_result"
    }
   ],
   "source": [
    "vocab.head()"
   ]
  },
  {
   "cell_type": "markdown",
   "metadata": {},
   "source": [
    "As can be seen from the above vocabulary, we now know that the word `wrongdoing` was seen a total of 76 times across all coders."
   ]
  },
  {
   "cell_type": "code",
   "execution_count": 39,
   "metadata": {},
   "outputs": [],
   "source": [
    "vocab = vocab.dropna(subset=['total_seen'])\n",
    "vocab = vocab[vocab.total_seen > 0]"
   ]
  },
  {
   "cell_type": "markdown",
   "metadata": {},
   "source": [
    "### 4) Score Vocabulary"
   ]
  },
  {
   "cell_type": "markdown",
   "metadata": {},
   "source": [
    "As a first step in scoring the vocabulary, we iterate over all highlights. Once a word is found in the vocabulary, we first obtain the foundation of the highlight where this word was mentioned. Then, in the vocabulary, we go to the column that reflects this foundation and increment a `1`. By doing so, we create a vocabulary that reflects how often a certain word appeared in highlights with a certain foundation."
   ]
  },
  {
   "cell_type": "code",
   "execution_count": 40,
   "metadata": {},
   "outputs": [],
   "source": [
    "# Add columns to store sentiments of highlights\n",
    "for f in base_founds:\n",
    "    vocab[f+'_pos'] = 0.0\n",
    "    vocab[f+'_neg'] = 0.0\n",
    "    vocab[f+'_neu'] = 0.0\n",
    "    vocab[f+'_sent'] = 0.0 \n",
    "    \n",
    "vocab['avg_pos'] = 0.0\n",
    "vocab['avg_neg'] = 0.0\n",
    "vocab['avg_neu'] = 0.0"
   ]
  },
  {
   "cell_type": "code",
   "execution_count": 41,
   "metadata": {},
   "outputs": [],
   "source": [
    "# Iterate over each word in each highlight and increment foundation counts\n",
    "# Transform vocab into dictionary for faster hash functionality\n",
    "words = {k:0.0 for k in vocab.index} \n",
    "\n",
    "for i,row in hl.iterrows():\n",
    "\n",
    "    highlight = row.tokens\n",
    "    base_found = row.assigned_domain\n",
    "\n",
    "    pos = row.pos\n",
    "    neg = row.neg\n",
    "    neu = row.neu\n",
    "    comp = row.comp\n",
    "    \n",
    "    for word in highlight:\n",
    "        if word in words.keys():\n",
    "            vocab.at[str(word),base_found+'_hlcts'] += 1\n",
    "            vocab.at[str(word),base_found+'_pos'] += pos\n",
    "            vocab.at[str(word),base_found+'_neg'] += neg\n",
    "            vocab.at[str(word),base_found+'_neu'] += neu\n",
    "            vocab.at[str(word),base_found+'_sent'] += comp\n",
    "\n",
    "vocab['sum_hl'] = vocab[[c for c in vocab.columns if c.endswith('hlcts')]].sum(axis=1)\n",
    "vocab = vocab.fillna(0)"
   ]
  },
  {
   "cell_type": "code",
   "execution_count": 42,
   "metadata": {},
   "outputs": [],
   "source": [
    "vocab = vocab[vocab.sum_hl > 0]"
   ]
  },
  {
   "cell_type": "markdown",
   "metadata": {},
   "source": [
    "### 5) Divide highlight counts by seen_by Columns"
   ]
  },
  {
   "cell_type": "markdown",
   "metadata": {},
   "source": [
    "In the next step, we divide the total frequency a word has been highlighted with a certain foundation by the number of times this word has been seen by coders who were assigned that foundation. Doing so yields us a probabality that a word was highlighted by a coder. As an example, if the word `kill` has .8 in the Care_norm column, then this means that there is a 80% probability that `kill` was highlighted by a coder assigned the Care foundation."
   ]
  },
  {
   "cell_type": "code",
   "execution_count": 43,
   "metadata": {},
   "outputs": [],
   "source": [
    "# Create Probability columns \n",
    "for f in base_founds:\n",
    "    vocab[f+'_p'] = 0.0\n",
    "    \n",
    "for i,row in vocab.iterrows():\n",
    "    if row.seen_care != 0:\n",
    "        vocab.at[i, 'care_p'] = row['care_hlcts'] / row.seen_care\n",
    "        \n",
    "    if row.seen_fairness != 0:\n",
    "        vocab.at[i, 'fairness_p'] = row['fairness_hlcts'] / row.seen_fairness\n",
    "   \n",
    "    if row.seen_authority != 0:\n",
    "        vocab.at[i, 'authority_p'] = row['authority_hlcts'] / row.seen_authority\n",
    "\n",
    "    if row.seen_loyalty != 0:\n",
    "        vocab.at[i, 'loyalty_p'] = row['loyalty_hlcts'] / row.seen_loyalty\n",
    "        \n",
    "    if row.seen_sanctity != 0:\n",
    "        vocab.at[i, 'sanctity_p'] = row['sanctity_hlcts'] / row.seen_sanctity"
   ]
  },
  {
   "cell_type": "code",
   "execution_count": 44,
   "metadata": {},
   "outputs": [],
   "source": [
    "# Remove words whose probabilities are above 1 for any given foundation (caused by minor preprocessing glitches)\n",
    "probabilities = [c for c in vocab.columns if c.endswith('_p')]\n",
    "vocab = vocab.iloc[pd.np.where(vocab[probabilities].le(1).all(1, skipna=True))]"
   ]
  },
  {
   "cell_type": "code",
   "execution_count": 45,
   "metadata": {},
   "outputs": [
    {
     "name": "stdout",
     "output_type": "stream",
     "text": [
      "Total number in vocabulary: 15785\n"
     ]
    }
   ],
   "source": [
    "print('Total number in vocabulary:',len(vocab))"
   ]
  },
  {
   "cell_type": "code",
   "execution_count": 46,
   "metadata": {},
   "outputs": [],
   "source": [
    "# Ensure each word has been seen at least 10 times by any foundation coder\n",
    "vocab = vocab[(vocab['seen_care'] > 10) & (vocab['seen_fairness'] > 10) & (vocab['seen_loyalty'] > 10) & (vocab['seen_authority'] > 10) & (vocab['seen_sanctity'] > 10)] "
   ]
  },
  {
   "cell_type": "code",
   "execution_count": 47,
   "metadata": {},
   "outputs": [
    {
     "name": "stdout",
     "output_type": "stream",
     "text": [
      "Total number in vocabulary: 4688\n"
     ]
    }
   ],
   "source": [
    "print('Total number in vocabulary:',len(vocab))"
   ]
  },
  {
   "cell_type": "code",
   "execution_count": 48,
   "metadata": {},
   "outputs": [],
   "source": [
    "# Ensure each word has been highlighted at least 5 times with any foundation\n",
    "vocab = vocab.iloc[pd.np.where(vocab[[c for c in vocab.columns if c.endswith('_hlcts')]].ge(5).any(1, skipna=True))]"
   ]
  },
  {
   "cell_type": "code",
   "execution_count": 49,
   "metadata": {},
   "outputs": [
    {
     "name": "stdout",
     "output_type": "stream",
     "text": [
      "Total number in vocabulary: 3275\n"
     ]
    }
   ],
   "source": [
    "print('Total number in vocabulary:',len(vocab))"
   ]
  },
  {
   "cell_type": "code",
   "execution_count": 50,
   "metadata": {},
   "outputs": [],
   "source": [
    "# Divide sentiment columns by hlcts to obtain average sentiment scores\n",
    "for i,row in vocab.iterrows():\n",
    "    if row.care_hlcts != 0:\n",
    "        vocab.at[i, 'care_pos'] = row['care_pos'] / row.care_hlcts\n",
    "        vocab.at[i, 'care_neg'] = row['care_neg'] / row.care_hlcts\n",
    "        vocab.at[i, 'care_neu'] = row['care_neu'] / row.care_hlcts\n",
    "        vocab.at[i, 'care_sent'] = row['care_sent'] / row.care_hlcts\n",
    "        \n",
    "    if row.fairness_hlcts != 0:\n",
    "        vocab.at[i, 'fairness_pos'] = row['fairness_pos'] / row.fairness_hlcts\n",
    "        vocab.at[i, 'fairness_neg'] = row['fairness_neg'] / row.fairness_hlcts\n",
    "        vocab.at[i, 'fairness_neu'] = row['fairness_neu'] / row.fairness_hlcts\n",
    "        vocab.at[i, 'fairness_sent'] = row['fairness_sent'] / row.fairness_hlcts\n",
    "        \n",
    "    if row.loyalty_hlcts != 0:\n",
    "        vocab.at[i, 'loyalty_pos'] = row['loyalty_pos'] / row.loyalty_hlcts\n",
    "        vocab.at[i, 'loyalty_neg'] = row['loyalty_neg'] / row.loyalty_hlcts\n",
    "        vocab.at[i, 'loyalty_neu'] = row['loyalty_neu'] / row.loyalty_hlcts\n",
    "        vocab.at[i, 'loyalty_sent'] = row['loyalty_sent'] / row.loyalty_hlcts\n",
    "        \n",
    "    if row.authority_hlcts != 0:\n",
    "        vocab.at[i, 'authority_pos'] = row['authority_pos'] / row.authority_hlcts\n",
    "        vocab.at[i, 'authority_neg'] = row['authority_neg'] / row.authority_hlcts\n",
    "        vocab.at[i, 'authority_neu'] = row['authority_neu'] / row.authority_hlcts\n",
    "        vocab.at[i, 'authority_sent'] = row['authority_sent'] / row.authority_hlcts\n",
    "        \n",
    "    if row.sanctity_hlcts != 0:\n",
    "        vocab.at[i, 'sanctity_pos'] = row['sanctity_pos'] / row.sanctity_hlcts\n",
    "        vocab.at[i, 'sanctity_neg'] = row['sanctity_neg'] / row.sanctity_hlcts\n",
    "        vocab.at[i, 'sanctity_neu'] = row['sanctity_neu'] / row.sanctity_hlcts\n",
    "        vocab.at[i, 'sanctity_sent'] = row['sanctity_sent'] / row.sanctity_hlcts"
   ]
  },
  {
   "cell_type": "code",
   "execution_count": 51,
   "metadata": {},
   "outputs": [],
   "source": [
    "vocab = vocab.fillna(0)"
   ]
  },
  {
   "cell_type": "code",
   "execution_count": 52,
   "metadata": {},
   "outputs": [],
   "source": [
    "vocab.to_pickle('dictionaries/emfd_full.pkl')"
   ]
  },
  {
   "cell_type": "code",
   "execution_count": 53,
   "metadata": {},
   "outputs": [],
   "source": [
    "sent_cols = [c for c in vocab.columns if c.endswith('_sent')]"
   ]
  },
  {
   "cell_type": "code",
   "execution_count": 54,
   "metadata": {},
   "outputs": [],
   "source": [
    "vocab[probabilities+sent_cols].to_pickle('dictionaries/emfd_scoring.pkl')"
   ]
  },
  {
   "cell_type": "markdown",
   "metadata": {},
   "source": [
    "***"
   ]
  },
  {
   "cell_type": "markdown",
   "metadata": {},
   "source": [
    "## Create Context-Free E-MFD"
   ]
  },
  {
   "cell_type": "code",
   "execution_count": 55,
   "metadata": {},
   "outputs": [],
   "source": [
    "# Score Sentiment of each unique word with VADER\n",
    "from nltk.sentiment.vader import SentimentIntensityAnalyzer\n",
    "analyzer = SentimentIntensityAnalyzer()\n",
    "vocab['ind_vader'] = vocab.word.apply(lambda x: analyzer.polarity_scores(x)) \n",
    "vocab['ind_comp'] = vocab['ind_vader'].apply(pd.Series)['compound']"
   ]
  },
  {
   "cell_type": "markdown",
   "metadata": {},
   "source": [
    "Add most likely POS tag for each word:"
   ]
  },
  {
   "cell_type": "code",
   "execution_count": 56,
   "metadata": {},
   "outputs": [],
   "source": [
    "import nltk \n",
    "from nltk.corpus import brown"
   ]
  },
  {
   "cell_type": "code",
   "execution_count": 57,
   "metadata": {},
   "outputs": [],
   "source": [
    "fd = nltk.FreqDist(brown.words())\n",
    "cfd = nltk.ConditionalFreqDist(brown.tagged_words())\n",
    "most_freq_words = fd.most_common()\n",
    "likely_tags = dict((word, cfd[word].max()) for (word, _) in most_freq_words)\n",
    "baseline_tagger = nltk.UnigramTagger(model=likely_tags)"
   ]
  },
  {
   "cell_type": "code",
   "execution_count": 58,
   "metadata": {},
   "outputs": [],
   "source": [
    "vocab['tag'] = vocab['word'].apply(lambda x: baseline_tagger.tag([x]))\n",
    "vocab['tag'] = vocab['tag'].apply(lambda y: [x[1] for x in y])\n",
    "\n",
    "for i,row in vocab.iterrows():\n",
    "    if row.tag[0] == None:\n",
    "        vocab.at[i, 'tag'] = 'None'\n",
    "\n",
    "vocab['tag'] = vocab['tag'].apply(lambda y: y[0])\n",
    "\n",
    "for i,row in vocab.iterrows():\n",
    "    if row.tag == 'NN' or row.tag == 'NNS':\n",
    "        vocab.at[i, 'tag'] = 'n'\n",
    "    if row.tag == 'VBN' or row.tag == 'VBZ' or row.tag == 'VBD' or row.tag == 'VB' or row.tag == 'VBG':\n",
    "        vocab.at[i, 'tag'] = 'v'PAT extraction\n",
    "    if row.tag == 'JJ':\n",
    "        vocab.at[i, 'tag'] = 'a'\n",
    "    if row.tag == 'RB':\n",
    "        vocab.at[i, 'tag'] = 'r'\n",
    "    if row.tag == 'N':\n",
    "        vocab.at[i, 'tag'] = 'n'\n",
    "        \n",
    "pos_tags = ['n','v','a','r']\n",
    "vocab = vocab[vocab.tag.isin(pos_tags)]"
   ]
  },
  {
   "cell_type": "markdown",
   "metadata": {},
   "source": [
    "Delete words with neutral sentiment and create dictionary for context-indpendent use cases such as Affect Misattribution Procedures or Lexical Decision Tasks."
   ]
  },
  {
   "cell_type": "code",
   "execution_count": 59,
   "metadata": {},
   "outputs": [],
   "source": [
    "amp = vocab[vocab['ind_comp'] != 0]"
   ]
  },
  {
   "cell_type": "code",
   "execution_count": 60,
   "metadata": {},
   "outputs": [
    {
     "name": "stdout",
     "output_type": "stream",
     "text": [
      "Size of E-MFD with neutral words removed: 688\n"
     ]
    }
   ],
   "source": [
    "print('Size of E-MFD with neutral words removed:', len(amp))"
   ]
  },
  {
   "cell_type": "code",
   "execution_count": 61,
   "metadata": {},
   "outputs": [],
   "source": [
    "amp.to_pickle('dictionaries/emfd_amp.pkl')"
   ]
  }
 ],
 "metadata": {
  "kernelspec": {
   "display_name": "Python 3",
   "language": "python",
   "name": "python3"
  },
  "language_info": {
   "codemirror_mode": {
    "name": "ipython",
    "version": 3
   },
   "file_extension": ".py",
   "mimetype": "text/x-python",
   "name": "python",
   "nbconvert_exporter": "python",
   "pygments_lexer": "ipython3",
   "version": "3.6.5"
  }
 },
 "nbformat": 4,
 "nbformat_minor": 2
}
