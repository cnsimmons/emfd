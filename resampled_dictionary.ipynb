{
 "cells": [
  {
   "cell_type": "markdown",
   "metadata": {},
   "source": [
    "# Reconstruct Dictionary via Coder Sampling"
   ]
  },
  {
   "cell_type": "markdown",
   "metadata": {},
   "source": [
    "Due to the slight left-leaning nature of our crowd-sourced annotator sample, this notebook examines whether the e-MFD is biased towards any particular political affiliation. To examine whether this is the case, the same annotation preprocessing pipeline is executed on all produced annotations. Next, the slightly underrepresented republican male and female annotators are  upsampled to match the frequency of democratic male and female annotators. Thereafter, we ran the same dictionary construction algorithm on the resampled annotations and compare differences in foundation probabilities and sentiment scores across dictionaries."
   ]
  },
  {
   "cell_type": "markdown",
   "metadata": {},
   "source": [
    "***"
   ]
  },
  {
   "cell_type": "code",
   "execution_count": 1,
   "metadata": {},
   "outputs": [],
   "source": [
    "import pandas as pd\n",
    "import numpy as np\n",
    "\n",
    "# Plotting\n",
    "from matplotlib import pyplot as plt\n",
    "import seaborn as sns\n",
    "\n",
    "# NLP\n",
    "import spacy, re, fnmatch \n",
    "nlp = spacy.load('en')\n",
    "from sklearn.feature_extraction.text import CountVectorizer\n",
    "from nltk.sentiment.vader import SentimentIntensityAnalyzer\n",
    "\n",
    "\n",
    "# Stopwords \n",
    "from nltk.corpus import stopwords\n",
    "nltk_stopwords = stopwords.words('english')\n",
    "from sklearn.feature_extraction.stop_words import ENGLISH_STOP_WORDS\n",
    "from spacy.lang.en.stop_words import STOP_WORDS\n",
    "\n",
    "#Uitls\n",
    "from multiprocessing import Pool"
   ]
  },
  {
   "cell_type": "markdown",
   "metadata": {},
   "source": [
    "***"
   ]
  },
  {
   "cell_type": "markdown",
   "metadata": {},
   "source": [
    "### Obtain Coder Information"
   ]
  },
  {
   "cell_type": "code",
   "execution_count": 2,
   "metadata": {},
   "outputs": [],
   "source": [
    "coders = pd.read_csv('data/pa_coder_complete.csv').set_index('coder_id')\n",
    "coders = coders[coders['Political Affiliation (US)']!='MISSING']"
   ]
  },
  {
   "cell_type": "markdown",
   "metadata": {},
   "source": [
    "**Ratios in population (Attempted Sampling Frame in Crowdcoding Study):**\n",
    "\n",
    "- https://www.census.gov/quickfacts/table/PST045216/00\n",
    "- Female Democrats: 0.24375 \n",
    "- Female Republicans: 0.23375\n",
    "- Male Democrats: 0.23625 \n",
    "- Male Republicans: 0.22625  \n",
    "- Other: 3% Male, 3% Female "
   ]
  },
  {
   "cell_type": "markdown",
   "metadata": {},
   "source": [
    "**Actual Ratios in data:**"
   ]
  },
  {
   "cell_type": "code",
   "execution_count": 3,
   "metadata": {},
   "outputs": [
    {
     "data": {
      "text/plain": [
       "sex     Political Affiliation (US)\n",
       "Female  Democrat                      0.368627\n",
       "        Republican                    0.076471\n",
       "        Other                         0.025490\n",
       "        None                          0.021569\n",
       "Male    Democrat                      0.317647\n",
       "        Republican                    0.135294\n",
       "        Other                         0.029412\n",
       "        None                          0.015686\n",
       "Name: Political Affiliation (US), dtype: float64"
      ]
     },
     "execution_count": 3,
     "metadata": {},
     "output_type": "execute_result"
    }
   ],
   "source": [
    "coders.groupby('sex')['Political Affiliation (US)'].value_counts() / len(coders)"
   ]
  },
  {
   "cell_type": "markdown",
   "metadata": {},
   "source": [
    "**Frequencies in Data**"
   ]
  },
  {
   "cell_type": "code",
   "execution_count": 4,
   "metadata": {},
   "outputs": [
    {
     "data": {
      "text/plain": [
       "sex     Political Affiliation (US)\n",
       "Female  Democrat                      188\n",
       "        Republican                     39\n",
       "        Other                          13\n",
       "        None                           11\n",
       "Male    Democrat                      162\n",
       "        Republican                     69\n",
       "        Other                          15\n",
       "        None                            8\n",
       "Name: Political Affiliation (US), dtype: int64"
      ]
     },
     "execution_count": 4,
     "metadata": {},
     "output_type": "execute_result"
    }
   ],
   "source": [
    "coders.groupby('sex')['Political Affiliation (US)'].value_counts() "
   ]
  },
  {
   "cell_type": "markdown",
   "metadata": {},
   "source": [
    "***"
   ]
  },
  {
   "cell_type": "markdown",
   "metadata": {},
   "source": [
    "**NOTE:** Before re-sampling and preprocessing the highlights for dictionary creation, we were curious to see: \n",
    "- (a) How many highlights were produced by each coder\n",
    "- (b) Whether democrats and republican coders produced different frequencies of highlights overall and with respect to each foundation"
   ]
  },
  {
   "cell_type": "code",
   "execution_count": 5,
   "metadata": {},
   "outputs": [],
   "source": [
    "# Load all highlights and join with coder information\n",
    "hl = pd.read_csv('data/highlights_raw.csv', index_col=0)\n",
    "hl = hl[hl.focus_duration >= 45*60]\n",
    "hl = hl[hl['coder_id']!= 549] # Removed this participant as they produced over 1000 highlights\n",
    "hl = hl.set_index('coder_id').join(coders)\n",
    "hl['hl_id'] = hl.reset_index().index\n",
    "hl = hl.reset_index()\n",
    "hl['coder_id'] = hl['coder_id'].astype(int)"
   ]
  },
  {
   "cell_type": "markdown",
   "metadata": {},
   "source": [
    "**Total Highlight Frequency Per Coder**"
   ]
  },
  {
   "cell_type": "code",
   "execution_count": 6,
   "metadata": {},
   "outputs": [
    {
     "data": {
      "text/plain": [
       "<matplotlib.axes._subplots.AxesSubplot at 0x7fa18ef14898>"
      ]
     },
     "execution_count": 6,
     "metadata": {},
     "output_type": "execute_result"
    },
    {
     "data": {
      "image/png": "[encoded data removed]",
      "text/plain": [
       "<Figure size 432x288 with 1 Axes>"
      ]
     },
     "metadata": {
      "needs_background": "light"
     },
     "output_type": "display_data"
    }
   ],
   "source": [
    "sns.distplot(hl.groupby('coder_id').nunique()['hl_id'])"
   ]
  },
  {
   "cell_type": "markdown",
   "metadata": {},
   "source": [
    "**Highlight Frequencies By Political Orientation Across Foundations**"
   ]
  },
  {
   "cell_type": "code",
   "execution_count": 7,
   "metadata": {},
   "outputs": [
    {
     "data": {
      "image/png": "[encoded data removed]",
      "text/plain": [
       "<Figure size 576x288 with 1 Axes>"
      ]
     },
     "metadata": {
      "needs_background": "light"
     },
     "output_type": "display_data"
    }
   ],
   "source": [
    "fig, ax = plt.subplots(figsize=(8,4), nrows=1, ncols=1, sharey=True, sharex=True)\n",
    "sns.countplot(x='assigned_domain', data=hl[['assigned_domain', 'Political Affiliation (US)']], hue='Political Affiliation (US)', ax=ax, palette='Set1')\n",
    "\n",
    "ax.set_title('Highlight Frequencies By Political Orientation')\n",
    "ax.set_xlabel('')\n",
    "plt.tight_layout()"
   ]
  },
  {
   "cell_type": "markdown",
   "metadata": {},
   "source": [
    "As can be seen from the above chart, there are more highlights produced by democrats as there are by republicans."
   ]
  },
  {
   "cell_type": "markdown",
   "metadata": {},
   "source": [
    "**Total Highlight Frequency By Political Affiliation**"
   ]
  },
  {
   "cell_type": "code",
   "execution_count": 8,
   "metadata": {},
   "outputs": [
    {
     "data": {
      "text/plain": [
       "Political Affiliation (US)\n",
       "Democrat      43211\n",
       "None           2328\n",
       "Other          3801\n",
       "Republican    14278\n",
       "Name: hl_id, dtype: int64"
      ]
     },
     "execution_count": 8,
     "metadata": {},
     "output_type": "execute_result"
    }
   ],
   "source": [
    "hl.groupby('Political Affiliation (US)').nunique()['hl_id']"
   ]
  },
  {
   "cell_type": "markdown",
   "metadata": {},
   "source": [
    "***"
   ]
  },
  {
   "cell_type": "markdown",
   "metadata": {},
   "source": [
    "## Preprocess Highlights"
   ]
  },
  {
   "cell_type": "markdown",
   "metadata": {},
   "source": [
    "**Note:** All of the following steps match the procedure applied to construct the non re-sampled E-MFD (see dictionary_construction.ipynb)"
   ]
  },
  {
   "cell_type": "code",
   "execution_count": 9,
   "metadata": {},
   "outputs": [],
   "source": [
    "def filter_hl(hl):\n",
    "    \n",
    "    '''Ensures that each document has been coded by at least two coders that differed in their assigned foundation'''\n",
    "    \n",
    "    grouped_doc = hl.groupby(hl.document_id).nunique()\n",
    "    grouped_doc = grouped_doc[grouped_doc.assigned_domain >= 2]\n",
    "    grouped_doc = grouped_doc[np.logical_and(grouped_doc.coder_id <= 15, grouped_doc.coder_id >= 2)] \n",
    "    \n",
    "    keep_docs = grouped_doc.index.values\n",
    "    hl = hl[hl.document_id.isin(keep_docs)]\n",
    "    \n",
    "    return hl"
   ]
  },
  {
   "cell_type": "code",
   "execution_count": 10,
   "metadata": {},
   "outputs": [],
   "source": [
    "def remove_entities(hl):\n",
    "    \n",
    "    '''Removes any entity contained in highlights'''\n",
    "    \n",
    "    entities = []\n",
    "    for doc in nlp.pipe(hl['content'].astype('unicode').values, disable=['tagger', 'parser','textcat'],\n",
    "                        batch_size=500, n_threads=-1):\n",
    "        entities.append(list(zip([ent.text for ent in doc.ents],[ent.label_ for ent in doc.ents])))\n",
    "        \n",
    "    entities = [ent for highlight in entities for ent in highlight]\n",
    "    rem_entities = []\n",
    "    for ent in entities:\n",
    "        if ent[1] != 'PRODUCT' and len(ent[0]) >= 3:\n",
    "            rem_entities.append(ent)  \n",
    "\n",
    "    rem_entities = [x[0] for x in set(rem_entities)]\n",
    "    rem_entities = [x.replace('(','') for x in rem_entities]\n",
    "    rem_entities = [x.replace(')','') for x in rem_entities]\n",
    "    \n",
    "    hl['content'] = hl['content'].str.replace(')','')\n",
    "    hl['content'] = hl['content'].str.replace('(','')\n",
    "\n",
    "    for ent in rem_entities:\n",
    "        pat = r\"\\b\"+ ent + r\"\\b\"\n",
    "        hl['content'] = hl['content'].str.replace(pat,'') \n",
    "        \n",
    "    return hl"
   ]
  },
  {
   "cell_type": "code",
   "execution_count": 11,
   "metadata": {},
   "outputs": [],
   "source": [
    "def remove_punctuation(hl):\n",
    "    \n",
    "    '''Removes punctuations and extra whitespace contained in highlights'''\n",
    "    \n",
    "    from string import punctuation\n",
    "    punctuation += '’'\n",
    "    punctuation = punctuation.replace('\\'','')\n",
    "    punctuation = punctuation.replace('-','')\n",
    "    for punct in punctuation:\n",
    "        hl['content'] = hl['content'].str.replace(punct,'')\n",
    "\n",
    "    hl['content'] = hl['content'].str.replace(r\"\\s+\",\" \")    \n",
    "    \n",
    "    return hl"
   ]
  },
  {
   "cell_type": "code",
   "execution_count": 12,
   "metadata": {},
   "outputs": [],
   "source": [
    "def pos_tag_sentiment(hl):\n",
    "    \n",
    "    '''Performs part of speech tagging.\n",
    "    Only certain POS are kept in the data (see keep_pos). \n",
    "    For a full tagging scheme, see https://spacy.io/api/annotation#pos-tagging \n",
    "    '''\n",
    "    \n",
    "    tokens = []\n",
    "    pos = []\n",
    "    tups = []\n",
    "\n",
    "    for doc in nlp.pipe(hl['content'].astype('unicode').values, disable=['ner','textcat', 'parser'],\n",
    "                        batch_size=500, n_threads=-1):    \n",
    "        tokens.append([n.text for n in doc])\n",
    "        pos.append([n.tag_ for n in doc])\n",
    "        tups.append(list(zip([n.text for n in doc], [n.tag_ for n in doc])))\n",
    "        \n",
    "    hl['tups'] = tups\n",
    "\n",
    "    # Define POS to keep and special characters to delete\n",
    "    keep_pos = ['NN','NNS','JJ','VB','VBD','VBG','VBN','VBP','VBZ','RB']\n",
    "    no_chars = [\"…\",\"'ve\",\"'s\",\"'ll\",\"'d\",\"\\\"\",\"'m\",\"'s\",\"'re\",\"–-\",'–-', '‘', '’d', '’ll', '’m', '’re', '’s', '’ve',\n",
    "                '“', ',,',',','(',')','.', '”', '\\n\\n',\"@realDonaldTrump\",\"n't\",'\\xad']\n",
    "\n",
    "    hl['tokens'] = hl.tups.apply(lambda y: [x[0] for x in y if np.logical_and(x[0] not in no_chars, x[1] in keep_pos)])\n",
    "\n",
    "    # Remove stopwords\n",
    "    stopwords = set(list(nltk_stopwords) + list(ENGLISH_STOP_WORDS) + list(STOP_WORDS))\n",
    "    hl['tokens'] = hl.tokens.apply(lambda y: [x for x in y if (x not in stopwords)]) \n",
    "\n",
    "    # Only keep words with min. three characters\n",
    "    hl['tokens'] = hl.tokens.apply(lambda y: [x for x in y if (len(x) >= 3)]) \n",
    "\n",
    "    # Lowercase\n",
    "    hl['tokens'] = hl.tokens.apply(lambda y: [x.lower() for x in y])\n",
    "\n",
    "    hl['content'] = hl.tokens.apply(lambda x: ','.join(x))\n",
    "    hl['content'] = hl.content.str.replace(',',' ')\n",
    "    \n",
    "    del hl['tups']\n",
    "    \n",
    "    #Sentiment analysis\n",
    "    analyzer = SentimentIntensityAnalyzer()\n",
    "    hl['vader'] = hl['content'].apply(lambda x: analyzer.polarity_scores(x)) \n",
    "    hl['comp'] = hl['vader'].apply(pd.Series)['compound']\n",
    "    hl['pos'] = hl['vader'].apply(pd.Series)['pos']\n",
    "    hl['neg'] = hl['vader'].apply(pd.Series)['neg']\n",
    "    hl['neu'] = hl['vader'].apply(pd.Series)['neu']\n",
    "    hl['sent_foundation'] = ''\n",
    "    \n",
    "    for i,row in hl.iterrows():\n",
    "        if row.comp < 0.0:\n",
    "            hl.at[i, 'sent_foundation'] = row.assigned_domain + '.vice'\n",
    "        elif row.comp > 0.0:\n",
    "            hl.at[i, 'sent_foundation'] = row.assigned_domain + '.virtue'\n",
    "        elif row.comp == 0.0:\n",
    "            hl.at[i, 'sent_foundation'] = row.assigned_domain + '.context'\n",
    "            \n",
    "    del hl['vader']\n",
    "    \n",
    "    return hl\n",
    "\n",
    "def parallelize_dataframe(df, func):\n",
    "    \n",
    "    '''Simple function to multiprocess functions on dataframe.\n",
    "    Adjust the Pool value to match your machine CPU capability'''\n",
    "    \n",
    "    df_split = np.array_split(df, 12)\n",
    "    pool = Pool(12)\n",
    "    df = pd.concat(pool.map(func, df_split))\n",
    "    pool.close()\n",
    "    pool.join()\n",
    "    \n",
    "    return df"
   ]
  },
  {
   "cell_type": "code",
   "execution_count": 13,
   "metadata": {},
   "outputs": [
    {
     "name": "stdout",
     "output_type": "stream",
     "text": [
      "Starting highlight preprocessing. This will take a few minutes.\n",
      "Total number of highlights in data before preprocessing: 63958\n",
      "Number of highlights after filtering bad highlights and documents: 42109\n",
      "Removed entities from highlights.\n",
      "Removed punctuations from highlights.\n",
      "POS tagging completed.\n",
      "Highlight preprocessing completed.\n",
      "Total number of highlights in training data: 31894\n",
      "Total number of unique documents in data: 977\n",
      "Total number of unique coders: 468\n"
     ]
    }
   ],
   "source": [
    "# Perform preprocessing by calling all functions \n",
    "print(\"Starting highlight preprocessing. This will take a few minutes.\")\n",
    "print('Total number of highlights in data before preprocessing:', len(hl))\n",
    "filtered_hl = parallelize_dataframe(hl, filter_hl)\n",
    "print(\"Number of highlights after filtering bad highlights and documents:\", len(filtered_hl))\n",
    "removed_entities = parallelize_dataframe(filtered_hl, remove_entities)\n",
    "print(\"Removed entities from highlights.\")\n",
    "removed_punctuation = parallelize_dataframe(removed_entities, remove_punctuation)\n",
    "print(\"Removed punctuations from highlights.\")\n",
    "hl = parallelize_dataframe(removed_punctuation, pos_tag_sentiment)\n",
    "print(\"POS tagging completed.\")\n",
    "\n",
    "# Filter highlights that are longer than the 90th percentile of highlight length to minimize noise\n",
    "hl['length'] = hl.tokens.apply(lambda x: len(x))\n",
    "hl = hl[np.logical_and(hl.length >= 3, hl.length <= hl.length.quantile(0.90))] \n",
    "print('Highlight preprocessing completed.')\n",
    "print(\"Total number of highlights in training data:\", len(hl))\n",
    "print('Total number of unique documents in data:', len(hl.document_id.unique()))\n",
    "print('Total number of unique coders:', len(hl.coder_id.unique()))"
   ]
  },
  {
   "cell_type": "markdown",
   "metadata": {},
   "source": [
    "***"
   ]
  },
  {
   "cell_type": "markdown",
   "metadata": {},
   "source": [
    "**Coder Rations after Preprocessing**"
   ]
  },
  {
   "cell_type": "code",
   "execution_count": 14,
   "metadata": {},
   "outputs": [
    {
     "data": {
      "text/plain": [
       "sex     Political Affiliation (US)\n",
       "Female  Democrat                      0.376068\n",
       "        Republican                    0.070513\n",
       "        None                          0.023504\n",
       "        Other                         0.023504\n",
       "Male    Democrat                      0.311966\n",
       "        Republican                    0.141026\n",
       "        Other                         0.027778\n",
       "        None                          0.012821\n",
       "Name: Political Affiliation (US), dtype: float64"
      ]
     },
     "execution_count": 14,
     "metadata": {},
     "output_type": "execute_result"
    }
   ],
   "source": [
    "hl.drop_duplicates('coder_id').groupby('sex')['Political Affiliation (US)'].value_counts() / len(hl.drop_duplicates('coder_id'))"
   ]
  },
  {
   "cell_type": "code",
   "execution_count": 15,
   "metadata": {},
   "outputs": [
    {
     "data": {
      "text/plain": [
       "sex     Political Affiliation (US)\n",
       "Female  Democrat                      176\n",
       "        Republican                     33\n",
       "        None                           11\n",
       "        Other                          11\n",
       "Male    Democrat                      146\n",
       "        Republican                     66\n",
       "        Other                          13\n",
       "        None                            6\n",
       "Name: Political Affiliation (US), dtype: int64"
      ]
     },
     "execution_count": 15,
     "metadata": {},
     "output_type": "execute_result"
    }
   ],
   "source": [
    "hl.drop_duplicates('coder_id').groupby('sex')['Political Affiliation (US)'].value_counts() "
   ]
  },
  {
   "cell_type": "code",
   "execution_count": 16,
   "metadata": {},
   "outputs": [],
   "source": [
    "hl_f_reps = hl[np.logical_and(hl['Political Affiliation (US)']=='Republican', hl['sex']=='Female')]\n",
    "hl_m_reps = hl[np.logical_and(hl['Political Affiliation (US)']=='Republican', hl['sex']=='Male')]\n",
    "\n",
    "hl_m_dem = hl[np.logical_and(hl['Political Affiliation (US)']=='Democrat', hl['sex']=='Female')]\n",
    "hl_f_dem = hl[np.logical_and(hl['Political Affiliation (US)']=='Democrat', hl['sex']=='Male')]\n",
    "\n",
    "hl_dems = hl[hl['Political Affiliation (US)']=='Democrat']\n",
    "hl_other = hl[np.logical_or(hl['Political Affiliation (US)']=='Other', hl['Political Affiliation (US)']=='None')]"
   ]
  },
  {
   "cell_type": "code",
   "execution_count": 17,
   "metadata": {},
   "outputs": [
    {
     "name": "stdout",
     "output_type": "stream",
     "text": [
      "Total number of female republicans: 33\n"
     ]
    }
   ],
   "source": [
    "print('Total number of female republicans:', len(hl_f_reps['coder_id'].unique()))"
   ]
  },
  {
   "cell_type": "code",
   "execution_count": 18,
   "metadata": {},
   "outputs": [
    {
     "name": "stdout",
     "output_type": "stream",
     "text": [
      "Total number of male republicans: 66\n"
     ]
    }
   ],
   "source": [
    "print('Total number of male republicans:', len(hl_m_reps['coder_id'].unique()))"
   ]
  },
  {
   "cell_type": "code",
   "execution_count": 19,
   "metadata": {},
   "outputs": [
    {
     "name": "stdout",
     "output_type": "stream",
     "text": [
      "Total number of female democarats: 146\n"
     ]
    }
   ],
   "source": [
    "print('Total number of female democarats:', len(hl_f_dem['coder_id'].unique()))"
   ]
  },
  {
   "cell_type": "code",
   "execution_count": 20,
   "metadata": {},
   "outputs": [
    {
     "name": "stdout",
     "output_type": "stream",
     "text": [
      "Total number of male democarats: 176\n"
     ]
    }
   ],
   "source": [
    "print('Total number of male democarats:', len(hl_m_dem['coder_id'].unique()))"
   ]
  },
  {
   "cell_type": "markdown",
   "metadata": {},
   "source": [
    "***"
   ]
  },
  {
   "cell_type": "markdown",
   "metadata": {},
   "source": [
    "Upsample Republicans to match Democrats"
   ]
  },
  {
   "cell_type": "code",
   "execution_count": 21,
   "metadata": {},
   "outputs": [],
   "source": [
    "def copy_coders(df, ix):\n",
    "    copied = df.copy()\n",
    "    copied['coder_id'] = copied['coder_id'].apply(lambda x: str(x)+'_'+str(ix))\n",
    "    return copied"
   ]
  },
  {
   "cell_type": "code",
   "execution_count": 22,
   "metadata": {},
   "outputs": [],
   "source": [
    "hl_f_reps_1 = copy_coders(hl_f_reps, 1)\n",
    "hl_f_reps_2 = copy_coders(hl_f_reps, 2)\n",
    "hl_f_reps_3 = copy_coders(hl_f_reps, 3)\n",
    "hl_f_reps_4 = copy_coders(hl_f_reps, 4)\n",
    "hl_f_reps_5 = copy_coders(hl_f_reps, 5)\n",
    "hl_f_upsampled = pd.concat([hl_f_reps_1,hl_f_reps_2, hl_f_reps_3,hl_f_reps_4])"
   ]
  },
  {
   "cell_type": "code",
   "execution_count": 23,
   "metadata": {},
   "outputs": [
    {
     "name": "stdout",
     "output_type": "stream",
     "text": [
      "Total number of female republicans after upsampling: 132\n"
     ]
    }
   ],
   "source": [
    "print('Total number of female republicans after upsampling:', len(hl_f_upsampled['coder_id'].unique()))"
   ]
  },
  {
   "cell_type": "code",
   "execution_count": 24,
   "metadata": {},
   "outputs": [],
   "source": [
    "hl_m_reps_1 = copy_coders(hl_m_reps, 1)\n",
    "hl_m_reps_2 = copy_coders(hl_m_reps, 2)\n",
    "\n",
    "m_reps_ids = np.random.choice(hl_m_reps['coder_id'].unique(), 10, replace=False)\n",
    "m_reps_sample = hl_m_reps[hl_m_reps['coder_id'].isin(m_reps_ids)]\n",
    "\n",
    "hl_m_reps_3 = copy_coders(m_reps_sample, 3)\n",
    "hl_m_upsampled = pd.concat([hl_m_reps_1,hl_m_reps_2, hl_m_reps_3])"
   ]
  },
  {
   "cell_type": "code",
   "execution_count": 25,
   "metadata": {},
   "outputs": [
    {
     "name": "stdout",
     "output_type": "stream",
     "text": [
      "Total number of male republicans after upsampling: 142\n"
     ]
    }
   ],
   "source": [
    "print('Total number of male republicans after upsampling:', len(hl_m_upsampled['coder_id'].unique()))"
   ]
  },
  {
   "cell_type": "markdown",
   "metadata": {},
   "source": [
    "Bring them all together"
   ]
  },
  {
   "cell_type": "code",
   "execution_count": 26,
   "metadata": {},
   "outputs": [],
   "source": [
    "hl_sampled = pd.concat([hl_dems, hl_other, hl_f_upsampled, hl_m_upsampled])"
   ]
  },
  {
   "cell_type": "markdown",
   "metadata": {},
   "source": [
    "**Ratios after Re-Sampling**"
   ]
  },
  {
   "cell_type": "code",
   "execution_count": 27,
   "metadata": {},
   "outputs": [
    {
     "data": {
      "text/plain": [
       "sex     Political Affiliation (US)\n",
       "Female  Democrat                      0.266992\n",
       "        Republican                    0.239675\n",
       "        None                          0.019713\n",
       "        Other                         0.017304\n",
       "Male    Democrat                      0.214031\n",
       "        Republican                    0.212381\n",
       "        Other                         0.021898\n",
       "        None                          0.008006\n",
       "Name: Political Affiliation (US), dtype: float64"
      ]
     },
     "execution_count": 27,
     "metadata": {},
     "output_type": "execute_result"
    }
   ],
   "source": [
    "hl_sampled.groupby('sex')['Political Affiliation (US)'].value_counts() / len(hl_sampled)"
   ]
  },
  {
   "cell_type": "code",
   "execution_count": 28,
   "metadata": {},
   "outputs": [
    {
     "data": {
      "text/plain": [
       "44844"
      ]
     },
     "execution_count": 28,
     "metadata": {},
     "output_type": "execute_result"
    }
   ],
   "source": [
    "len(hl_sampled)"
   ]
  },
  {
   "cell_type": "markdown",
   "metadata": {},
   "source": [
    "***"
   ]
  },
  {
   "cell_type": "markdown",
   "metadata": {},
   "source": [
    "**Highlight Ratios after Highlight Preprocessing**"
   ]
  },
  {
   "cell_type": "code",
   "execution_count": 29,
   "metadata": {},
   "outputs": [
    {
     "data": {
      "image/png": "[encoded data removed]",
      "text/plain": [
       "<Figure size 576x288 with 1 Axes>"
      ]
     },
     "metadata": {
      "needs_background": "light"
     },
     "output_type": "display_data"
    }
   ],
   "source": [
    "fig, ax = plt.subplots(figsize=(8,4), nrows=1, ncols=1, sharey=True, sharex=True)\n",
    "sns.countplot(x='assigned_domain', data=hl_sampled[['assigned_domain', 'Political Affiliation (US)']], hue='Political Affiliation (US)', ax=ax, palette='Set1')\n",
    "\n",
    "ax.set_title('Resampled Highlight Frequencies By Political Orientation')\n",
    "ax.set_xlabel('')\n",
    "plt.tight_layout()"
   ]
  },
  {
   "cell_type": "markdown",
   "metadata": {},
   "source": [
    "***"
   ]
  },
  {
   "cell_type": "markdown",
   "metadata": {},
   "source": [
    "## Construct Vocabulary"
   ]
  },
  {
   "cell_type": "markdown",
   "metadata": {},
   "source": [
    "In the following steps, we construct the `vocabulary`. This vocabulary is a DataFrame that is indexed by each unique word that is found in the processed `hl`."
   ]
  },
  {
   "cell_type": "code",
   "execution_count": 30,
   "metadata": {},
   "outputs": [],
   "source": [
    "hl = hl_sampled.copy()"
   ]
  },
  {
   "cell_type": "code",
   "execution_count": 31,
   "metadata": {},
   "outputs": [
    {
     "name": "stdout",
     "output_type": "stream",
     "text": [
      "Total number of words in highlights: 272618\n"
     ]
    }
   ],
   "source": [
    "tokens = [token for highlight in hl.tokens.values for token in highlight]\n",
    "print('Total number of words in highlights:', len(tokens))"
   ]
  },
  {
   "cell_type": "code",
   "execution_count": 32,
   "metadata": {},
   "outputs": [
    {
     "name": "stdout",
     "output_type": "stream",
     "text": [
      "Final vocabulary size after preprocessing: 15413\n"
     ]
    }
   ],
   "source": [
    "vocab = set(tokens)\n",
    "vocab = [x.lower() for x in vocab]\n",
    "vocab = [x for x in vocab if len(x) >= 3]\n",
    "\n",
    "stopwords = set(list(nltk_stopwords) + list(ENGLISH_STOP_WORDS) + list(STOP_WORDS))\n",
    "vocab = [x for x in vocab if x not in stopwords]\n",
    "\n",
    "vocab = pd.DataFrame(vocab)\n",
    "vocab = vocab.rename(columns={0:'word'})\n",
    "\n",
    "# Remove words with numbers \n",
    "def hasNumbers(inputString):\n",
    "    return any(char.isdigit() for char in inputString)\n",
    "\n",
    "def hasPunct(inputString):\n",
    "    from string import punctuation \n",
    "    if any(char in punctuation for char in inputString):\n",
    "        return 'True'\n",
    "    else:\n",
    "        return 'False'\n",
    "\n",
    "vocab['has_number'] = vocab.word.apply(lambda x: hasNumbers(x))\n",
    "vocab['has_punct'] = vocab.word.apply(lambda x: hasPunct(x))\n",
    "\n",
    "vocab = vocab[np.logical_and(vocab['has_number']==False, vocab['has_punct']=='False')]\n",
    "\n",
    "del vocab['has_number']\n",
    "del vocab['has_punct']\n",
    "\n",
    "base_founds = ['care','fairness','loyalty','authority','sanctity']\n",
    "    \n",
    "for f in base_founds:\n",
    "    vocab[str(f)+'_hlcts'] = 0.0\n",
    "\n",
    "vocab.index = vocab.word\n",
    "\n",
    "print('Final vocabulary size after preprocessing:', len(vocab))"
   ]
  },
  {
   "cell_type": "code",
   "execution_count": 33,
   "metadata": {},
   "outputs": [
    {
     "data": {
      "text/html": [
       "<div>\n",
       "<style scoped>\n",
       "    .dataframe tbody tr th:only-of-type {\n",
       "        vertical-align: middle;\n",
       "    }\n",
       "\n",
       "    .dataframe tbody tr th {\n",
       "        vertical-align: top;\n",
       "    }\n",
       "\n",
       "    .dataframe thead th {\n",
       "        text-align: right;\n",
       "    }\n",
       "</style>\n",
       "<table border=\"1\" class=\"dataframe\">\n",
       "  <thead>\n",
       "    <tr style=\"text-align: right;\">\n",
       "      <th></th>\n",
       "      <th>word</th>\n",
       "      <th>care_hlcts</th>\n",
       "      <th>fairness_hlcts</th>\n",
       "      <th>loyalty_hlcts</th>\n",
       "      <th>authority_hlcts</th>\n",
       "      <th>sanctity_hlcts</th>\n",
       "    </tr>\n",
       "    <tr>\n",
       "      <th>word</th>\n",
       "      <th></th>\n",
       "      <th></th>\n",
       "      <th></th>\n",
       "      <th></th>\n",
       "      <th></th>\n",
       "      <th></th>\n",
       "    </tr>\n",
       "  </thead>\n",
       "  <tbody>\n",
       "    <tr>\n",
       "      <th>showcasing</th>\n",
       "      <td>showcasing</td>\n",
       "      <td>0.0</td>\n",
       "      <td>0.0</td>\n",
       "      <td>0.0</td>\n",
       "      <td>0.0</td>\n",
       "      <td>0.0</td>\n",
       "    </tr>\n",
       "    <tr>\n",
       "      <th>miscarried</th>\n",
       "      <td>miscarried</td>\n",
       "      <td>0.0</td>\n",
       "      <td>0.0</td>\n",
       "      <td>0.0</td>\n",
       "      <td>0.0</td>\n",
       "      <td>0.0</td>\n",
       "    </tr>\n",
       "    <tr>\n",
       "      <th>educated</th>\n",
       "      <td>educated</td>\n",
       "      <td>0.0</td>\n",
       "      <td>0.0</td>\n",
       "      <td>0.0</td>\n",
       "      <td>0.0</td>\n",
       "      <td>0.0</td>\n",
       "    </tr>\n",
       "    <tr>\n",
       "      <th>granting</th>\n",
       "      <td>granting</td>\n",
       "      <td>0.0</td>\n",
       "      <td>0.0</td>\n",
       "      <td>0.0</td>\n",
       "      <td>0.0</td>\n",
       "      <td>0.0</td>\n",
       "    </tr>\n",
       "    <tr>\n",
       "      <th>lost</th>\n",
       "      <td>lost</td>\n",
       "      <td>0.0</td>\n",
       "      <td>0.0</td>\n",
       "      <td>0.0</td>\n",
       "      <td>0.0</td>\n",
       "      <td>0.0</td>\n",
       "    </tr>\n",
       "  </tbody>\n",
       "</table>\n",
       "</div>"
      ],
      "text/plain": [
       "                  word  care_hlcts  fairness_hlcts  loyalty_hlcts  \\\n",
       "word                                                                \n",
       "showcasing  showcasing         0.0             0.0            0.0   \n",
       "miscarried  miscarried         0.0             0.0            0.0   \n",
       "educated      educated         0.0             0.0            0.0   \n",
       "granting      granting         0.0             0.0            0.0   \n",
       "lost              lost         0.0             0.0            0.0   \n",
       "\n",
       "            authority_hlcts  sanctity_hlcts  \n",
       "word                                         \n",
       "showcasing              0.0             0.0  \n",
       "miscarried              0.0             0.0  \n",
       "educated                0.0             0.0  \n",
       "granting                0.0             0.0  \n",
       "lost                    0.0             0.0  "
      ]
     },
     "execution_count": 33,
     "metadata": {},
     "output_type": "execute_result"
    }
   ],
   "source": [
    "vocab.head()"
   ]
  },
  {
   "cell_type": "markdown",
   "metadata": {},
   "source": [
    "### How many times has a word in the vocabulary been seen by (a) ALL coders and (b) by coders with a certain foundation?"
   ]
  },
  {
   "cell_type": "markdown",
   "metadata": {},
   "source": [
    "#### 1) How often does each word appear in each document"
   ]
  },
  {
   "cell_type": "markdown",
   "metadata": {},
   "source": [
    "In the cell below, we read in all the news articles that were seen and coded by the human coders. We then preprocess the document text by removing punctuations and stopwords. In a final step, we compute the frequency with which each word appeared in each document."
   ]
  },
  {
   "cell_type": "code",
   "execution_count": 34,
   "metadata": {},
   "outputs": [
    {
     "name": "stderr",
     "output_type": "stream",
     "text": [
      "/usr/local/anaconda3/lib/python3.6/site-packages/ipykernel_launcher.py:4: SettingWithCopyWarning: \n",
      "A value is trying to be set on a copy of a slice from a DataFrame.\n",
      "Try using .loc[row_indexer,col_indexer] = value instead\n",
      "\n",
      "See the caveats in the documentation: http://pandas.pydata.org/pandas-docs/stable/indexing.html#indexing-view-versus-copy\n",
      "  after removing the cwd from sys.path.\n",
      "/usr/local/anaconda3/lib/python3.6/site-packages/ipykernel_launcher.py:19: SettingWithCopyWarning: \n",
      "A value is trying to be set on a copy of a slice from a DataFrame.\n",
      "Try using .loc[row_indexer,col_indexer] = value instead\n",
      "\n",
      "See the caveats in the documentation: http://pandas.pydata.org/pandas-docs/stable/indexing.html#indexing-view-versus-copy\n"
     ]
    }
   ],
   "source": [
    "# Get the documents\n",
    "hl_docs = pd.read_pickle('data/coded_news.pkl')\n",
    "corpus = hl_docs[hl_docs.index.isin(hl.document_id)]\n",
    "corpus['text'] = corpus['text'].str.lower()\n",
    "from string import punctuation\n",
    "\n",
    "def preprocess(text):\n",
    "    raw_text = text\n",
    "    for s in punctuation:\n",
    "        raw_text = raw_text.replace(s,'')\n",
    "    for s in stopwords:\n",
    "        regex = re.compile(r\"\\b{}\\b\".format(s))\n",
    "        raw_text = re.sub(regex, '', raw_text)\n",
    "    raw_text = raw_text.replace('\\'','')\n",
    "    raw_text = raw_text.strip()\n",
    "    raw_text = \" \".join(raw_text.split())\n",
    "    return raw_text\n",
    "\n",
    "corpus['text'] = corpus['text'].apply(lambda x:preprocess(x))\n",
    "\n",
    "# Calculate term frequency\n",
    "vec = CountVectorizer(stop_words=stopwords)\n",
    "X = vec.fit_transform(corpus['text'])\n",
    "word_per_doc = pd.DataFrame(X.toarray(), columns=vec.get_feature_names())\n",
    "word_per_doc.index = corpus.index\n",
    "word_per_doc = word_per_doc.T\n",
    "word_per_doc = word_per_doc.reset_index().rename(columns={'index':'word'})\n",
    "word_per_doc = word_per_doc[word_per_doc.word.isin(vocab.word)]\n",
    "word_per_doc = word_per_doc.set_index('word').T\n",
    "word_per_doc = word_per_doc.fillna(0)"
   ]
  },
  {
   "cell_type": "markdown",
   "metadata": {},
   "source": [
    "The result is a D x W matrix where D = number of unique documents and W = number of unique words. Each cell in that matrix captures how often that word appeared in that document."
   ]
  },
  {
   "cell_type": "code",
   "execution_count": 35,
   "metadata": {},
   "outputs": [
    {
     "data": {
      "text/html": [
       "<div>\n",
       "<style scoped>\n",
       "    .dataframe tbody tr th:only-of-type {\n",
       "        vertical-align: middle;\n",
       "    }\n",
       "\n",
       "    .dataframe tbody tr th {\n",
       "        vertical-align: top;\n",
       "    }\n",
       "\n",
       "    .dataframe thead th {\n",
       "        text-align: right;\n",
       "    }\n",
       "</style>\n",
       "<table border=\"1\" class=\"dataframe\">\n",
       "  <thead>\n",
       "    <tr style=\"text-align: right;\">\n",
       "      <th>word</th>\n",
       "      <th>aback</th>\n",
       "      <th>abandon</th>\n",
       "      <th>abandoned</th>\n",
       "      <th>abandoning</th>\n",
       "      <th>abandonment</th>\n",
       "      <th>abdication</th>\n",
       "      <th>abdomen</th>\n",
       "      <th>abducted</th>\n",
       "      <th>abducting</th>\n",
       "      <th>abducts</th>\n",
       "      <th>...</th>\n",
       "      <th>zenith</th>\n",
       "      <th>zeroed</th>\n",
       "      <th>zinc</th>\n",
       "      <th>zingers</th>\n",
       "      <th>zombies</th>\n",
       "      <th>zone</th>\n",
       "      <th>zoned</th>\n",
       "      <th>zones</th>\n",
       "      <th>zoning</th>\n",
       "      <th>zoo</th>\n",
       "    </tr>\n",
       "  </thead>\n",
       "  <tbody>\n",
       "    <tr>\n",
       "      <th>4877</th>\n",
       "      <td>0</td>\n",
       "      <td>0</td>\n",
       "      <td>0</td>\n",
       "      <td>0</td>\n",
       "      <td>0</td>\n",
       "      <td>0</td>\n",
       "      <td>0</td>\n",
       "      <td>0</td>\n",
       "      <td>0</td>\n",
       "      <td>0</td>\n",
       "      <td>...</td>\n",
       "      <td>0</td>\n",
       "      <td>0</td>\n",
       "      <td>0</td>\n",
       "      <td>0</td>\n",
       "      <td>0</td>\n",
       "      <td>0</td>\n",
       "      <td>0</td>\n",
       "      <td>0</td>\n",
       "      <td>0</td>\n",
       "      <td>0</td>\n",
       "    </tr>\n",
       "    <tr>\n",
       "      <th>4879</th>\n",
       "      <td>0</td>\n",
       "      <td>0</td>\n",
       "      <td>0</td>\n",
       "      <td>0</td>\n",
       "      <td>0</td>\n",
       "      <td>0</td>\n",
       "      <td>0</td>\n",
       "      <td>0</td>\n",
       "      <td>0</td>\n",
       "      <td>0</td>\n",
       "      <td>...</td>\n",
       "      <td>0</td>\n",
       "      <td>0</td>\n",
       "      <td>0</td>\n",
       "      <td>0</td>\n",
       "      <td>0</td>\n",
       "      <td>0</td>\n",
       "      <td>0</td>\n",
       "      <td>0</td>\n",
       "      <td>0</td>\n",
       "      <td>0</td>\n",
       "    </tr>\n",
       "    <tr>\n",
       "      <th>4881</th>\n",
       "      <td>0</td>\n",
       "      <td>0</td>\n",
       "      <td>1</td>\n",
       "      <td>0</td>\n",
       "      <td>1</td>\n",
       "      <td>0</td>\n",
       "      <td>0</td>\n",
       "      <td>0</td>\n",
       "      <td>0</td>\n",
       "      <td>0</td>\n",
       "      <td>...</td>\n",
       "      <td>0</td>\n",
       "      <td>0</td>\n",
       "      <td>0</td>\n",
       "      <td>0</td>\n",
       "      <td>0</td>\n",
       "      <td>0</td>\n",
       "      <td>0</td>\n",
       "      <td>0</td>\n",
       "      <td>0</td>\n",
       "      <td>0</td>\n",
       "    </tr>\n",
       "    <tr>\n",
       "      <th>4887</th>\n",
       "      <td>0</td>\n",
       "      <td>0</td>\n",
       "      <td>0</td>\n",
       "      <td>0</td>\n",
       "      <td>0</td>\n",
       "      <td>0</td>\n",
       "      <td>0</td>\n",
       "      <td>0</td>\n",
       "      <td>0</td>\n",
       "      <td>0</td>\n",
       "      <td>...</td>\n",
       "      <td>0</td>\n",
       "      <td>0</td>\n",
       "      <td>0</td>\n",
       "      <td>0</td>\n",
       "      <td>0</td>\n",
       "      <td>0</td>\n",
       "      <td>0</td>\n",
       "      <td>0</td>\n",
       "      <td>0</td>\n",
       "      <td>0</td>\n",
       "    </tr>\n",
       "    <tr>\n",
       "      <th>4890</th>\n",
       "      <td>0</td>\n",
       "      <td>0</td>\n",
       "      <td>0</td>\n",
       "      <td>0</td>\n",
       "      <td>0</td>\n",
       "      <td>0</td>\n",
       "      <td>0</td>\n",
       "      <td>0</td>\n",
       "      <td>0</td>\n",
       "      <td>0</td>\n",
       "      <td>...</td>\n",
       "      <td>0</td>\n",
       "      <td>0</td>\n",
       "      <td>0</td>\n",
       "      <td>0</td>\n",
       "      <td>0</td>\n",
       "      <td>0</td>\n",
       "      <td>0</td>\n",
       "      <td>0</td>\n",
       "      <td>0</td>\n",
       "      <td>0</td>\n",
       "    </tr>\n",
       "  </tbody>\n",
       "</table>\n",
       "<p>5 rows × 15274 columns</p>\n",
       "</div>"
      ],
      "text/plain": [
       "word  aback  abandon  abandoned  abandoning  abandonment  abdication  abdomen  \\\n",
       "4877      0        0          0           0            0           0        0   \n",
       "4879      0        0          0           0            0           0        0   \n",
       "4881      0        0          1           0            1           0        0   \n",
       "4887      0        0          0           0            0           0        0   \n",
       "4890      0        0          0           0            0           0        0   \n",
       "\n",
       "word  abducted  abducting  abducts  ...  zenith  zeroed  zinc  zingers  \\\n",
       "4877         0          0        0  ...       0       0     0        0   \n",
       "4879         0          0        0  ...       0       0     0        0   \n",
       "4881         0          0        0  ...       0       0     0        0   \n",
       "4887         0          0        0  ...       0       0     0        0   \n",
       "4890         0          0        0  ...       0       0     0        0   \n",
       "\n",
       "word  zombies  zone  zoned  zones  zoning  zoo  \n",
       "4877        0     0      0      0       0    0  \n",
       "4879        0     0      0      0       0    0  \n",
       "4881        0     0      0      0       0    0  \n",
       "4887        0     0      0      0       0    0  \n",
       "4890        0     0      0      0       0    0  \n",
       "\n",
       "[5 rows x 15274 columns]"
      ]
     },
     "execution_count": 35,
     "metadata": {},
     "output_type": "execute_result"
    }
   ],
   "source": [
    "word_per_doc.head()"
   ]
  },
  {
   "cell_type": "markdown",
   "metadata": {},
   "source": [
    "#### 2) How many coders saw each document?"
   ]
  },
  {
   "cell_type": "markdown",
   "metadata": {},
   "source": [
    "In the following, we determine the total number of coders that have seen each document (see the `total_seen` column on the right.)"
   ]
  },
  {
   "cell_type": "code",
   "execution_count": 36,
   "metadata": {},
   "outputs": [],
   "source": [
    "coders_per_doc = hl.groupby('document_id').nunique()['coder_id']\n",
    "coders_per_doc = coders_per_doc.fillna(0)"
   ]
  },
  {
   "cell_type": "code",
   "execution_count": 37,
   "metadata": {},
   "outputs": [],
   "source": [
    "# Join these and multiply these with the above raw counts to get the total_seen variable \n",
    "total_seen = word_per_doc.join(coders_per_doc.rename('total_seen'))\n",
    "total_seen[[c for c in total_seen.columns if c != 'total_seen']] = total_seen[[c for c in total_seen.columns if c != 'total_seen']].multiply(total_seen['total_seen'], axis=0)"
   ]
  },
  {
   "cell_type": "code",
   "execution_count": 38,
   "metadata": {},
   "outputs": [
    {
     "data": {
      "text/html": [
       "<div>\n",
       "<style scoped>\n",
       "    .dataframe tbody tr th:only-of-type {\n",
       "        vertical-align: middle;\n",
       "    }\n",
       "\n",
       "    .dataframe tbody tr th {\n",
       "        vertical-align: top;\n",
       "    }\n",
       "\n",
       "    .dataframe thead th {\n",
       "        text-align: right;\n",
       "    }\n",
       "</style>\n",
       "<table border=\"1\" class=\"dataframe\">\n",
       "  <thead>\n",
       "    <tr style=\"text-align: right;\">\n",
       "      <th></th>\n",
       "      <th>aback</th>\n",
       "      <th>abandon</th>\n",
       "      <th>abandoned</th>\n",
       "      <th>abandoning</th>\n",
       "      <th>abandonment</th>\n",
       "      <th>abdication</th>\n",
       "      <th>abdomen</th>\n",
       "      <th>abducted</th>\n",
       "      <th>abducting</th>\n",
       "      <th>abducts</th>\n",
       "      <th>...</th>\n",
       "      <th>zeroed</th>\n",
       "      <th>zinc</th>\n",
       "      <th>zingers</th>\n",
       "      <th>zombies</th>\n",
       "      <th>zone</th>\n",
       "      <th>zoned</th>\n",
       "      <th>zones</th>\n",
       "      <th>zoning</th>\n",
       "      <th>zoo</th>\n",
       "      <th>total_seen</th>\n",
       "    </tr>\n",
       "  </thead>\n",
       "  <tbody>\n",
       "    <tr>\n",
       "      <th>4877</th>\n",
       "      <td>0</td>\n",
       "      <td>0</td>\n",
       "      <td>0</td>\n",
       "      <td>0</td>\n",
       "      <td>0</td>\n",
       "      <td>0</td>\n",
       "      <td>0</td>\n",
       "      <td>0</td>\n",
       "      <td>0</td>\n",
       "      <td>0</td>\n",
       "      <td>...</td>\n",
       "      <td>0</td>\n",
       "      <td>0</td>\n",
       "      <td>0</td>\n",
       "      <td>0</td>\n",
       "      <td>0</td>\n",
       "      <td>0</td>\n",
       "      <td>0</td>\n",
       "      <td>0</td>\n",
       "      <td>0</td>\n",
       "      <td>12</td>\n",
       "    </tr>\n",
       "    <tr>\n",
       "      <th>4879</th>\n",
       "      <td>0</td>\n",
       "      <td>0</td>\n",
       "      <td>0</td>\n",
       "      <td>0</td>\n",
       "      <td>0</td>\n",
       "      <td>0</td>\n",
       "      <td>0</td>\n",
       "      <td>0</td>\n",
       "      <td>0</td>\n",
       "      <td>0</td>\n",
       "      <td>...</td>\n",
       "      <td>0</td>\n",
       "      <td>0</td>\n",
       "      <td>0</td>\n",
       "      <td>0</td>\n",
       "      <td>0</td>\n",
       "      <td>0</td>\n",
       "      <td>0</td>\n",
       "      <td>0</td>\n",
       "      <td>0</td>\n",
       "      <td>11</td>\n",
       "    </tr>\n",
       "    <tr>\n",
       "      <th>4881</th>\n",
       "      <td>0</td>\n",
       "      <td>0</td>\n",
       "      <td>10</td>\n",
       "      <td>0</td>\n",
       "      <td>10</td>\n",
       "      <td>0</td>\n",
       "      <td>0</td>\n",
       "      <td>0</td>\n",
       "      <td>0</td>\n",
       "      <td>0</td>\n",
       "      <td>...</td>\n",
       "      <td>0</td>\n",
       "      <td>0</td>\n",
       "      <td>0</td>\n",
       "      <td>0</td>\n",
       "      <td>0</td>\n",
       "      <td>0</td>\n",
       "      <td>0</td>\n",
       "      <td>0</td>\n",
       "      <td>0</td>\n",
       "      <td>10</td>\n",
       "    </tr>\n",
       "    <tr>\n",
       "      <th>4887</th>\n",
       "      <td>0</td>\n",
       "      <td>0</td>\n",
       "      <td>0</td>\n",
       "      <td>0</td>\n",
       "      <td>0</td>\n",
       "      <td>0</td>\n",
       "      <td>0</td>\n",
       "      <td>0</td>\n",
       "      <td>0</td>\n",
       "      <td>0</td>\n",
       "      <td>...</td>\n",
       "      <td>0</td>\n",
       "      <td>0</td>\n",
       "      <td>0</td>\n",
       "      <td>0</td>\n",
       "      <td>0</td>\n",
       "      <td>0</td>\n",
       "      <td>0</td>\n",
       "      <td>0</td>\n",
       "      <td>0</td>\n",
       "      <td>9</td>\n",
       "    </tr>\n",
       "    <tr>\n",
       "      <th>4890</th>\n",
       "      <td>0</td>\n",
       "      <td>0</td>\n",
       "      <td>0</td>\n",
       "      <td>0</td>\n",
       "      <td>0</td>\n",
       "      <td>0</td>\n",
       "      <td>0</td>\n",
       "      <td>0</td>\n",
       "      <td>0</td>\n",
       "      <td>0</td>\n",
       "      <td>...</td>\n",
       "      <td>0</td>\n",
       "      <td>0</td>\n",
       "      <td>0</td>\n",
       "      <td>0</td>\n",
       "      <td>0</td>\n",
       "      <td>0</td>\n",
       "      <td>0</td>\n",
       "      <td>0</td>\n",
       "      <td>0</td>\n",
       "      <td>7</td>\n",
       "    </tr>\n",
       "  </tbody>\n",
       "</table>\n",
       "<p>5 rows × 15275 columns</p>\n",
       "</div>"
      ],
      "text/plain": [
       "      aback  abandon  abandoned  abandoning  abandonment  abdication  abdomen  \\\n",
       "4877      0        0          0           0            0           0        0   \n",
       "4879      0        0          0           0            0           0        0   \n",
       "4881      0        0         10           0           10           0        0   \n",
       "4887      0        0          0           0            0           0        0   \n",
       "4890      0        0          0           0            0           0        0   \n",
       "\n",
       "      abducted  abducting  abducts  ...  zeroed  zinc  zingers  zombies  zone  \\\n",
       "4877         0          0        0  ...       0     0        0        0     0   \n",
       "4879         0          0        0  ...       0     0        0        0     0   \n",
       "4881         0          0        0  ...       0     0        0        0     0   \n",
       "4887         0          0        0  ...       0     0        0        0     0   \n",
       "4890         0          0        0  ...       0     0        0        0     0   \n",
       "\n",
       "      zoned  zones  zoning  zoo  total_seen  \n",
       "4877      0      0       0    0          12  \n",
       "4879      0      0       0    0          11  \n",
       "4881      0      0       0    0          10  \n",
       "4887      0      0       0    0           9  \n",
       "4890      0      0       0    0           7  \n",
       "\n",
       "[5 rows x 15275 columns]"
      ]
     },
     "execution_count": 38,
     "metadata": {},
     "output_type": "execute_result"
    }
   ],
   "source": [
    "total_seen.head()"
   ]
  },
  {
   "cell_type": "code",
   "execution_count": 39,
   "metadata": {},
   "outputs": [],
   "source": [
    "# Now, get the column sum to obtain total number of times this word was seen by coders across documents and add that variable to the vocabulary\n",
    "vocab = vocab.join(total_seen[[c for c in total_seen.columns if c != 'total_seen']].sum().rename('total_seen'))"
   ]
  },
  {
   "cell_type": "markdown",
   "metadata": {},
   "source": [
    "#### 3) How often was each word seen by coders with a given foundation?"
   ]
  },
  {
   "cell_type": "markdown",
   "metadata": {},
   "source": [
    "Next up, we determine how often each word has been seen by a coder with a certain assigned foundation."
   ]
  },
  {
   "cell_type": "code",
   "execution_count": 40,
   "metadata": {},
   "outputs": [],
   "source": [
    "# Every unique coder is assigned a foundation per document \n",
    "# Question: for each document, get mapping of coder_id and assigned foundation \n",
    "\n",
    "# Make dataframe that is indexed by each document id\n",
    "# Loop over each document and get the coders and their assigned foundation \n",
    "seen_by_foundation = pd.DataFrame(index=corpus.index, columns=['seen_care', 'seen_fairness','seen_loyalty','seen_authority','seen_sanctity'])"
   ]
  },
  {
   "cell_type": "code",
   "execution_count": 41,
   "metadata": {},
   "outputs": [
    {
     "data": {
      "text/html": [
       "<div>\n",
       "<style scoped>\n",
       "    .dataframe tbody tr th:only-of-type {\n",
       "        vertical-align: middle;\n",
       "    }\n",
       "\n",
       "    .dataframe tbody tr th {\n",
       "        vertical-align: top;\n",
       "    }\n",
       "\n",
       "    .dataframe thead th {\n",
       "        text-align: right;\n",
       "    }\n",
       "</style>\n",
       "<table border=\"1\" class=\"dataframe\">\n",
       "  <thead>\n",
       "    <tr style=\"text-align: right;\">\n",
       "      <th></th>\n",
       "      <th>seen_care</th>\n",
       "      <th>seen_fairness</th>\n",
       "      <th>seen_loyalty</th>\n",
       "      <th>seen_authority</th>\n",
       "      <th>seen_sanctity</th>\n",
       "    </tr>\n",
       "  </thead>\n",
       "  <tbody>\n",
       "    <tr>\n",
       "      <th>4877</th>\n",
       "      <td>NaN</td>\n",
       "      <td>NaN</td>\n",
       "      <td>NaN</td>\n",
       "      <td>NaN</td>\n",
       "      <td>NaN</td>\n",
       "    </tr>\n",
       "    <tr>\n",
       "      <th>4879</th>\n",
       "      <td>NaN</td>\n",
       "      <td>NaN</td>\n",
       "      <td>NaN</td>\n",
       "      <td>NaN</td>\n",
       "      <td>NaN</td>\n",
       "    </tr>\n",
       "    <tr>\n",
       "      <th>4881</th>\n",
       "      <td>NaN</td>\n",
       "      <td>NaN</td>\n",
       "      <td>NaN</td>\n",
       "      <td>NaN</td>\n",
       "      <td>NaN</td>\n",
       "    </tr>\n",
       "    <tr>\n",
       "      <th>4887</th>\n",
       "      <td>NaN</td>\n",
       "      <td>NaN</td>\n",
       "      <td>NaN</td>\n",
       "      <td>NaN</td>\n",
       "      <td>NaN</td>\n",
       "    </tr>\n",
       "    <tr>\n",
       "      <th>4890</th>\n",
       "      <td>NaN</td>\n",
       "      <td>NaN</td>\n",
       "      <td>NaN</td>\n",
       "      <td>NaN</td>\n",
       "      <td>NaN</td>\n",
       "    </tr>\n",
       "  </tbody>\n",
       "</table>\n",
       "</div>"
      ],
      "text/plain": [
       "     seen_care seen_fairness seen_loyalty seen_authority seen_sanctity\n",
       "4877       NaN           NaN          NaN            NaN           NaN\n",
       "4879       NaN           NaN          NaN            NaN           NaN\n",
       "4881       NaN           NaN          NaN            NaN           NaN\n",
       "4887       NaN           NaN          NaN            NaN           NaN\n",
       "4890       NaN           NaN          NaN            NaN           NaN"
      ]
     },
     "execution_count": 41,
     "metadata": {},
     "output_type": "execute_result"
    }
   ],
   "source": [
    "seen_by_foundation.head()"
   ]
  },
  {
   "cell_type": "code",
   "execution_count": 42,
   "metadata": {},
   "outputs": [],
   "source": [
    "# In a first step, loop over the unique documents\n",
    "doc_ids = seen_by_foundation.index.unique()\n",
    "for doc_id in doc_ids:\n",
    "    # Select all the hls that correspond to that doc_id\n",
    "    document = hl[hl['document_id'] == doc_id]\n",
    "    # Obtain the unique coder_ids per document and their assigned foundations\n",
    "    coders_foundation = document.groupby('assigned_domain').nunique()['coder_id']\n",
    "    # Join these counts with the seen_by_foundation dataframe\n",
    "    try:\n",
    "        seen_by_foundation.at[doc_id, 'seen_care'] = coders_foundation.care\n",
    "    except:\n",
    "        pass\n",
    "    try:\n",
    "        seen_by_foundation.at[doc_id, 'seen_fairness'] = coders_foundation.fairness\n",
    "    except:\n",
    "        pass\n",
    "    try:\n",
    "        seen_by_foundation.at[doc_id, 'seen_loyalty'] = coders_foundation.loyalty\n",
    "    except:\n",
    "        pass\n",
    "    try:\n",
    "        seen_by_foundation.at[doc_id, 'seen_authority'] = coders_foundation.authority\n",
    "    except:\n",
    "        pass\n",
    "    try:\n",
    "        seen_by_foundation.at[doc_id, 'seen_sanctity'] = coders_foundation.sanctity\n",
    "    except:\n",
    "        pass"
   ]
  },
  {
   "cell_type": "code",
   "execution_count": 43,
   "metadata": {},
   "outputs": [],
   "source": [
    "seen_by_foundation = seen_by_foundation.fillna(0)"
   ]
  },
  {
   "cell_type": "code",
   "execution_count": 44,
   "metadata": {},
   "outputs": [
    {
     "data": {
      "text/html": [
       "<div>\n",
       "<style scoped>\n",
       "    .dataframe tbody tr th:only-of-type {\n",
       "        vertical-align: middle;\n",
       "    }\n",
       "\n",
       "    .dataframe tbody tr th {\n",
       "        vertical-align: top;\n",
       "    }\n",
       "\n",
       "    .dataframe thead th {\n",
       "        text-align: right;\n",
       "    }\n",
       "</style>\n",
       "<table border=\"1\" class=\"dataframe\">\n",
       "  <thead>\n",
       "    <tr style=\"text-align: right;\">\n",
       "      <th></th>\n",
       "      <th>seen_care</th>\n",
       "      <th>seen_fairness</th>\n",
       "      <th>seen_loyalty</th>\n",
       "      <th>seen_authority</th>\n",
       "      <th>seen_sanctity</th>\n",
       "    </tr>\n",
       "  </thead>\n",
       "  <tbody>\n",
       "    <tr>\n",
       "      <th>4877</th>\n",
       "      <td>0</td>\n",
       "      <td>2</td>\n",
       "      <td>1</td>\n",
       "      <td>5</td>\n",
       "      <td>4</td>\n",
       "    </tr>\n",
       "    <tr>\n",
       "      <th>4879</th>\n",
       "      <td>2</td>\n",
       "      <td>0</td>\n",
       "      <td>2</td>\n",
       "      <td>7</td>\n",
       "      <td>0</td>\n",
       "    </tr>\n",
       "    <tr>\n",
       "      <th>4881</th>\n",
       "      <td>2</td>\n",
       "      <td>2</td>\n",
       "      <td>2</td>\n",
       "      <td>0</td>\n",
       "      <td>4</td>\n",
       "    </tr>\n",
       "    <tr>\n",
       "      <th>4887</th>\n",
       "      <td>2</td>\n",
       "      <td>2</td>\n",
       "      <td>3</td>\n",
       "      <td>1</td>\n",
       "      <td>1</td>\n",
       "    </tr>\n",
       "    <tr>\n",
       "      <th>4890</th>\n",
       "      <td>4</td>\n",
       "      <td>0</td>\n",
       "      <td>0</td>\n",
       "      <td>0</td>\n",
       "      <td>3</td>\n",
       "    </tr>\n",
       "  </tbody>\n",
       "</table>\n",
       "</div>"
      ],
      "text/plain": [
       "      seen_care  seen_fairness  seen_loyalty  seen_authority  seen_sanctity\n",
       "4877          0              2             1               5              4\n",
       "4879          2              0             2               7              0\n",
       "4881          2              2             2               0              4\n",
       "4887          2              2             3               1              1\n",
       "4890          4              0             0               0              3"
      ]
     },
     "execution_count": 44,
     "metadata": {},
     "output_type": "execute_result"
    }
   ],
   "source": [
    "seen_by_foundation.head()"
   ]
  },
  {
   "cell_type": "code",
   "execution_count": 45,
   "metadata": {},
   "outputs": [],
   "source": [
    "# Join the coders per foundation with the word counts per document\n",
    "seen_by_foundation = seen_by_foundation.join(word_per_doc)"
   ]
  },
  {
   "cell_type": "code",
   "execution_count": 46,
   "metadata": {},
   "outputs": [
    {
     "data": {
      "text/html": [
       "<div>\n",
       "<style scoped>\n",
       "    .dataframe tbody tr th:only-of-type {\n",
       "        vertical-align: middle;\n",
       "    }\n",
       "\n",
       "    .dataframe tbody tr th {\n",
       "        vertical-align: top;\n",
       "    }\n",
       "\n",
       "    .dataframe thead th {\n",
       "        text-align: right;\n",
       "    }\n",
       "</style>\n",
       "<table border=\"1\" class=\"dataframe\">\n",
       "  <thead>\n",
       "    <tr style=\"text-align: right;\">\n",
       "      <th></th>\n",
       "      <th>seen_care</th>\n",
       "      <th>seen_fairness</th>\n",
       "      <th>seen_loyalty</th>\n",
       "      <th>seen_authority</th>\n",
       "      <th>seen_sanctity</th>\n",
       "      <th>aback</th>\n",
       "      <th>abandon</th>\n",
       "      <th>abandoned</th>\n",
       "      <th>abandoning</th>\n",
       "      <th>abandonment</th>\n",
       "      <th>...</th>\n",
       "      <th>zenith</th>\n",
       "      <th>zeroed</th>\n",
       "      <th>zinc</th>\n",
       "      <th>zingers</th>\n",
       "      <th>zombies</th>\n",
       "      <th>zone</th>\n",
       "      <th>zoned</th>\n",
       "      <th>zones</th>\n",
       "      <th>zoning</th>\n",
       "      <th>zoo</th>\n",
       "    </tr>\n",
       "  </thead>\n",
       "  <tbody>\n",
       "    <tr>\n",
       "      <th>4877</th>\n",
       "      <td>0</td>\n",
       "      <td>2</td>\n",
       "      <td>1</td>\n",
       "      <td>5</td>\n",
       "      <td>4</td>\n",
       "      <td>0</td>\n",
       "      <td>0</td>\n",
       "      <td>0</td>\n",
       "      <td>0</td>\n",
       "      <td>0</td>\n",
       "      <td>...</td>\n",
       "      <td>0</td>\n",
       "      <td>0</td>\n",
       "      <td>0</td>\n",
       "      <td>0</td>\n",
       "      <td>0</td>\n",
       "      <td>0</td>\n",
       "      <td>0</td>\n",
       "      <td>0</td>\n",
       "      <td>0</td>\n",
       "      <td>0</td>\n",
       "    </tr>\n",
       "    <tr>\n",
       "      <th>4879</th>\n",
       "      <td>2</td>\n",
       "      <td>0</td>\n",
       "      <td>2</td>\n",
       "      <td>7</td>\n",
       "      <td>0</td>\n",
       "      <td>0</td>\n",
       "      <td>0</td>\n",
       "      <td>0</td>\n",
       "      <td>0</td>\n",
       "      <td>0</td>\n",
       "      <td>...</td>\n",
       "      <td>0</td>\n",
       "      <td>0</td>\n",
       "      <td>0</td>\n",
       "      <td>0</td>\n",
       "      <td>0</td>\n",
       "      <td>0</td>\n",
       "      <td>0</td>\n",
       "      <td>0</td>\n",
       "      <td>0</td>\n",
       "      <td>0</td>\n",
       "    </tr>\n",
       "    <tr>\n",
       "      <th>4881</th>\n",
       "      <td>2</td>\n",
       "      <td>2</td>\n",
       "      <td>2</td>\n",
       "      <td>0</td>\n",
       "      <td>4</td>\n",
       "      <td>0</td>\n",
       "      <td>0</td>\n",
       "      <td>1</td>\n",
       "      <td>0</td>\n",
       "      <td>1</td>\n",
       "      <td>...</td>\n",
       "      <td>0</td>\n",
       "      <td>0</td>\n",
       "      <td>0</td>\n",
       "      <td>0</td>\n",
       "      <td>0</td>\n",
       "      <td>0</td>\n",
       "      <td>0</td>\n",
       "      <td>0</td>\n",
       "      <td>0</td>\n",
       "      <td>0</td>\n",
       "    </tr>\n",
       "    <tr>\n",
       "      <th>4887</th>\n",
       "      <td>2</td>\n",
       "      <td>2</td>\n",
       "      <td>3</td>\n",
       "      <td>1</td>\n",
       "      <td>1</td>\n",
       "      <td>0</td>\n",
       "      <td>0</td>\n",
       "      <td>0</td>\n",
       "      <td>0</td>\n",
       "      <td>0</td>\n",
       "      <td>...</td>\n",
       "      <td>0</td>\n",
       "      <td>0</td>\n",
       "      <td>0</td>\n",
       "      <td>0</td>\n",
       "      <td>0</td>\n",
       "      <td>0</td>\n",
       "      <td>0</td>\n",
       "      <td>0</td>\n",
       "      <td>0</td>\n",
       "      <td>0</td>\n",
       "    </tr>\n",
       "    <tr>\n",
       "      <th>4890</th>\n",
       "      <td>4</td>\n",
       "      <td>0</td>\n",
       "      <td>0</td>\n",
       "      <td>0</td>\n",
       "      <td>3</td>\n",
       "      <td>0</td>\n",
       "      <td>0</td>\n",
       "      <td>0</td>\n",
       "      <td>0</td>\n",
       "      <td>0</td>\n",
       "      <td>...</td>\n",
       "      <td>0</td>\n",
       "      <td>0</td>\n",
       "      <td>0</td>\n",
       "      <td>0</td>\n",
       "      <td>0</td>\n",
       "      <td>0</td>\n",
       "      <td>0</td>\n",
       "      <td>0</td>\n",
       "      <td>0</td>\n",
       "      <td>0</td>\n",
       "    </tr>\n",
       "  </tbody>\n",
       "</table>\n",
       "<p>5 rows × 15279 columns</p>\n",
       "</div>"
      ],
      "text/plain": [
       "      seen_care  seen_fairness  seen_loyalty  seen_authority  seen_sanctity  \\\n",
       "4877          0              2             1               5              4   \n",
       "4879          2              0             2               7              0   \n",
       "4881          2              2             2               0              4   \n",
       "4887          2              2             3               1              1   \n",
       "4890          4              0             0               0              3   \n",
       "\n",
       "      aback  abandon  abandoned  abandoning  abandonment  ...  zenith  zeroed  \\\n",
       "4877      0        0          0           0            0  ...       0       0   \n",
       "4879      0        0          0           0            0  ...       0       0   \n",
       "4881      0        0          1           0            1  ...       0       0   \n",
       "4887      0        0          0           0            0  ...       0       0   \n",
       "4890      0        0          0           0            0  ...       0       0   \n",
       "\n",
       "      zinc  zingers  zombies  zone  zoned  zones  zoning  zoo  \n",
       "4877     0        0        0     0      0      0       0    0  \n",
       "4879     0        0        0     0      0      0       0    0  \n",
       "4881     0        0        0     0      0      0       0    0  \n",
       "4887     0        0        0     0      0      0       0    0  \n",
       "4890     0        0        0     0      0      0       0    0  \n",
       "\n",
       "[5 rows x 15279 columns]"
      ]
     },
     "execution_count": 46,
     "metadata": {},
     "output_type": "execute_result"
    }
   ],
   "source": [
    "seen_by_foundation.head()"
   ]
  },
  {
   "cell_type": "code",
   "execution_count": 47,
   "metadata": {},
   "outputs": [],
   "source": [
    "seen_cols = [c for c in seen_by_foundation.columns if c.startswith('seen_')]"
   ]
  },
  {
   "cell_type": "code",
   "execution_count": 48,
   "metadata": {},
   "outputs": [],
   "source": [
    "# Multiply each word count by the total sum of foundation-coders that saw this word\n",
    "for seen_f in seen_cols:\n",
    "    word_seen_vec = pd.DataFrame(seen_by_foundation[[seen_f]+[c for c in seen_by_foundation.columns if not c.startswith('seen_')]][[c for c in seen_by_foundation.columns if not c.startswith('seen_')]].apply(lambda x: x * seen_by_foundation[seen_f]).sum().rename(seen_f))\n",
    "    vocab = vocab.join(word_seen_vec)"
   ]
  },
  {
   "cell_type": "code",
   "execution_count": 49,
   "metadata": {},
   "outputs": [
    {
     "data": {
      "text/html": [
       "<div>\n",
       "<style scoped>\n",
       "    .dataframe tbody tr th:only-of-type {\n",
       "        vertical-align: middle;\n",
       "    }\n",
       "\n",
       "    .dataframe tbody tr th {\n",
       "        vertical-align: top;\n",
       "    }\n",
       "\n",
       "    .dataframe thead th {\n",
       "        text-align: right;\n",
       "    }\n",
       "</style>\n",
       "<table border=\"1\" class=\"dataframe\">\n",
       "  <thead>\n",
       "    <tr style=\"text-align: right;\">\n",
       "      <th></th>\n",
       "      <th>word</th>\n",
       "      <th>care_hlcts</th>\n",
       "      <th>fairness_hlcts</th>\n",
       "      <th>loyalty_hlcts</th>\n",
       "      <th>authority_hlcts</th>\n",
       "      <th>sanctity_hlcts</th>\n",
       "      <th>total_seen</th>\n",
       "      <th>seen_care</th>\n",
       "      <th>seen_fairness</th>\n",
       "      <th>seen_loyalty</th>\n",
       "      <th>seen_authority</th>\n",
       "      <th>seen_sanctity</th>\n",
       "    </tr>\n",
       "    <tr>\n",
       "      <th>word</th>\n",
       "      <th></th>\n",
       "      <th></th>\n",
       "      <th></th>\n",
       "      <th></th>\n",
       "      <th></th>\n",
       "      <th></th>\n",
       "      <th></th>\n",
       "      <th></th>\n",
       "      <th></th>\n",
       "      <th></th>\n",
       "      <th></th>\n",
       "      <th></th>\n",
       "    </tr>\n",
       "  </thead>\n",
       "  <tbody>\n",
       "    <tr>\n",
       "      <th>showcasing</th>\n",
       "      <td>showcasing</td>\n",
       "      <td>0.0</td>\n",
       "      <td>0.0</td>\n",
       "      <td>0.0</td>\n",
       "      <td>0.0</td>\n",
       "      <td>0.0</td>\n",
       "      <td>7.0</td>\n",
       "      <td>4.0</td>\n",
       "      <td>1.0</td>\n",
       "      <td>1.0</td>\n",
       "      <td>1.0</td>\n",
       "      <td>0.0</td>\n",
       "    </tr>\n",
       "    <tr>\n",
       "      <th>miscarried</th>\n",
       "      <td>miscarried</td>\n",
       "      <td>0.0</td>\n",
       "      <td>0.0</td>\n",
       "      <td>0.0</td>\n",
       "      <td>0.0</td>\n",
       "      <td>0.0</td>\n",
       "      <td>5.0</td>\n",
       "      <td>1.0</td>\n",
       "      <td>0.0</td>\n",
       "      <td>1.0</td>\n",
       "      <td>1.0</td>\n",
       "      <td>2.0</td>\n",
       "    </tr>\n",
       "    <tr>\n",
       "      <th>educated</th>\n",
       "      <td>educated</td>\n",
       "      <td>0.0</td>\n",
       "      <td>0.0</td>\n",
       "      <td>0.0</td>\n",
       "      <td>0.0</td>\n",
       "      <td>0.0</td>\n",
       "      <td>122.0</td>\n",
       "      <td>24.0</td>\n",
       "      <td>19.0</td>\n",
       "      <td>28.0</td>\n",
       "      <td>29.0</td>\n",
       "      <td>22.0</td>\n",
       "    </tr>\n",
       "    <tr>\n",
       "      <th>granting</th>\n",
       "      <td>granting</td>\n",
       "      <td>0.0</td>\n",
       "      <td>0.0</td>\n",
       "      <td>0.0</td>\n",
       "      <td>0.0</td>\n",
       "      <td>0.0</td>\n",
       "      <td>88.0</td>\n",
       "      <td>6.0</td>\n",
       "      <td>17.0</td>\n",
       "      <td>21.0</td>\n",
       "      <td>34.0</td>\n",
       "      <td>10.0</td>\n",
       "    </tr>\n",
       "    <tr>\n",
       "      <th>lost</th>\n",
       "      <td>lost</td>\n",
       "      <td>0.0</td>\n",
       "      <td>0.0</td>\n",
       "      <td>0.0</td>\n",
       "      <td>0.0</td>\n",
       "      <td>0.0</td>\n",
       "      <td>1577.0</td>\n",
       "      <td>318.0</td>\n",
       "      <td>317.0</td>\n",
       "      <td>298.0</td>\n",
       "      <td>370.0</td>\n",
       "      <td>275.0</td>\n",
       "    </tr>\n",
       "  </tbody>\n",
       "</table>\n",
       "</div>"
      ],
      "text/plain": [
       "                  word  care_hlcts  fairness_hlcts  loyalty_hlcts  \\\n",
       "word                                                                \n",
       "showcasing  showcasing         0.0             0.0            0.0   \n",
       "miscarried  miscarried         0.0             0.0            0.0   \n",
       "educated      educated         0.0             0.0            0.0   \n",
       "granting      granting         0.0             0.0            0.0   \n",
       "lost              lost         0.0             0.0            0.0   \n",
       "\n",
       "            authority_hlcts  sanctity_hlcts  total_seen  seen_care  \\\n",
       "word                                                                 \n",
       "showcasing              0.0             0.0         7.0        4.0   \n",
       "miscarried              0.0             0.0         5.0        1.0   \n",
       "educated                0.0             0.0       122.0       24.0   \n",
       "granting                0.0             0.0        88.0        6.0   \n",
       "lost                    0.0             0.0      1577.0      318.0   \n",
       "\n",
       "            seen_fairness  seen_loyalty  seen_authority  seen_sanctity  \n",
       "word                                                                    \n",
       "showcasing            1.0           1.0             1.0            0.0  \n",
       "miscarried            0.0           1.0             1.0            2.0  \n",
       "educated             19.0          28.0            29.0           22.0  \n",
       "granting             17.0          21.0            34.0           10.0  \n",
       "lost                317.0         298.0           370.0          275.0  "
      ]
     },
     "execution_count": 49,
     "metadata": {},
     "output_type": "execute_result"
    }
   ],
   "source": [
    "vocab.head()"
   ]
  },
  {
   "cell_type": "markdown",
   "metadata": {},
   "source": [
    "As can be seen from the above vocabulary, we now know that the word obscenity was seen a total of 9 times across all coders. Respectively, convoy has been seen by 1 care-coder, 1 fairness-coder, and so on."
   ]
  },
  {
   "cell_type": "code",
   "execution_count": 50,
   "metadata": {},
   "outputs": [],
   "source": [
    "vocab = vocab.dropna(subset=['total_seen'])\n",
    "vocab = vocab[vocab.total_seen > 0]"
   ]
  },
  {
   "cell_type": "markdown",
   "metadata": {},
   "source": [
    "### 4) Score Vocabulary"
   ]
  },
  {
   "cell_type": "markdown",
   "metadata": {},
   "source": [
    "As a first step in scoring the vocabulary, we iterate over all highlights. Once a word is found in the vocabulary, we first obtain the foundation of the highlight where this word was mentioned. Then, in the vocabulary, we go to the column that reflects this foundation and increment a `1`. By doing so, we create a vocabulary that reflects how often a certain word appeared in highlights with a certain foundation."
   ]
  },
  {
   "cell_type": "code",
   "execution_count": 51,
   "metadata": {},
   "outputs": [],
   "source": [
    "# Add columns to store sentiments of highlights\n",
    "for f in base_founds:\n",
    "    vocab[f+'_pos'] = 0.0\n",
    "    vocab[f+'_neg'] = 0.0\n",
    "    vocab[f+'_neu'] = 0.0\n",
    "    vocab[f+'_sent'] = 0.0 \n",
    "    \n",
    "vocab['avg_pos'] = 0.0\n",
    "vocab['avg_neg'] = 0.0\n",
    "vocab['avg_neu'] = 0.0"
   ]
  },
  {
   "cell_type": "code",
   "execution_count": 52,
   "metadata": {},
   "outputs": [],
   "source": [
    "# Iterate over each word in each highlight and increment foundation counts\n",
    "# Transform vocab into dictionary for faster hash functionality\n",
    "words = {k:0.0 for k in vocab.index} \n",
    "\n",
    "for i,row in hl.iterrows():\n",
    "\n",
    "    highlight = row.tokens\n",
    "    base_found = row.assigned_domain\n",
    "\n",
    "    pos = row.pos\n",
    "    neg = row.neg\n",
    "    neu = row.neu\n",
    "    comp = row.comp\n",
    "    \n",
    "    for word in highlight:\n",
    "        if word in words.keys():\n",
    "            vocab.at[str(word),base_found+'_hlcts'] += 1\n",
    "            vocab.at[str(word),base_found+'_pos'] += pos\n",
    "            vocab.at[str(word),base_found+'_neg'] += neg\n",
    "            vocab.at[str(word),base_found+'_neu'] += neu\n",
    "            vocab.at[str(word),base_found+'_sent'] += comp\n",
    "\n",
    "vocab['sum_hl'] = vocab[[c for c in vocab.columns if c.endswith('hlcts')]].sum(axis=1)\n",
    "vocab = vocab.fillna(0)"
   ]
  },
  {
   "cell_type": "code",
   "execution_count": 53,
   "metadata": {},
   "outputs": [],
   "source": [
    "vocab = vocab[vocab.sum_hl > 0]"
   ]
  },
  {
   "cell_type": "markdown",
   "metadata": {},
   "source": [
    "### 5) Divide highlight counts by seen_by Columns"
   ]
  },
  {
   "cell_type": "markdown",
   "metadata": {},
   "source": [
    "In the next step, we divide the total frequency a word has been highlighted with a certain foundation by the number of times this word has been seen by coders who were assigned that foundation. Doing so yields us a probabality that a word was highlighted by a coder. As an example, if the word `kill` has .8 in the Care_norm column, then this means that there is a 80% probability that `kill` was highlighted by a coder assigned the Care foundation."
   ]
  },
  {
   "cell_type": "code",
   "execution_count": 54,
   "metadata": {},
   "outputs": [],
   "source": [
    "# Create Probability columns \n",
    "for f in base_founds:\n",
    "    vocab[f+'_p'] = 0.0\n",
    "    \n",
    "for i,row in vocab.iterrows():\n",
    "    if row.seen_care != 0:\n",
    "        vocab.at[i, 'care_p'] = row['care_hlcts'] / row.seen_care\n",
    "        \n",
    "    if row.seen_fairness != 0:\n",
    "        vocab.at[i, 'fairness_p'] = row['fairness_hlcts'] / row.seen_fairness\n",
    "   \n",
    "    if row.seen_authority != 0:\n",
    "        vocab.at[i, 'authority_p'] = row['authority_hlcts'] / row.seen_authority\n",
    "\n",
    "    if row.seen_loyalty != 0:\n",
    "        vocab.at[i, 'loyalty_p'] = row['loyalty_hlcts'] / row.seen_loyalty\n",
    "        \n",
    "    if row.seen_sanctity != 0:\n",
    "        vocab.at[i, 'sanctity_p'] = row['sanctity_hlcts'] / row.seen_sanctity"
   ]
  },
  {
   "cell_type": "code",
   "execution_count": 55,
   "metadata": {},
   "outputs": [],
   "source": [
    "# Remove words whose probabilities are above 1 for any given foundation (caused by minor preprocessing glitches)\n",
    "probabilities = [c for c in vocab.columns if c.endswith('_p')]\n",
    "vocab = vocab.iloc[pd.np.where(vocab[probabilities].le(1).all(1, skipna=True))]"
   ]
  },
  {
   "cell_type": "code",
   "execution_count": 56,
   "metadata": {},
   "outputs": [
    {
     "name": "stdout",
     "output_type": "stream",
     "text": [
      "Total number in vocabulary: 15223\n"
     ]
    }
   ],
   "source": [
    "print('Total number in vocabulary:',len(vocab))"
   ]
  },
  {
   "cell_type": "code",
   "execution_count": 57,
   "metadata": {},
   "outputs": [],
   "source": [
    "# Ensure each word has been seen at least 10 times by any foundation coder\n",
    "vocab = vocab[(vocab['seen_care'] > 10) & (vocab['seen_fairness'] > 10) & (vocab['seen_loyalty'] > 10) & (vocab['seen_authority'] > 10) & (vocab['seen_sanctity'] > 10)] "
   ]
  },
  {
   "cell_type": "code",
   "execution_count": 58,
   "metadata": {},
   "outputs": [
    {
     "name": "stdout",
     "output_type": "stream",
     "text": [
      "Total number in vocabulary: 4917\n"
     ]
    }
   ],
   "source": [
    "print('Total number in vocabulary:',len(vocab))"
   ]
  },
  {
   "cell_type": "code",
   "execution_count": 59,
   "metadata": {},
   "outputs": [],
   "source": [
    "# Ensure each word has been highlighted at least 5 times with any foundation\n",
    "vocab = vocab.iloc[pd.np.where(vocab[[c for c in vocab.columns if c.endswith('_hlcts')]].ge(5).any(1, skipna=True))]"
   ]
  },
  {
   "cell_type": "code",
   "execution_count": 60,
   "metadata": {},
   "outputs": [
    {
     "name": "stdout",
     "output_type": "stream",
     "text": [
      "Total number in vocabulary: 3868\n"
     ]
    }
   ],
   "source": [
    "print('Total number in vocabulary:',len(vocab))"
   ]
  },
  {
   "cell_type": "code",
   "execution_count": 61,
   "metadata": {},
   "outputs": [],
   "source": [
    "# Divide sentiment columns by hlcts to obtain average sentiment scores\n",
    "for i,row in vocab.iterrows():\n",
    "    if row.care_hlcts != 0:\n",
    "        vocab.at[i, 'care_pos'] = row['care_pos'] / row.care_hlcts\n",
    "        vocab.at[i, 'care_neg'] = row['care_neg'] / row.care_hlcts\n",
    "        vocab.at[i, 'care_neu'] = row['care_neu'] / row.care_hlcts\n",
    "        vocab.at[i, 'care_sent'] = row['care_sent'] / row.care_hlcts\n",
    "        \n",
    "    if row.fairness_hlcts != 0:\n",
    "        vocab.at[i, 'fairness_pos'] = row['fairness_pos'] / row.fairness_hlcts\n",
    "        vocab.at[i, 'fairness_neg'] = row['fairness_neg'] / row.fairness_hlcts\n",
    "        vocab.at[i, 'fairness_neu'] = row['fairness_neu'] / row.fairness_hlcts\n",
    "        vocab.at[i, 'fairness_sent'] = row['fairness_sent'] / row.fairness_hlcts\n",
    "        \n",
    "    if row.loyalty_hlcts != 0:\n",
    "        vocab.at[i, 'loyalty_pos'] = row['loyalty_pos'] / row.loyalty_hlcts\n",
    "        vocab.at[i, 'loyalty_neg'] = row['loyalty_neg'] / row.loyalty_hlcts\n",
    "        vocab.at[i, 'loyalty_neu'] = row['loyalty_neu'] / row.loyalty_hlcts\n",
    "        vocab.at[i, 'loyalty_sent'] = row['loyalty_sent'] / row.loyalty_hlcts\n",
    "        \n",
    "    if row.authority_hlcts != 0:\n",
    "        vocab.at[i, 'authority_pos'] = row['authority_pos'] / row.authority_hlcts\n",
    "        vocab.at[i, 'authority_neg'] = row['authority_neg'] / row.authority_hlcts\n",
    "        vocab.at[i, 'authority_neu'] = row['authority_neu'] / row.authority_hlcts\n",
    "        vocab.at[i, 'authority_sent'] = row['authority_sent'] / row.authority_hlcts\n",
    "        \n",
    "    if row.sanctity_hlcts != 0:\n",
    "        vocab.at[i, 'sanctity_pos'] = row['sanctity_pos'] / row.sanctity_hlcts\n",
    "        vocab.at[i, 'sanctity_neg'] = row['sanctity_neg'] / row.sanctity_hlcts\n",
    "        vocab.at[i, 'sanctity_neu'] = row['sanctity_neu'] / row.sanctity_hlcts\n",
    "        vocab.at[i, 'sanctity_sent'] = row['sanctity_sent'] / row.sanctity_hlcts"
   ]
  },
  {
   "cell_type": "code",
   "execution_count": 62,
   "metadata": {},
   "outputs": [],
   "source": [
    "vocab = vocab.fillna(0)"
   ]
  },
  {
   "cell_type": "code",
   "execution_count": 63,
   "metadata": {},
   "outputs": [],
   "source": [
    "# Define aggregated columns\n",
    "weights_f = [c for c in vocab.columns if c.endswith('_norm')]"
   ]
  },
  {
   "cell_type": "code",
   "execution_count": 64,
   "metadata": {},
   "outputs": [],
   "source": [
    "sent_cols = [c for c in vocab.columns if c.endswith('_sent')]\n",
    "probabilities = [c for c in vocab.columns if c.endswith('_p')]"
   ]
  },
  {
   "cell_type": "code",
   "execution_count": 65,
   "metadata": {},
   "outputs": [],
   "source": [
    "vocab[probabilities+sent_cols].to_pickle('dictionaries/resampled_emfd_scoring.pkl')"
   ]
  },
  {
   "cell_type": "markdown",
   "metadata": {},
   "source": [
    "***"
   ]
  },
  {
   "cell_type": "markdown",
   "metadata": {},
   "source": [
    "## Compare with non-resampled E-MFD"
   ]
  },
  {
   "cell_type": "code",
   "execution_count": 66,
   "metadata": {},
   "outputs": [],
   "source": [
    "emfd = pd.read_pickle('dictionaries/emfd_scoring.pkl')"
   ]
  },
  {
   "cell_type": "code",
   "execution_count": 67,
   "metadata": {},
   "outputs": [],
   "source": [
    "sampled = pd.read_pickle('dictionaries/resampled_emfd_scoring.pkl')\n",
    "for f in sampled.columns:\n",
    "    sampled = sampled.rename(columns={f:'res_'+f})"
   ]
  },
  {
   "cell_type": "markdown",
   "metadata": {},
   "source": [
    "Below, we join together the foundation probabilities of the original E-MFD and the resampled E-MFD."
   ]
  },
  {
   "cell_type": "code",
   "execution_count": 68,
   "metadata": {},
   "outputs": [],
   "source": [
    "joined = emfd.join(sampled).dropna(how='any')"
   ]
  },
  {
   "cell_type": "markdown",
   "metadata": {},
   "source": [
    "Next, we subtract the E-MFD weights from the resampled E-MFD and obtain the absolute value of their difference."
   ]
  },
  {
   "cell_type": "code",
   "execution_count": 69,
   "metadata": {},
   "outputs": [],
   "source": [
    "joined['care-care'] = (joined['care_p'] - joined['res_care_p']).abs()\n",
    "joined['fairness-fairness'] = (joined['fairness_p'] - joined['res_fairness_p']).abs()\n",
    "joined['loyalty-loyalty'] = (joined['loyalty_p'] - joined['res_loyalty_p']).abs()\n",
    "joined['authority-authority'] = (joined['authority_p'] - joined['res_authority_p']).abs()\n",
    "joined['sanctity-sanctity'] = (joined['sanctity_p'] - joined['res_sanctity_p']).abs()\n",
    "\n",
    "joined['care_sent-care_sent'] = (joined['care_sent'] - joined['res_care_sent']).abs()\n",
    "joined['fairness_sent-fairness_sent'] = (joined['fairness_sent'] - joined['res_fairness_sent']).abs()\n",
    "joined['loyalty_sent-loyalty_sent'] = (joined['loyalty_sent'] - joined['res_loyalty_sent']).abs()\n",
    "joined['authority_sent-authority_sent'] = (joined['authority_sent'] - joined['res_authority_sent']).abs()\n",
    "joined['sanctity_sent-sanctity_sent'] = (joined['sanctity_sent'] - joined['res_sanctity_sent']).abs()"
   ]
  },
  {
   "cell_type": "code",
   "execution_count": 70,
   "metadata": {},
   "outputs": [],
   "source": [
    "diff_cols = ['care-care', 'fairness-fairness', 'loyalty-loyalty', \n",
    "             'authority-authority', 'sanctity-sanctity', \n",
    "            'care_sent-care_sent','fairness_sent-fairness_sent',\n",
    "            'loyalty_sent-loyalty_sent', 'authority_sent-authority_sent',\n",
    "            'sanctity_sent-sanctity_sent']"
   ]
  },
  {
   "cell_type": "markdown",
   "metadata": {},
   "source": [
    "As can be seen from the below table, the median absolute difference in weights is around 0.06, measured on a scale from 0 to 1."
   ]
  },
  {
   "cell_type": "code",
   "execution_count": 71,
   "metadata": {},
   "outputs": [
    {
     "data": {
      "text/html": [
       "<div>\n",
       "<style scoped>\n",
       "    .dataframe tbody tr th:only-of-type {\n",
       "        vertical-align: middle;\n",
       "    }\n",
       "\n",
       "    .dataframe tbody tr th {\n",
       "        vertical-align: top;\n",
       "    }\n",
       "\n",
       "    .dataframe thead th {\n",
       "        text-align: right;\n",
       "    }\n",
       "</style>\n",
       "<table border=\"1\" class=\"dataframe\">\n",
       "  <thead>\n",
       "    <tr style=\"text-align: right;\">\n",
       "      <th></th>\n",
       "      <th>care-care</th>\n",
       "      <th>fairness-fairness</th>\n",
       "      <th>loyalty-loyalty</th>\n",
       "      <th>authority-authority</th>\n",
       "      <th>sanctity-sanctity</th>\n",
       "      <th>care_sent-care_sent</th>\n",
       "      <th>fairness_sent-fairness_sent</th>\n",
       "      <th>loyalty_sent-loyalty_sent</th>\n",
       "      <th>authority_sent-authority_sent</th>\n",
       "      <th>sanctity_sent-sanctity_sent</th>\n",
       "    </tr>\n",
       "  </thead>\n",
       "  <tbody>\n",
       "    <tr>\n",
       "      <th>count</th>\n",
       "      <td>3185.00</td>\n",
       "      <td>3185.00</td>\n",
       "      <td>3185.00</td>\n",
       "      <td>3185.00</td>\n",
       "      <td>3185.00</td>\n",
       "      <td>3185.00</td>\n",
       "      <td>3185.00</td>\n",
       "      <td>3185.00</td>\n",
       "      <td>3185.00</td>\n",
       "      <td>3185.00</td>\n",
       "    </tr>\n",
       "    <tr>\n",
       "      <th>mean</th>\n",
       "      <td>0.02</td>\n",
       "      <td>0.02</td>\n",
       "      <td>0.02</td>\n",
       "      <td>0.02</td>\n",
       "      <td>0.02</td>\n",
       "      <td>0.06</td>\n",
       "      <td>0.06</td>\n",
       "      <td>0.06</td>\n",
       "      <td>0.06</td>\n",
       "      <td>0.06</td>\n",
       "    </tr>\n",
       "    <tr>\n",
       "      <th>std</th>\n",
       "      <td>0.03</td>\n",
       "      <td>0.03</td>\n",
       "      <td>0.02</td>\n",
       "      <td>0.03</td>\n",
       "      <td>0.03</td>\n",
       "      <td>0.09</td>\n",
       "      <td>0.09</td>\n",
       "      <td>0.08</td>\n",
       "      <td>0.08</td>\n",
       "      <td>0.09</td>\n",
       "    </tr>\n",
       "    <tr>\n",
       "      <th>min</th>\n",
       "      <td>0.00</td>\n",
       "      <td>0.00</td>\n",
       "      <td>0.00</td>\n",
       "      <td>0.00</td>\n",
       "      <td>0.00</td>\n",
       "      <td>0.00</td>\n",
       "      <td>0.00</td>\n",
       "      <td>0.00</td>\n",
       "      <td>0.00</td>\n",
       "      <td>0.00</td>\n",
       "    </tr>\n",
       "    <tr>\n",
       "      <th>25%</th>\n",
       "      <td>0.01</td>\n",
       "      <td>0.01</td>\n",
       "      <td>0.01</td>\n",
       "      <td>0.01</td>\n",
       "      <td>0.01</td>\n",
       "      <td>0.00</td>\n",
       "      <td>0.00</td>\n",
       "      <td>0.00</td>\n",
       "      <td>0.00</td>\n",
       "      <td>0.00</td>\n",
       "    </tr>\n",
       "    <tr>\n",
       "      <th>50%</th>\n",
       "      <td>0.02</td>\n",
       "      <td>0.02</td>\n",
       "      <td>0.02</td>\n",
       "      <td>0.02</td>\n",
       "      <td>0.01</td>\n",
       "      <td>0.03</td>\n",
       "      <td>0.04</td>\n",
       "      <td>0.03</td>\n",
       "      <td>0.03</td>\n",
       "      <td>0.03</td>\n",
       "    </tr>\n",
       "    <tr>\n",
       "      <th>75%</th>\n",
       "      <td>0.03</td>\n",
       "      <td>0.03</td>\n",
       "      <td>0.03</td>\n",
       "      <td>0.03</td>\n",
       "      <td>0.03</td>\n",
       "      <td>0.08</td>\n",
       "      <td>0.09</td>\n",
       "      <td>0.08</td>\n",
       "      <td>0.08</td>\n",
       "      <td>0.08</td>\n",
       "    </tr>\n",
       "    <tr>\n",
       "      <th>max</th>\n",
       "      <td>0.26</td>\n",
       "      <td>0.27</td>\n",
       "      <td>0.23</td>\n",
       "      <td>0.31</td>\n",
       "      <td>0.25</td>\n",
       "      <td>0.96</td>\n",
       "      <td>0.82</td>\n",
       "      <td>0.84</td>\n",
       "      <td>0.88</td>\n",
       "      <td>0.88</td>\n",
       "    </tr>\n",
       "  </tbody>\n",
       "</table>\n",
       "</div>"
      ],
      "text/plain": [
       "       care-care  fairness-fairness  loyalty-loyalty  authority-authority  \\\n",
       "count    3185.00            3185.00          3185.00              3185.00   \n",
       "mean        0.02               0.02             0.02                 0.02   \n",
       "std         0.03               0.03             0.02                 0.03   \n",
       "min         0.00               0.00             0.00                 0.00   \n",
       "25%         0.01               0.01             0.01                 0.01   \n",
       "50%         0.02               0.02             0.02                 0.02   \n",
       "75%         0.03               0.03             0.03                 0.03   \n",
       "max         0.26               0.27             0.23                 0.31   \n",
       "\n",
       "       sanctity-sanctity  care_sent-care_sent  fairness_sent-fairness_sent  \\\n",
       "count            3185.00              3185.00                      3185.00   \n",
       "mean                0.02                 0.06                         0.06   \n",
       "std                 0.03                 0.09                         0.09   \n",
       "min                 0.00                 0.00                         0.00   \n",
       "25%                 0.01                 0.00                         0.00   \n",
       "50%                 0.01                 0.03                         0.04   \n",
       "75%                 0.03                 0.08                         0.09   \n",
       "max                 0.25                 0.96                         0.82   \n",
       "\n",
       "       loyalty_sent-loyalty_sent  authority_sent-authority_sent  \\\n",
       "count                    3185.00                        3185.00   \n",
       "mean                        0.06                           0.06   \n",
       "std                         0.08                           0.08   \n",
       "min                         0.00                           0.00   \n",
       "25%                         0.00                           0.00   \n",
       "50%                         0.03                           0.03   \n",
       "75%                         0.08                           0.08   \n",
       "max                         0.84                           0.88   \n",
       "\n",
       "       sanctity_sent-sanctity_sent  \n",
       "count                      3185.00  \n",
       "mean                          0.06  \n",
       "std                           0.09  \n",
       "min                           0.00  \n",
       "25%                           0.00  \n",
       "50%                           0.03  \n",
       "75%                           0.08  \n",
       "max                           0.88  "
      ]
     },
     "execution_count": 71,
     "metadata": {},
     "output_type": "execute_result"
    }
   ],
   "source": [
    "joined[diff_cols].describe().round(2)"
   ]
  },
  {
   "cell_type": "markdown",
   "metadata": {},
   "source": [
    "**Distribution of Absolute Differences Between Weights**"
   ]
  },
  {
   "cell_type": "code",
   "execution_count": 72,
   "metadata": {},
   "outputs": [
    {
     "data": {
      "image/png": "[encoded data removed]",
      "text/plain": [
       "<Figure size 1152x216 with 5 Axes>"
      ]
     },
     "metadata": {
      "needs_background": "light"
     },
     "output_type": "display_data"
    }
   ],
   "source": [
    "fig, ax = plt.subplots(nrows=1, ncols=5, figsize=(16,3), sharey=True, sharex=True)\n",
    "joined['care-care'].plot(kind='hist',bins=100, ax=ax[0], title='Diff Care')\n",
    "joined['fairness-fairness'].plot(kind='hist',bins=100, ax=ax[1], title='Diff Fairness')\n",
    "joined['loyalty-loyalty'].plot(kind='hist',bins=100, ax=ax[2], title='Diff Loyalty')\n",
    "joined['authority-authority'].plot(kind='hist',bins=100, ax=ax[3], title='Diff Authority')\n",
    "joined['sanctity-sanctity'].plot(kind='hist',bins=100, ax=ax[4], title='Diff Sanctity')\n",
    "plt.tight_layout()"
   ]
  },
  {
   "cell_type": "code",
   "execution_count": 73,
   "metadata": {},
   "outputs": [
    {
     "data": {
      "text/plain": [
       "<matplotlib.axes._subplots.AxesSubplot at 0x7fa188642b00>"
      ]
     },
     "execution_count": 73,
     "metadata": {},
     "output_type": "execute_result"
    },
    {
     "data": {
      "image/png": "[encoded data removed]",
      "text/plain": [
       "<Figure size 1152x216 with 5 Axes>"
      ]
     },
     "metadata": {
      "needs_background": "light"
     },
     "output_type": "display_data"
    }
   ],
   "source": [
    "fig, ax = plt.subplots(nrows=1, ncols=5, figsize=(16,3), sharey=True, sharex=True)\n",
    "joined['care_sent-care_sent'].plot(kind='hist',bins=100, ax=ax[0], title='Diff Care')\n",
    "joined['fairness_sent-fairness_sent'].plot(kind='hist',bins=100, ax=ax[1], title='Diff Fairness')\n",
    "joined['loyalty_sent-loyalty_sent'].plot(kind='hist',bins=100, ax=ax[2], title='Diff Loyalty')\n",
    "joined['authority_sent-authority_sent'].plot(kind='hist',bins=100, ax=ax[3], title='Diff Authority')\n",
    "joined['sanctity_sent-sanctity_sent'].plot(kind='hist',bins=100, ax=ax[4], title='Diff Sanctity')"
   ]
  },
  {
   "cell_type": "markdown",
   "metadata": {},
   "source": [
    "Finally, the below heatmap illustrates the correlation between weights taken from the non-resampled E-MFD and the resampled E-MFD."
   ]
  },
  {
   "cell_type": "code",
   "execution_count": 74,
   "metadata": {},
   "outputs": [
    {
     "data": {
      "text/plain": [
       "Text(0.5, 1.0, 'Correlation between E-MFD Weights and Resampled MFD Weights')"
      ]
     },
     "execution_count": 74,
     "metadata": {},
     "output_type": "execute_result"
    },
    {
     "data": {
      "image/png": "[encoded data removed]",
      "text/plain": [
       "<Figure size 648x288 with 2 Axes>"
      ]
     },
     "metadata": {
      "needs_background": "light"
     },
     "output_type": "display_data"
    }
   ],
   "source": [
    "fig, ax = plt.subplots(figsize=(9,4))\n",
    "sns.heatmap(joined.corr()[[c for c in joined.columns if c.startswith('res')]].loc[probabilities+sent_cols].round(2), annot=True)\n",
    "plt.title('Correlation between E-MFD Weights and Resampled MFD Weights')"
   ]
  }
 ],
 "metadata": {
  "kernelspec": {
   "display_name": "Python 3",
   "language": "python",
   "name": "python3"
  },
  "language_info": {
   "codemirror_mode": {
    "name": "ipython",
    "version": 3
   },
   "file_extension": ".py",
   "mimetype": "text/x-python",
   "name": "python",
   "nbconvert_exporter": "python",
   "pygments_lexer": "ipython3",
   "version": "3.6.5"
  }
 },
 "nbformat": 4,
 "nbformat_minor": 2
}
